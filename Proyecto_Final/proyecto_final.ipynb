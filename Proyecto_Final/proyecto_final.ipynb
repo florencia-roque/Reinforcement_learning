{
 "cells": [
  {
   "cell_type": "markdown",
   "id": "f5269397",
   "metadata": {},
   "source": [
    "# TAR: Proyecto Final "
   ]
  },
  {
   "cell_type": "markdown",
   "id": "08a7abe9-8614-4628-97fb-9ff02e8356a5",
   "metadata": {},
   "source": [
    "## Tratamiento de datos"
   ]
  },
  {
   "cell_type": "code",
   "execution_count": null,
   "id": "92877699-7ffd-43d1-9a26-3422756fbf15",
   "metadata": {},
   "outputs": [],
   "source": [
    "import numpy as np\n",
    "import pandas as pd\n",
    "import os"
   ]
  },
  {
   "cell_type": "code",
   "execution_count": null,
   "id": "29b03faf-e978-4a7f-9960-38fa8988f3a1",
   "metadata": {},
   "outputs": [],
   "source": [
    "ruta_datosMOP = \"./Datos/MOP\"\n",
    "ruta_datosADME = \"./Datos/ADME\"\n",
    "ruta_datos_procesados = \"./Datos_procesados\"\n"
   ]
  },
  {
   "cell_type": "code",
   "execution_count": null,
   "id": "d848b442-fa12-4110-9cb6-5c7d67abb8f6",
   "metadata": {},
   "outputs": [],
   "source": []
  },
  {
   "cell_type": "code",
   "execution_count": null,
   "id": "fd54fec0-8ce2-46b4-94e3-3d4ef7fa6f05",
   "metadata": {},
   "outputs": [],
   "source": []
  },
  {
   "cell_type": "markdown",
   "id": "84091789-fefa-4480-8f2e-32b2b48f8a1a",
   "metadata": {},
   "source": [
    "## Entorno personalizado para el problema hidro-térmico"
   ]
  },
  {
   "cell_type": "code",
   "execution_count": null,
   "id": "a6ac42f1",
   "metadata": {},
   "outputs": [],
   "source": [
    "%pip install gymnasium"
   ]
  },
  {
   "cell_type": "code",
   "execution_count": null,
   "id": "3b317066",
   "metadata": {},
   "outputs": [],
   "source": [
    "import gymnasium as gym\n",
    "from gymnasium import spaces\n",
    "\n",
    "V_MAX = 0\n",
    "N_HIDRO = 0\n",
    "V0 = 0\n",
    "\n",
    "class HydroThermalEnv(gym.Env):\n",
    "    def __init__(self):\n",
    "        # Defino espacios de observación y acción\n",
    "        self.observation_space = spaces.Dict({\n",
    "            \"volumen\": spaces.Box(0.0, V_MAX, shape=()),\n",
    "            \"hidrologia\": spaces.Discrete(N_HIDRO),\n",
    "            \"tiempo\": spaces.Discrete(52)\n",
    "        })\n",
    "        # turbinar en [0, V_MAX] continuo o discretizado\n",
    "        self.action_space = spaces.Box(0.0, V_MAX, shape=())\n",
    "        ...\n",
    "    def reset(self, *, seed=None, options=None):\n",
    "        self.v = V0\n",
    "        self.t = 0\n",
    "        self.h = inicial_hidrologia()\n",
    "        return self._get_obs(), {}\n",
    "    def step(self, action):\n",
    "        qt = float(action)\n",
    "        # dinámica: v←v−q−d+a\n",
    "        self.v = np.clip(self.v - qt - self._vertido(qt) + self._aportes(), 0, V_MAX)\n",
    "        self.h = siguiente_hidrologia(self.t, self.h)\n",
    "        self.t += 1\n",
    "        # recompensa = −costo_termo(demanda_restante)\n",
    "        reward = -costo_termico(self.demanda(), qt, self.v)\n",
    "        done = (self.t >= T_MAX)\n",
    "        return self._get_obs(), reward, done, False, {}\n",
    "    def render(self): ...\n",
    "    def _get_obs(self):\n",
    "        return {\"volumen\": self.v, \"hidrologia\": self.h, \"tiempo\": self.t}"
   ]
  }
 ],
 "metadata": {
  "kernelspec": {
   "display_name": "Python 3 (ipykernel)",
   "language": "python",
   "name": "python3"
  },
  "language_info": {
   "codemirror_mode": {
    "name": "ipython",
    "version": 3
   },
   "file_extension": ".py",
   "mimetype": "text/x-python",
   "name": "python",
   "nbconvert_exporter": "python",
   "pygments_lexer": "ipython3",
   "version": "3.11.11"
  }
 },
 "nbformat": 4,
 "nbformat_minor": 5
}
