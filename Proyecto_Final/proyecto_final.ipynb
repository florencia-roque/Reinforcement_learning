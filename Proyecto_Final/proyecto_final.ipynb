{
 "cells": [
  {
   "cell_type": "markdown",
   "id": "f5269397",
   "metadata": {},
   "source": [
    "# TAR: Proyecto Final "
   ]
  },
  {
   "cell_type": "code",
   "execution_count": null,
   "id": "a6ac42f1",
   "metadata": {},
   "outputs": [],
   "source": [
    "%pip install gymnasium"
   ]
  },
  {
   "cell_type": "code",
   "execution_count": null,
   "id": "3b317066",
   "metadata": {},
   "outputs": [],
   "source": [
    "import gymnasium as gym\n",
    "from gymnasium import spaces\n",
    "\n",
    "V_MAX = 0\n",
    "N_HIDRO = 0\n",
    "V0 = 0\n",
    "\n",
    "class HydroThermalEnv(gym.Env):\n",
    "    def __init__(self):\n",
    "        # Defino espacios de observación y acción\n",
    "        self.observation_space = spaces.Dict({\n",
    "            \"volumen\": spaces.Box(0.0, V_MAX, shape=()),\n",
    "            \"hidrologia\": spaces.Discrete(N_HIDRO),\n",
    "            \"tiempo\": spaces.Discrete(52)\n",
    "        })\n",
    "        # turbinar en [0, V_MAX] continuo o discretizado\n",
    "        self.action_space = spaces.Box(0.0, V_MAX, shape=())\n",
    "        ...\n",
    "    def reset(self, *, seed=None, options=None):\n",
    "        self.v = V0\n",
    "        self.t = 0\n",
    "        self.h = inicial_hidrologia()\n",
    "        return self._get_obs(), {}\n",
    "    def step(self, action):\n",
    "        qt = float(action)\n",
    "        # dinámica: v←v−q−d+a\n",
    "        self.v = np.clip(self.v - qt - self._vertido(qt) + self._aportes(), 0, V_MAX)\n",
    "        self.h = siguiente_hidrologia(self.t, self.h)\n",
    "        self.t += 1\n",
    "        # recompensa = −costo_termo(demanda_restante)\n",
    "        reward = -costo_termico(self.demanda(), qt, self.v)\n",
    "        done = (self.t >= T_MAX)\n",
    "        return self._get_obs(), reward, done, False, {}\n",
    "    def render(self): ...\n",
    "    def _get_obs(self):\n",
    "        return {\"volumen\": self.v, \"hidrologia\": self.h, \"tiempo\": self.t}"
   ]
  }
 ],
 "metadata": {
  "kernelspec": {
   "display_name": ".venv",
   "language": "python",
   "name": "python3"
  },
  "language_info": {
   "codemirror_mode": {
    "name": "ipython",
    "version": 3
   },
   "file_extension": ".py",
   "mimetype": "text/x-python",
   "name": "python",
   "nbconvert_exporter": "python",
   "pygments_lexer": "ipython3",
   "version": "3.12.6"
  }
 },
 "nbformat": 4,
 "nbformat_minor": 5
}
