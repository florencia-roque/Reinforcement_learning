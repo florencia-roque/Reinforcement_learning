{
 "cells": [
  {
   "cell_type": "markdown",
   "id": "f5269397",
   "metadata": {},
   "source": [
    "# TAR: Proyecto Final "
   ]
  },
  {
   "cell_type": "code",
   "execution_count": null,
   "id": "03775a0c",
   "metadata": {},
   "outputs": [],
   "source": [
    "%pip install gymnasium pandas numpy"
   ]
  },
  {
   "cell_type": "markdown",
   "id": "08a7abe9-8614-4628-97fb-9ff02e8356a5",
   "metadata": {},
   "source": [
    "## Tratamiento de datos"
   ]
  },
  {
   "cell_type": "code",
   "execution_count": 1,
   "id": "92877699-7ffd-43d1-9a26-3422756fbf15",
   "metadata": {},
   "outputs": [],
   "source": [
    "import numpy as np\n",
    "import pandas as pd\n",
    "import os"
   ]
  },
  {
   "cell_type": "code",
   "execution_count": null,
   "id": "29b03faf-e978-4a7f-9960-38fa8988f3a1",
   "metadata": {},
   "outputs": [],
   "source": [
    "ruta_datosMOP = \"./Datos/MOP\"\n",
    "ruta_datosADME = \"./Datos/ADME\"\n",
    "ruta_datos_procesados = \"./Datos_procesados\""
   ]
  },
  {
   "cell_type": "markdown",
   "id": "84091789-fefa-4480-8f2e-32b2b48f8a1a",
   "metadata": {},
   "source": [
    "## Entorno personalizado para el problema hidro-térmico"
   ]
  },
  {
   "cell_type": "code",
   "execution_count": null,
   "id": "3b317066",
   "metadata": {},
   "outputs": [],
   "source": [
    "import gymnasium as gym\n",
    "from gymnasium import spaces\n",
    "\n",
    "T_MAX = 52\n",
    "V_MAX = 0\n",
    "N_HIDRO = 0\n",
    "V0 = 0\n",
    "\n",
    "def inicial_hidrologia(): ...\n",
    "\n",
    "def siguiente_hidrologia(tiempo, hidrologia_actual): ...\n",
    "\n",
    "def costo_termico(demanda, qt, vt): return 0\n",
    "\n",
    "def ingreso_exportacion(exportacion): return 0\n",
    "\n",
    "class HydroThermalEnv(gym.Env):\n",
    "    def _vertido(self, qt):\n",
    "        return np.max(self.v - qt + self._aportes() - V_MAX, 0)\n",
    "    \n",
    "    def _aportes(self): ...\n",
    "    \n",
    "    def _demanda(self): ...\n",
    "    \n",
    "    def _gen_eolico(self): ...\n",
    "\n",
    "    def _gen_solar(self): ...\n",
    "\n",
    "    def _gen_bio(self): ...\n",
    "\n",
    "    def _despachar(self, qt): ...\n",
    "\n",
    "    def __init__(self):\n",
    "        # Defino espacios de observación y acción\n",
    "        self.observation_space = spaces.Dict({\n",
    "            \"volumen\": spaces.Box(0.0, V_MAX, shape=()),\n",
    "            \"hidrologia\": spaces.Discrete(N_HIDRO),\n",
    "            \"tiempo\": spaces.Discrete(52)\n",
    "        })\n",
    "        # turbinar en [0, V_MAX] continuo\n",
    "        self.action_space = spaces.Box(0.0, V_MAX, shape=())\n",
    "\n",
    "    def reset(self, *, seed=None, options=None):\n",
    "        self.v = V0\n",
    "        self.t = 0\n",
    "        self.h = inicial_hidrologia()\n",
    "        info = {\n",
    "            \"volumen_inicial\": self.v,\n",
    "            \"hidrologia_inicial\": self.h,\n",
    "            \"tiempo_inicial\": self.t\n",
    "        }\n",
    "        return self._get_obs(), info\n",
    "    \n",
    "    def step(self, action):\n",
    "        # Validar que la acción esté en el espacio válido\n",
    "        assert self.action_space.contains(action), f\"Acción inválida: {action}. Debe estar en {self.action_space}\"\n",
    "        qt = float(action)\n",
    "        \n",
    "        # dinámica: v ← v − q − d + a\n",
    "        self.v = self.v - qt - self._vertido(qt) + self._aportes()\n",
    "        self.h = siguiente_hidrologia(self.t, self.h)\n",
    "        self.t += 1\n",
    "\n",
    "        # despacho: e_eolo + e_sol + e_bio + e_termico + e_hidro = dem + exp\n",
    "        exportacion = self._despachar(qt)\n",
    "\n",
    "        # recompensa = −costo_termico() + ingreso_exportacion()\n",
    "        reward = -costo_termico(self._demanda(), qt, self.v) + ingreso_exportacion(exportacion)\n",
    "        \n",
    "        done = (self.t >= T_MAX)\n",
    "        info = {\n",
    "            \"turbinado\": qt,\n",
    "            \"volumen\": self.v,\n",
    "            \"hidrologia\": self.h,\n",
    "            \"vertido\": self._vertido(qt),\n",
    "            \"exportacion\": exportacion,\n",
    "        }\n",
    "        return self._get_obs(), reward, done, False, info\n",
    "    \n",
    "    def render(self, mode='human'):\n",
    "        if mode == 'human':\n",
    "            print(f\"Semana {self.t}/52:\")\n",
    "            print(f\"  Volumen embalse: {self.v:.2f}/{V_MAX}\")\n",
    "            print(f\"  Estado hidrológico: {self.h}\")\n",
    "            print(f\"  Porcentaje llenado: {(self.v/V_MAX)*100:.1f}%\")\n",
    "            print(\"-\" * 30)\n",
    "        elif mode == 'rgb_array':\n",
    "            # Retornar una imagen como array numpy para grabación\n",
    "            pass\n",
    "        elif mode == 'ansi':\n",
    "            # Retornar string para mostrar en terminal\n",
    "            return f\"T:{self.t} V:{self.v:.1f} H:{self.h}\"\n",
    "        \n",
    "    def _get_obs(self):\n",
    "        # Mapeo de variables internas a observación del agente\n",
    "        obs = {\n",
    "            \"volumen\": self.v, \n",
    "            \"hidrologia\": self.h, \n",
    "            \"tiempo\": self.t\n",
    "        }\n",
    "        # Validar contra observation_space (opcional, útil para debug)\n",
    "        assert self.observation_space.contains(obs), f\"Observación inválida: {obs}. Debe estar en {self.observation_space}\"\n",
    "        return obs"
   ]
  }
 ],
 "metadata": {
  "kernelspec": {
   "display_name": ".venv",
   "language": "python",
   "name": "python3"
  },
  "language_info": {
   "codemirror_mode": {
    "name": "ipython",
    "version": 3
   },
   "file_extension": ".py",
   "mimetype": "text/x-python",
   "name": "python",
   "nbconvert_exporter": "python",
   "pygments_lexer": "ipython3",
   "version": "3.12.6"
  }
 },
 "nbformat": 4,
 "nbformat_minor": 5
}
