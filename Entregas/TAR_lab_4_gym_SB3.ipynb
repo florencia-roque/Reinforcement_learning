{
 "cells": [
  {
   "cell_type": "markdown",
   "id": "0a07caa9",
   "metadata": {},
   "source": [
    "# TAR: Taller de Aprendizaje por Refuerzo 2025\n",
    "## Laboratorio 5: Gymnasium + stable_baselines3\n",
    "\n",
    "### Stable Baselines3 (SB3) es una libreria algoritmos de reinforcement learning implementada en PyTorch. "
   ]
  },
  {
   "cell_type": "markdown",
   "id": "6c6e8ccf",
   "metadata": {},
   "source": [
    "*Ejecutar esta celda solo la primera vez (si estan usando un entorno local - es la misma del lab 4) para descargar e instalar los paquetes necesarios. Si ejecutan el notebook en colab tendran que ejecutarla cada vez que reinicien el kernel*"
   ]
  },
  {
   "cell_type": "code",
   "execution_count": 1,
   "id": "0f6ff98b",
   "metadata": {},
   "outputs": [],
   "source": [
    "# !apt install swig cmake\n",
    "# !pip install -r https://raw.githubusercontent.com/huggingface/deep-rl-class/main/notebooks/unit1/requirements-unit1.txt"
   ]
  },
  {
   "cell_type": "code",
   "execution_count": 2,
   "id": "25c02eca-0a57-49ae-ae7f-718bf912d858",
   "metadata": {},
   "outputs": [
    {
     "name": "stdout",
     "output_type": "stream",
     "text": [
      "cmake version 4.0.2\n",
      "\n",
      "CMake suite maintained and supported by Kitware (kitware.com/cmake).\n",
      "\n",
      "\n",
      "SWIG Version 4.3.1\n",
      "\n",
      "Compiled with x86_64-w64-mingw32-g++ [x86_64-w64-mingw32]\n",
      "\n",
      "Configured options: +pcre\n",
      "\n",
      "Please see https://www.swig.org for reporting bugs and further information\n",
      "\n"
     ]
    }
   ],
   "source": [
    "import subprocess\n",
    "\n",
    "print(subprocess.run([\"cmake\", \"--version\"], capture_output=True).stdout.decode())\n",
    "print(subprocess.run([\"swig\", \"-version\"], capture_output=True).stdout.decode())"
   ]
  },
  {
   "cell_type": "code",
   "execution_count": 3,
   "id": "3d8abcaf-fb8e-494a-a548-10b0cea4cd76",
   "metadata": {},
   "outputs": [
    {
     "name": "stdout",
     "output_type": "stream",
     "text": [
      "Requirement already satisfied: Box2D in c:\\users\\e090219\\appdata\\local\\miniconda3\\envs\\tar\\lib\\site-packages (2.3.10)\n"
     ]
    }
   ],
   "source": [
    "!pip install Box2D "
   ]
  },
  {
   "cell_type": "code",
   "execution_count": 4,
   "id": "655f5ecd-2e53-46e0-b373-1c736c381da7",
   "metadata": {},
   "outputs": [
    {
     "name": "stdout",
     "output_type": "stream",
     "text": [
      "2.3.10\n"
     ]
    }
   ],
   "source": [
    "import Box2D\n",
    "print(Box2D.__version__)"
   ]
  },
  {
   "cell_type": "code",
   "execution_count": 5,
   "id": "f4f94db3-69ea-46c7-a120-689a9b19d3ff",
   "metadata": {},
   "outputs": [],
   "source": [
    "# !pip install \"torch>=1.11\" \"gymnasium==0.28.1\" huggingface-hub~=0.8 wasabi "
   ]
  },
  {
   "cell_type": "code",
   "execution_count": 6,
   "id": "124d5c36-635b-412c-b221-19fbde25868e",
   "metadata": {},
   "outputs": [],
   "source": [
    "# !pip install gymnasium "
   ]
  },
  {
   "cell_type": "code",
   "execution_count": 7,
   "id": "c5b9cab3-7c7d-4b00-939b-ed7fde725e47",
   "metadata": {},
   "outputs": [],
   "source": [
    "# !pip install pygame --only-binary :all: "
   ]
  },
  {
   "cell_type": "code",
   "execution_count": 8,
   "id": "3aa1dbb9-2343-426a-9e0b-7400b4582eef",
   "metadata": {},
   "outputs": [],
   "source": [
    "# !pip install stable-baselines3==2.0.0a5 huggingface_sb3 swig "
   ]
  },
  {
   "cell_type": "code",
   "execution_count": 9,
   "id": "5588bc4c-6629-4c33-83df-b71ff5eab153",
   "metadata": {},
   "outputs": [],
   "source": [
    "# !pip install ipywidgets "
   ]
  },
  {
   "cell_type": "code",
   "execution_count": 10,
   "id": "beae6a53-a591-47f7-a027-0c54051be114",
   "metadata": {},
   "outputs": [
    {
     "name": "stdout",
     "output_type": "stream",
     "text": [
      "🔎 Verificando dependencias:\n",
      "\n",
      "gymnasium            ➜ ✅ Encontrado, versión: 0.28.1\n",
      "Box2D                ➜ ✅ Encontrado, versión: 2.3.10\n",
      "pygame               ➜ ✅ Encontrado, versión: 2.6.1\n",
      "stable_baselines3    ➜ ✅ Encontrado, versión: 2.0.0a5\n",
      "huggingface_sb3      ➜ ✅ Encontrado, versión: ✅ (versión no disponible)\n",
      "swig                 ➜ ✅ Encontrado, versión: 4.3.1\n",
      "\n",
      "✅ Verificación completa.\n"
     ]
    }
   ],
   "source": [
    "import importlib\n",
    "import sys\n",
    "\n",
    "# Paquetes a verificar con sus nombres de importación\n",
    "required_packages = {\n",
    "    \"gymnasium\": \"gymnasium\",\n",
    "    \"Box2D\": \"Box2D\",\n",
    "    \"pygame\": \"pygame\",\n",
    "    \"stable_baselines3\": \"stable_baselines3\",\n",
    "    \"huggingface_sb3\": \"huggingface_sb3\",\n",
    "    \"swig\": \"swig\"\n",
    "}\n",
    "\n",
    "print(\"🔎 Verificando dependencias:\\n\")\n",
    "\n",
    "for name, module in required_packages.items():\n",
    "    try:\n",
    "        mod = importlib.import_module(module)\n",
    "        version = getattr(mod, \"__version__\", \"✅ (versión no disponible)\")\n",
    "        print(f\"{name:20} ➜ ✅ Encontrado, versión: {version}\")\n",
    "    except ModuleNotFoundError:\n",
    "        print(f\"{name:20} ➜ ❌ No encontrado\")\n",
    "    except Exception as e:\n",
    "        print(f\"{name:20} ➜ ⚠️ Error: {e}\")\n",
    "\n",
    "print(\"\\n✅ Verificación completa.\")"
   ]
  },
  {
   "cell_type": "code",
   "execution_count": 11,
   "id": "d9e07e7e-49ca-4f1c-8a3f-6cf10d35f881",
   "metadata": {},
   "outputs": [
    {
     "name": "stdout",
     "output_type": "stream",
     "text": [
      "Ambiente cargado 🎯\n"
     ]
    }
   ],
   "source": [
    "import gymnasium as gym\n",
    "env = gym.make(\"LunarLander-v2\", render_mode=\"rgb_array\")\n",
    "obs, info = env.reset()\n",
    "print(\"Ambiente cargado 🎯\")"
   ]
  },
  {
   "cell_type": "code",
   "execution_count": 12,
   "id": "964791d2-2cb5-4d9c-b7f5-bd990806ac43",
   "metadata": {},
   "outputs": [
    {
     "name": "stdout",
     "output_type": "stream",
     "text": [
      "Python 3.11.11\n"
     ]
    }
   ],
   "source": [
    "!python --version"
   ]
  },
  {
   "cell_type": "markdown",
   "id": "18ea7653",
   "metadata": {},
   "source": [
    "#### IMPORTS"
   ]
  },
  {
   "cell_type": "code",
   "execution_count": 13,
   "id": "1a37e5ab",
   "metadata": {},
   "outputs": [],
   "source": [
    "import gymnasium as gym\n",
    "import numpy as np\n",
    "import matplotlib.pyplot as plt\n",
    "from tqdm import tqdm\n",
    "from comet_ml import Experiment\n",
    "from stable_baselines3.common.callbacks import BaseCallback"
   ]
  },
  {
   "cell_type": "markdown",
   "id": "7a36159a",
   "metadata": {},
   "source": [
    "## Ejercicio 1. Lunar Landing\n",
    "\n",
    "En este ejemplo entrenaremos un agente que aprenda a aterrizar correctamente una nave en la luna.\n",
    "Doc del ambiente: https://gymnasium.farama.org/environments/box2d/lunar_lander/\n"
   ]
  },
  {
   "cell_type": "markdown",
   "id": "a587de73",
   "metadata": {},
   "source": [
    "#### 1.1 Estudiar el ambiente"
   ]
  },
  {
   "cell_type": "code",
   "execution_count": 14,
   "id": "8b81f926",
   "metadata": {},
   "outputs": [
    {
     "name": "stdout",
     "output_type": "stream",
     "text": [
      "Tamaño del espacio de observación:  (8,)\n",
      "Tamaño del espacio de acción:  4\n"
     ]
    }
   ],
   "source": [
    "#TODO Definir el ambiente `LunarLander-v2` e imprimir el tamaño del espacio de observación y del espacio de acciones.\n",
    "\n",
    "env = gym.make(\"LunarLander-v2\", continuous=False, gravity=-1.62,\n",
    "               enable_wind=False, wind_power=15.0, turbulence_power=1.5)\n",
    "env.reset()\n",
    "\n",
    "tamaño_obs = env.observation_space.shape\n",
    "print(\"Tamaño del espacio de observación: \", tamaño_obs)\n",
    "\n",
    "tamaño_acciones = env.action_space.n\n",
    "print(\"Tamaño del espacio de acción: \", tamaño_acciones)"
   ]
  },
  {
   "cell_type": "markdown",
   "id": "b21826ea",
   "metadata": {},
   "source": [
    "El vector de **observación** corresponde a los siguientes parámetros de la nave:\n",
    "- posición en x\n",
    "- posición en y\n",
    "- velocidad lineal en x\n",
    "- velocidad lineal en y\n",
    "- ángulo\n",
    "- velocidad angular\n",
    "- variable binaria que representa si la pata izquierda toca el suelo o no\n",
    "- variable binaria que representa si la pata derecha toca el suelo o no\n",
    "\n",
    "\n",
    "Por otro lado, el espacio de **acciones** es:\n",
    "\n",
    "- Acción 0: no hacer nada\n",
    "- Acción 1: Encender el motor lateral izquierdo (empuja a la derecha)\n",
    "- Acción 2: Encender el motor principal (empuja hacia arriba)\n",
    "- Acción 3: Encender el motor lateral derecho (empuja a la izquierda)\n",
    "\n",
    "\n",
    "Función de **recompensa**:\n",
    "\n",
    "  Después de cada paso, se otorga una recompensa. La recompensa total de un episodio es la suma de las recompensas de todos los pasos dentro de ese episodio.\n",
    "\n",
    "  Para cada paso, la recompensa:\n",
    "\n",
    "- se incrementa/decrementa cuanto más cerca/más lejos esté la nave de la zona de aterrizaje\n",
    "- se incrementa/decrementa cuanto más lento/más rápido se mueva la nave\n",
    "- se decrementa cuanto más se incline la nave hacia los costados\n",
    "- se incrementa por 10 puntos para cada pata que toque el piso\n",
    "- se decrementa por 0.03 puntos por cada frame en que se use motor lateral\n",
    "- se decrementa por 0.3 puntos por cada frame en que se use el motor principal\n",
    "\n",
    "El episodio recibe una recompensa adicional de -100 si choca y +100 si aterriza de manera segura.\n",
    "\n",
    "Un episodio termina si:\n",
    "- la nave choca (el cuerpo principal, no las patas, de la nave entra en contacto con la luna)\n",
    "- la nave se sale del área visible (x sale de su rango)\n",
    "- la nave está en \"modo dormido\" (un cuerpo en \"modo dormido\" es uno que no se mueve y no choca con ningún otro cuerpo)\n",
    "\n",
    "El episodio se considera una solución si obtiene al menos 200 puntos."
   ]
  },
  {
   "cell_type": "markdown",
   "id": "aa3b0e18",
   "metadata": {},
   "source": [
    "##### Multi-procesamiento\n",
    "A continuación se vectoriza el ambiente para poder paralelizar el entrenamiento, (por suerte la libreria nos da las heramientas para lograr esto sin mucho esfuerzo)"
   ]
  },
  {
   "cell_type": "code",
   "execution_count": 15,
   "id": "37b3cbb8",
   "metadata": {},
   "outputs": [],
   "source": [
    "from stable_baselines3.common.env_util import make_vec_env\n",
    "\n",
    "# Create the environment\n",
    "env = make_vec_env('LunarLander-v2', n_envs=16)"
   ]
  },
  {
   "cell_type": "markdown",
   "id": "398af4b5",
   "metadata": {},
   "source": [
    "#### 1.2 Definir el modelo usando el modelo [Proximal Policy Optimization(PPO) de stable_baselines3](https://stable-baselines3.readthedocs.io/en/master/modules/ppo.html)\n",
    "\n",
    "Leer la documentación y variar diferentes hiperparámetros como `batch_size`, `gamma`, entre otros.\n",
    "\n",
    "¿Que tipo de metodo implementa?"
   ]
  },
  {
   "cell_type": "markdown",
   "id": "ff96fb8f",
   "metadata": {},
   "source": [
    "##### RESPUESTA --> \n",
    "PPO es un algoritmo de optimización de políticas:\n",
    "\n",
    "* Es on-policy (aprende de las acciones que realmente toma).\n",
    "* Pertenece a la familia de métodos de policy gradient.\n",
    "* Es una mejora de TRPO (Trust Region Policy Optimization), pero más simple.\n",
    "* Usa técnicas como clipping para limitar cuánto puede cambiar la política en cada actualización y así estabilizar el entrenamiento."
   ]
  },
  {
   "cell_type": "code",
   "execution_count": 16,
   "id": "14190933-20d6-47ee-814a-37e1db3416c3",
   "metadata": {},
   "outputs": [],
   "source": [
    "# !pip install comet-ml"
   ]
  },
  {
   "cell_type": "code",
   "execution_count": 17,
   "id": "c3946ebe-33df-4244-bf90-8178b3de8de5",
   "metadata": {},
   "outputs": [
    {
     "name": "stderr",
     "output_type": "stream",
     "text": [
      "\u001b[1;38;5;214mCOMET WARNING:\u001b[0m To get all data logged automatically, import comet_ml before the following modules: torch.\n",
      "\u001b[1;38;5;214mCOMET WARNING:\u001b[0m As you are running in a Jupyter environment, you will need to call `experiment.end()` when finished to ensure all metrics and code are logged before exiting.\n",
      "\u001b[1;38;5;39mCOMET INFO:\u001b[0m Experiment is live on comet.com https://www.comet.com/tar/lab4/301da4d11c2a47fbb9c86b82484273ab\n",
      "\n",
      "\u001b[1;38;5;214mCOMET WARNING:\u001b[0m Unknown error exporting current conda environment\n",
      "\u001b[1;38;5;214mCOMET WARNING:\u001b[0m Unknown error retrieving Conda package as an explicit file\n",
      "\u001b[1;38;5;214mCOMET WARNING:\u001b[0m Unknown error retrieving Conda information\n"
     ]
    }
   ],
   "source": [
    "# Inicialización del experimento (reemplazá con tu clave y proyecto)\n",
    "experiment = Experiment(\n",
    "    api_key=\"olHeoTp6comM3x5X987X7RuMm\",\n",
    "    project_name=\"lab4\",\n",
    "    workspace=\"tar\"\n",
    ")\n",
    "\n",
    "experiment.set_name(\"PPO\")"
   ]
  },
  {
   "cell_type": "code",
   "execution_count": 18,
   "id": "7addedbb-70f2-4ede-8ed2-8ce0c052b498",
   "metadata": {},
   "outputs": [
    {
     "name": "stdout",
     "output_type": "stream",
     "text": [
      "Using cpu device\n"
     ]
    }
   ],
   "source": [
    "from stable_baselines3 import PPO\n",
    "\n",
    "# Definición de hiperparámetros\n",
    "hyperparams = {\n",
    "    \"policy\": \"MlpPolicy\",\n",
    "    \"batch_size\": 64,\n",
    "    \"gamma\": 0.99,\n",
    "    \"n_steps\": 2048,\n",
    "    \"ent_coef\": 0.01,\n",
    "    \"learning_rate\": 3e-4\n",
    "}\n",
    "\n",
    "# Loggear en Comet\n",
    "experiment.log_parameters(hyperparams)\n",
    "\n",
    "# Crear el modelo\n",
    "model = PPO(\n",
    "    policy=hyperparams[\"policy\"],\n",
    "    env=env,\n",
    "    verbose=1,\n",
    "    batch_size=hyperparams[\"batch_size\"],\n",
    "    gamma=hyperparams[\"gamma\"],\n",
    "    n_steps=hyperparams[\"n_steps\"],\n",
    "    ent_coef=hyperparams[\"ent_coef\"],\n",
    "    learning_rate=hyperparams[\"learning_rate\"]\n",
    ")"
   ]
  },
  {
   "cell_type": "code",
   "execution_count": 20,
   "id": "4d241c6c-fcbb-421d-b233-29554cef4f37",
   "metadata": {},
   "outputs": [],
   "source": [
    "class CometCallback(BaseCallback):\n",
    "    def __init__(self, experiment, verbose=0):\n",
    "        super().__init__(verbose)\n",
    "        self.experiment = experiment\n",
    "        self.episode_rewards = None\n",
    "\n",
    "    def _on_training_start(self) -> None:\n",
    "        n_envs = self.training_env.num_envs\n",
    "        self.episode_rewards = [[] for _ in range(n_envs)]\n",
    "\n",
    "    def _on_step(self) -> bool:\n",
    "        rewards = self.locals[\"rewards\"]\n",
    "        dones = self.locals[\"dones\"]\n",
    "\n",
    "        for i, (r, done) in enumerate(zip(rewards, dones)):\n",
    "            self.episode_rewards[i].append(r)\n",
    "            if done:\n",
    "                total = sum(self.episode_rewards[i])\n",
    "                self.experiment.log_metric(\"episode_reward\", total, step=self.num_timesteps)\n",
    "                self.episode_rewards[i] = []\n",
    "\n",
    "        return True\n"
   ]
  },
  {
   "cell_type": "code",
   "execution_count": 21,
   "id": "b8a9643b",
   "metadata": {
    "scrolled": true
   },
   "outputs": [
    {
     "name": "stdout",
     "output_type": "stream",
     "text": [
      "---------------------------------\n",
      "| rollout/           |          |\n",
      "|    ep_len_mean     | 90.7     |\n",
      "|    ep_rew_mean     | -194     |\n",
      "| time/              |          |\n",
      "|    fps             | 4538     |\n",
      "|    iterations      | 1        |\n",
      "|    time_elapsed    | 7        |\n",
      "|    total_timesteps | 32768    |\n",
      "---------------------------------\n",
      "-----------------------------------------\n",
      "| rollout/                |             |\n",
      "|    ep_len_mean          | 93.5        |\n",
      "|    ep_rew_mean          | -146        |\n",
      "| time/                   |             |\n",
      "|    fps                  | 2021        |\n",
      "|    iterations           | 2           |\n",
      "|    time_elapsed         | 32          |\n",
      "|    total_timesteps      | 65536       |\n",
      "| train/                  |             |\n",
      "|    approx_kl            | 0.007492196 |\n",
      "|    clip_fraction        | 0.0571      |\n",
      "|    clip_range           | 0.2         |\n",
      "|    entropy_loss         | -1.38       |\n",
      "|    explained_variance   | 0.001731813 |\n",
      "|    learning_rate        | 0.0003      |\n",
      "|    loss                 | 92.1        |\n",
      "|    n_updates            | 10          |\n",
      "|    policy_gradient_loss | -0.00633    |\n",
      "|    value_loss           | 832         |\n",
      "-----------------------------------------\n",
      "-----------------------------------------\n",
      "| rollout/                |             |\n",
      "|    ep_len_mean          | 103         |\n",
      "|    ep_rew_mean          | -109        |\n",
      "| time/                   |             |\n",
      "|    fps                  | 1706        |\n",
      "|    iterations           | 3           |\n",
      "|    time_elapsed         | 57          |\n",
      "|    total_timesteps      | 98304       |\n",
      "| train/                  |             |\n",
      "|    approx_kl            | 0.011366561 |\n",
      "|    clip_fraction        | 0.146       |\n",
      "|    clip_range           | 0.2         |\n",
      "|    entropy_loss         | -1.36       |\n",
      "|    explained_variance   | 0.493007    |\n",
      "|    learning_rate        | 0.0003      |\n",
      "|    loss                 | 152         |\n",
      "|    n_updates            | 20          |\n",
      "|    policy_gradient_loss | -0.0136     |\n",
      "|    value_loss           | 328         |\n",
      "-----------------------------------------\n",
      "-----------------------------------------\n",
      "| rollout/                |             |\n",
      "|    ep_len_mean          | 122         |\n",
      "|    ep_rew_mean          | -81.5       |\n",
      "| time/                   |             |\n",
      "|    fps                  | 1558        |\n",
      "|    iterations           | 4           |\n",
      "|    time_elapsed         | 84          |\n",
      "|    total_timesteps      | 131072      |\n",
      "| train/                  |             |\n",
      "|    approx_kl            | 0.012895908 |\n",
      "|    clip_fraction        | 0.186       |\n",
      "|    clip_range           | 0.2         |\n",
      "|    entropy_loss         | -1.31       |\n",
      "|    explained_variance   | 0.63182294  |\n",
      "|    learning_rate        | 0.0003      |\n",
      "|    loss                 | 119         |\n",
      "|    n_updates            | 30          |\n",
      "|    policy_gradient_loss | -0.0185     |\n",
      "|    value_loss           | 182         |\n",
      "-----------------------------------------\n",
      "-----------------------------------------\n",
      "| rollout/                |             |\n",
      "|    ep_len_mean          | 123         |\n",
      "|    ep_rew_mean          | -37.3       |\n",
      "| time/                   |             |\n",
      "|    fps                  | 1469        |\n",
      "|    iterations           | 5           |\n",
      "|    time_elapsed         | 111         |\n",
      "|    total_timesteps      | 163840      |\n",
      "| train/                  |             |\n",
      "|    approx_kl            | 0.013352172 |\n",
      "|    clip_fraction        | 0.203       |\n",
      "|    clip_range           | 0.2         |\n",
      "|    entropy_loss         | -1.26       |\n",
      "|    explained_variance   | 0.72368526  |\n",
      "|    learning_rate        | 0.0003      |\n",
      "|    loss                 | 77          |\n",
      "|    n_updates            | 40          |\n",
      "|    policy_gradient_loss | -0.0211     |\n",
      "|    value_loss           | 132         |\n",
      "-----------------------------------------\n",
      "-----------------------------------------\n",
      "| rollout/                |             |\n",
      "|    ep_len_mean          | 165         |\n",
      "|    ep_rew_mean          | -21.5       |\n",
      "| time/                   |             |\n",
      "|    fps                  | 1341        |\n",
      "|    iterations           | 6           |\n",
      "|    time_elapsed         | 146         |\n",
      "|    total_timesteps      | 196608      |\n",
      "| train/                  |             |\n",
      "|    approx_kl            | 0.015601472 |\n",
      "|    clip_fraction        | 0.226       |\n",
      "|    clip_range           | 0.2         |\n",
      "|    entropy_loss         | -1.19       |\n",
      "|    explained_variance   | 0.7788344   |\n",
      "|    learning_rate        | 0.0003      |\n",
      "|    loss                 | 26.6        |\n",
      "|    n_updates            | 50          |\n",
      "|    policy_gradient_loss | -0.0237     |\n",
      "|    value_loss           | 84          |\n",
      "-----------------------------------------\n",
      "-----------------------------------------\n",
      "| rollout/                |             |\n",
      "|    ep_len_mean          | 315         |\n",
      "|    ep_rew_mean          | -6.5        |\n",
      "| time/                   |             |\n",
      "|    fps                  | 1175        |\n",
      "|    iterations           | 7           |\n",
      "|    time_elapsed         | 195         |\n",
      "|    total_timesteps      | 229376      |\n",
      "| train/                  |             |\n",
      "|    approx_kl            | 0.015452966 |\n",
      "|    clip_fraction        | 0.206       |\n",
      "|    clip_range           | 0.2         |\n",
      "|    entropy_loss         | -1.11       |\n",
      "|    explained_variance   | 0.80314004  |\n",
      "|    learning_rate        | 0.0003      |\n",
      "|    loss                 | 31.5        |\n",
      "|    n_updates            | 60          |\n",
      "|    policy_gradient_loss | -0.0186     |\n",
      "|    value_loss           | 80.9        |\n",
      "-----------------------------------------\n",
      "-----------------------------------------\n",
      "| rollout/                |             |\n",
      "|    ep_len_mean          | 538         |\n",
      "|    ep_rew_mean          | 8.02        |\n",
      "| time/                   |             |\n",
      "|    fps                  | 1047        |\n",
      "|    iterations           | 8           |\n",
      "|    time_elapsed         | 250         |\n",
      "|    total_timesteps      | 262144      |\n",
      "| train/                  |             |\n",
      "|    approx_kl            | 0.016277727 |\n",
      "|    clip_fraction        | 0.208       |\n",
      "|    clip_range           | 0.2         |\n",
      "|    entropy_loss         | -1.17       |\n",
      "|    explained_variance   | 0.7660275   |\n",
      "|    learning_rate        | 0.0003      |\n",
      "|    loss                 | 16.4        |\n",
      "|    n_updates            | 70          |\n",
      "|    policy_gradient_loss | -0.0132     |\n",
      "|    value_loss           | 62.3        |\n",
      "-----------------------------------------\n",
      "-----------------------------------------\n",
      "| rollout/                |             |\n",
      "|    ep_len_mean          | 703         |\n",
      "|    ep_rew_mean          | 31.6        |\n",
      "| time/                   |             |\n",
      "|    fps                  | 964         |\n",
      "|    iterations           | 9           |\n",
      "|    time_elapsed         | 305         |\n",
      "|    total_timesteps      | 294912      |\n",
      "| train/                  |             |\n",
      "|    approx_kl            | 0.012558826 |\n",
      "|    clip_fraction        | 0.133       |\n",
      "|    clip_range           | 0.2         |\n",
      "|    entropy_loss         | -1.18       |\n",
      "|    explained_variance   | 0.74514765  |\n",
      "|    learning_rate        | 0.0003      |\n",
      "|    loss                 | 32.2        |\n",
      "|    n_updates            | 80          |\n",
      "|    policy_gradient_loss | -0.00848    |\n",
      "|    value_loss           | 46.5        |\n",
      "-----------------------------------------\n",
      "-----------------------------------------\n",
      "| rollout/                |             |\n",
      "|    ep_len_mean          | 811         |\n",
      "|    ep_rew_mean          | 54.9        |\n",
      "| time/                   |             |\n",
      "|    fps                  | 912         |\n",
      "|    iterations           | 10          |\n",
      "|    time_elapsed         | 359         |\n",
      "|    total_timesteps      | 327680      |\n",
      "| train/                  |             |\n",
      "|    approx_kl            | 0.011577945 |\n",
      "|    clip_fraction        | 0.153       |\n",
      "|    clip_range           | 0.2         |\n",
      "|    entropy_loss         | -1.19       |\n",
      "|    explained_variance   | 0.82147187  |\n",
      "|    learning_rate        | 0.0003      |\n",
      "|    loss                 | 30.4        |\n",
      "|    n_updates            | 90          |\n",
      "|    policy_gradient_loss | -0.00787    |\n",
      "|    value_loss           | 26.6        |\n",
      "-----------------------------------------\n",
      "-----------------------------------------\n",
      "| rollout/                |             |\n",
      "|    ep_len_mean          | 920         |\n",
      "|    ep_rew_mean          | 76.4        |\n",
      "| time/                   |             |\n",
      "|    fps                  | 870         |\n",
      "|    iterations           | 11          |\n",
      "|    time_elapsed         | 414         |\n",
      "|    total_timesteps      | 360448      |\n",
      "| train/                  |             |\n",
      "|    approx_kl            | 0.009340003 |\n",
      "|    clip_fraction        | 0.0882      |\n",
      "|    clip_range           | 0.2         |\n",
      "|    entropy_loss         | -1.18       |\n",
      "|    explained_variance   | 0.8762524   |\n",
      "|    learning_rate        | 0.0003      |\n",
      "|    loss                 | 4.07        |\n",
      "|    n_updates            | 100         |\n",
      "|    policy_gradient_loss | -0.00731    |\n",
      "|    value_loss           | 14.9        |\n",
      "-----------------------------------------\n",
      "-----------------------------------------\n",
      "| rollout/                |             |\n",
      "|    ep_len_mean          | 959         |\n",
      "|    ep_rew_mean          | 92.1        |\n",
      "| time/                   |             |\n",
      "|    fps                  | 845         |\n",
      "|    iterations           | 12          |\n",
      "|    time_elapsed         | 465         |\n",
      "|    total_timesteps      | 393216      |\n",
      "| train/                  |             |\n",
      "|    approx_kl            | 0.007207322 |\n",
      "|    clip_fraction        | 0.0715      |\n",
      "|    clip_range           | 0.2         |\n",
      "|    entropy_loss         | -1.15       |\n",
      "|    explained_variance   | 0.8937502   |\n",
      "|    learning_rate        | 0.0003      |\n",
      "|    loss                 | 3.44        |\n",
      "|    n_updates            | 110         |\n",
      "|    policy_gradient_loss | -0.00636    |\n",
      "|    value_loss           | 12.5        |\n",
      "-----------------------------------------\n",
      "----------------------------------------\n",
      "| rollout/                |            |\n",
      "|    ep_len_mean          | 965        |\n",
      "|    ep_rew_mean          | 99.2       |\n",
      "| time/                   |            |\n",
      "|    fps                  | 829        |\n",
      "|    iterations           | 13         |\n",
      "|    time_elapsed         | 513        |\n",
      "|    total_timesteps      | 425984     |\n",
      "| train/                  |            |\n",
      "|    approx_kl            | 0.00866142 |\n",
      "|    clip_fraction        | 0.0708     |\n",
      "|    clip_range           | 0.2        |\n",
      "|    entropy_loss         | -1.12      |\n",
      "|    explained_variance   | 0.9488505  |\n",
      "|    learning_rate        | 0.0003     |\n",
      "|    loss                 | 2.35       |\n",
      "|    n_updates            | 120        |\n",
      "|    policy_gradient_loss | -0.00671   |\n",
      "|    value_loss           | 8.22       |\n",
      "----------------------------------------\n",
      "-----------------------------------------\n",
      "| rollout/                |             |\n",
      "|    ep_len_mean          | 952         |\n",
      "|    ep_rew_mean          | 107         |\n",
      "| time/                   |             |\n",
      "|    fps                  | 817         |\n",
      "|    iterations           | 14          |\n",
      "|    time_elapsed         | 561         |\n",
      "|    total_timesteps      | 458752      |\n",
      "| train/                  |             |\n",
      "|    approx_kl            | 0.005789276 |\n",
      "|    clip_fraction        | 0.0613      |\n",
      "|    clip_range           | 0.2         |\n",
      "|    entropy_loss         | -1.08       |\n",
      "|    explained_variance   | 0.92630994  |\n",
      "|    learning_rate        | 0.0003      |\n",
      "|    loss                 | 1.79        |\n",
      "|    n_updates            | 130         |\n",
      "|    policy_gradient_loss | -0.00532    |\n",
      "|    value_loss           | 12.9        |\n",
      "-----------------------------------------\n",
      "------------------------------------------\n",
      "| rollout/                |              |\n",
      "|    ep_len_mean          | 921          |\n",
      "|    ep_rew_mean          | 106          |\n",
      "| time/                   |              |\n",
      "|    fps                  | 809          |\n",
      "|    iterations           | 15           |\n",
      "|    time_elapsed         | 607          |\n",
      "|    total_timesteps      | 491520       |\n",
      "| train/                  |              |\n",
      "|    approx_kl            | 0.0077837547 |\n",
      "|    clip_fraction        | 0.0883       |\n",
      "|    clip_range           | 0.2          |\n",
      "|    entropy_loss         | -1.06        |\n",
      "|    explained_variance   | 0.93487066   |\n",
      "|    learning_rate        | 0.0003       |\n",
      "|    loss                 | 0.922        |\n",
      "|    n_updates            | 140          |\n",
      "|    policy_gradient_loss | -0.00499     |\n",
      "|    value_loss           | 14.2         |\n",
      "------------------------------------------\n",
      "------------------------------------------\n",
      "| rollout/                |              |\n",
      "|    ep_len_mean          | 912          |\n",
      "|    ep_rew_mean          | 110          |\n",
      "| time/                   |              |\n",
      "|    fps                  | 801          |\n",
      "|    iterations           | 16           |\n",
      "|    time_elapsed         | 653          |\n",
      "|    total_timesteps      | 524288       |\n",
      "| train/                  |              |\n",
      "|    approx_kl            | 0.0065908153 |\n",
      "|    clip_fraction        | 0.05         |\n",
      "|    clip_range           | 0.2          |\n",
      "|    entropy_loss         | -1.03        |\n",
      "|    explained_variance   | 0.92167956   |\n",
      "|    learning_rate        | 0.0003       |\n",
      "|    loss                 | 18.8         |\n",
      "|    n_updates            | 150          |\n",
      "|    policy_gradient_loss | -0.00226     |\n",
      "|    value_loss           | 17.8         |\n",
      "------------------------------------------\n",
      "----------------------------------------\n",
      "| rollout/                |            |\n",
      "|    ep_len_mean          | 911        |\n",
      "|    ep_rew_mean          | 114        |\n",
      "| time/                   |            |\n",
      "|    fps                  | 795        |\n",
      "|    iterations           | 17         |\n",
      "|    time_elapsed         | 699        |\n",
      "|    total_timesteps      | 557056     |\n",
      "| train/                  |            |\n",
      "|    approx_kl            | 0.00695117 |\n",
      "|    clip_fraction        | 0.0686     |\n",
      "|    clip_range           | 0.2        |\n",
      "|    entropy_loss         | -0.965     |\n",
      "|    explained_variance   | 0.9395074  |\n",
      "|    learning_rate        | 0.0003     |\n",
      "|    loss                 | 0.954      |\n",
      "|    n_updates            | 160        |\n",
      "|    policy_gradient_loss | -0.00385   |\n",
      "|    value_loss           | 15.9       |\n",
      "----------------------------------------\n",
      "-----------------------------------------\n",
      "| rollout/                |             |\n",
      "|    ep_len_mean          | 891         |\n",
      "|    ep_rew_mean          | 119         |\n",
      "| time/                   |             |\n",
      "|    fps                  | 788         |\n",
      "|    iterations           | 18          |\n",
      "|    time_elapsed         | 748         |\n",
      "|    total_timesteps      | 589824      |\n",
      "| train/                  |             |\n",
      "|    approx_kl            | 0.004845068 |\n",
      "|    clip_fraction        | 0.0594      |\n",
      "|    clip_range           | 0.2         |\n",
      "|    entropy_loss         | -0.94       |\n",
      "|    explained_variance   | 0.95640343  |\n",
      "|    learning_rate        | 0.0003      |\n",
      "|    loss                 | 11.6        |\n",
      "|    n_updates            | 170         |\n",
      "|    policy_gradient_loss | -0.00294    |\n",
      "|    value_loss           | 12.4        |\n",
      "-----------------------------------------\n",
      "----------------------------------------\n",
      "| rollout/                |            |\n",
      "|    ep_len_mean          | 858        |\n",
      "|    ep_rew_mean          | 132        |\n",
      "| time/                   |            |\n",
      "|    fps                  | 774        |\n",
      "|    iterations           | 19         |\n",
      "|    time_elapsed         | 804        |\n",
      "|    total_timesteps      | 622592     |\n",
      "| train/                  |            |\n",
      "|    approx_kl            | 0.00523509 |\n",
      "|    clip_fraction        | 0.0589     |\n",
      "|    clip_range           | 0.2        |\n",
      "|    entropy_loss         | -0.923     |\n",
      "|    explained_variance   | 0.9029622  |\n",
      "|    learning_rate        | 0.0003     |\n",
      "|    loss                 | 0.683      |\n",
      "|    n_updates            | 180        |\n",
      "|    policy_gradient_loss | -0.00247   |\n",
      "|    value_loss           | 29.9       |\n",
      "----------------------------------------\n",
      "-----------------------------------------\n",
      "| rollout/                |             |\n",
      "|    ep_len_mean          | 867         |\n",
      "|    ep_rew_mean          | 143         |\n",
      "| time/                   |             |\n",
      "|    fps                  | 767         |\n",
      "|    iterations           | 20          |\n",
      "|    time_elapsed         | 853         |\n",
      "|    total_timesteps      | 655360      |\n",
      "| train/                  |             |\n",
      "|    approx_kl            | 0.006724816 |\n",
      "|    clip_fraction        | 0.058       |\n",
      "|    clip_range           | 0.2         |\n",
      "|    entropy_loss         | -0.883      |\n",
      "|    explained_variance   | 0.9038555   |\n",
      "|    learning_rate        | 0.0003      |\n",
      "|    loss                 | 76.6        |\n",
      "|    n_updates            | 190         |\n",
      "|    policy_gradient_loss | -0.00272    |\n",
      "|    value_loss           | 31.8        |\n",
      "-----------------------------------------\n",
      "------------------------------------------\n",
      "| rollout/                |              |\n",
      "|    ep_len_mean          | 867          |\n",
      "|    ep_rew_mean          | 138          |\n",
      "| time/                   |              |\n",
      "|    fps                  | 766          |\n",
      "|    iterations           | 21           |\n",
      "|    time_elapsed         | 898          |\n",
      "|    total_timesteps      | 688128       |\n",
      "| train/                  |              |\n",
      "|    approx_kl            | 0.0054196687 |\n",
      "|    clip_fraction        | 0.0555       |\n",
      "|    clip_range           | 0.2          |\n",
      "|    entropy_loss         | -0.84        |\n",
      "|    explained_variance   | 0.9514231    |\n",
      "|    learning_rate        | 0.0003       |\n",
      "|    loss                 | 33.8         |\n",
      "|    n_updates            | 200          |\n",
      "|    policy_gradient_loss | -0.00187     |\n",
      "|    value_loss           | 14.1         |\n",
      "------------------------------------------\n",
      "-----------------------------------------\n",
      "| rollout/                |             |\n",
      "|    ep_len_mean          | 865         |\n",
      "|    ep_rew_mean          | 133         |\n",
      "| time/                   |             |\n",
      "|    fps                  | 766         |\n",
      "|    iterations           | 22          |\n",
      "|    time_elapsed         | 940         |\n",
      "|    total_timesteps      | 720896      |\n",
      "| train/                  |             |\n",
      "|    approx_kl            | 0.004016103 |\n",
      "|    clip_fraction        | 0.0434      |\n",
      "|    clip_range           | 0.2         |\n",
      "|    entropy_loss         | -0.793      |\n",
      "|    explained_variance   | 0.9461613   |\n",
      "|    learning_rate        | 0.0003      |\n",
      "|    loss                 | 1.01        |\n",
      "|    n_updates            | 210         |\n",
      "|    policy_gradient_loss | -0.00216    |\n",
      "|    value_loss           | 16          |\n",
      "-----------------------------------------\n",
      "------------------------------------------\n",
      "| rollout/                |              |\n",
      "|    ep_len_mean          | 784          |\n",
      "|    ep_rew_mean          | 157          |\n",
      "| time/                   |              |\n",
      "|    fps                  | 761          |\n",
      "|    iterations           | 23           |\n",
      "|    time_elapsed         | 989          |\n",
      "|    total_timesteps      | 753664       |\n",
      "| train/                  |              |\n",
      "|    approx_kl            | 0.0050188997 |\n",
      "|    clip_fraction        | 0.0638       |\n",
      "|    clip_range           | 0.2          |\n",
      "|    entropy_loss         | -0.748       |\n",
      "|    explained_variance   | 0.9048161    |\n",
      "|    learning_rate        | 0.0003       |\n",
      "|    loss                 | 0.543        |\n",
      "|    n_updates            | 220          |\n",
      "|    policy_gradient_loss | -0.00194     |\n",
      "|    value_loss           | 33.9         |\n",
      "------------------------------------------\n",
      "-----------------------------------------\n",
      "| rollout/                |             |\n",
      "|    ep_len_mean          | 606         |\n",
      "|    ep_rew_mean          | 182         |\n",
      "| time/                   |             |\n",
      "|    fps                  | 763         |\n",
      "|    iterations           | 24          |\n",
      "|    time_elapsed         | 1029        |\n",
      "|    total_timesteps      | 786432      |\n",
      "| train/                  |             |\n",
      "|    approx_kl            | 0.011548657 |\n",
      "|    clip_fraction        | 0.137       |\n",
      "|    clip_range           | 0.2         |\n",
      "|    entropy_loss         | -0.734      |\n",
      "|    explained_variance   | 0.82134855  |\n",
      "|    learning_rate        | 0.0003      |\n",
      "|    loss                 | 81          |\n",
      "|    n_updates            | 230         |\n",
      "|    policy_gradient_loss | -0.00449    |\n",
      "|    value_loss           | 77.2        |\n",
      "-----------------------------------------\n",
      "-----------------------------------------\n",
      "| rollout/                |             |\n",
      "|    ep_len_mean          | 485         |\n",
      "|    ep_rew_mean          | 229         |\n",
      "| time/                   |             |\n",
      "|    fps                  | 768         |\n",
      "|    iterations           | 25          |\n",
      "|    time_elapsed         | 1066        |\n",
      "|    total_timesteps      | 819200      |\n",
      "| train/                  |             |\n",
      "|    approx_kl            | 0.018418327 |\n",
      "|    clip_fraction        | 0.107       |\n",
      "|    clip_range           | 0.2         |\n",
      "|    entropy_loss         | -0.727      |\n",
      "|    explained_variance   | 0.78002375  |\n",
      "|    learning_rate        | 0.0003      |\n",
      "|    loss                 | 44.5        |\n",
      "|    n_updates            | 240         |\n",
      "|    policy_gradient_loss | -0.00547    |\n",
      "|    value_loss           | 110         |\n",
      "-----------------------------------------\n",
      "-----------------------------------------\n",
      "| rollout/                |             |\n",
      "|    ep_len_mean          | 406         |\n",
      "|    ep_rew_mean          | 243         |\n",
      "| time/                   |             |\n",
      "|    fps                  | 774         |\n",
      "|    iterations           | 26          |\n",
      "|    time_elapsed         | 1099        |\n",
      "|    total_timesteps      | 851968      |\n",
      "| train/                  |             |\n",
      "|    approx_kl            | 0.009293998 |\n",
      "|    clip_fraction        | 0.079       |\n",
      "|    clip_range           | 0.2         |\n",
      "|    entropy_loss         | -0.722      |\n",
      "|    explained_variance   | 0.733865    |\n",
      "|    learning_rate        | 0.0003      |\n",
      "|    loss                 | 6.27        |\n",
      "|    n_updates            | 250         |\n",
      "|    policy_gradient_loss | -0.00402    |\n",
      "|    value_loss           | 115         |\n",
      "-----------------------------------------\n",
      "-----------------------------------------\n",
      "| rollout/                |             |\n",
      "|    ep_len_mean          | 373         |\n",
      "|    ep_rew_mean          | 242         |\n",
      "| time/                   |             |\n",
      "|    fps                  | 779         |\n",
      "|    iterations           | 27          |\n",
      "|    time_elapsed         | 1134        |\n",
      "|    total_timesteps      | 884736      |\n",
      "| train/                  |             |\n",
      "|    approx_kl            | 0.005691405 |\n",
      "|    clip_fraction        | 0.0633      |\n",
      "|    clip_range           | 0.2         |\n",
      "|    entropy_loss         | -0.745      |\n",
      "|    explained_variance   | 0.7959013   |\n",
      "|    learning_rate        | 0.0003      |\n",
      "|    loss                 | 21.8        |\n",
      "|    n_updates            | 260         |\n",
      "|    policy_gradient_loss | -0.00174    |\n",
      "|    value_loss           | 91.3        |\n",
      "-----------------------------------------\n",
      "-----------------------------------------\n",
      "| rollout/                |             |\n",
      "|    ep_len_mean          | 380         |\n",
      "|    ep_rew_mean          | 231         |\n",
      "| time/                   |             |\n",
      "|    fps                  | 779         |\n",
      "|    iterations           | 28          |\n",
      "|    time_elapsed         | 1176        |\n",
      "|    total_timesteps      | 917504      |\n",
      "| train/                  |             |\n",
      "|    approx_kl            | 0.006456136 |\n",
      "|    clip_fraction        | 0.0716      |\n",
      "|    clip_range           | 0.2         |\n",
      "|    entropy_loss         | -0.756      |\n",
      "|    explained_variance   | 0.85238     |\n",
      "|    learning_rate        | 0.0003      |\n",
      "|    loss                 | 18          |\n",
      "|    n_updates            | 270         |\n",
      "|    policy_gradient_loss | -0.0016     |\n",
      "|    value_loss           | 82.9        |\n",
      "-----------------------------------------\n",
      "------------------------------------------\n",
      "| rollout/                |              |\n",
      "|    ep_len_mean          | 362          |\n",
      "|    ep_rew_mean          | 240          |\n",
      "| time/                   |              |\n",
      "|    fps                  | 783          |\n",
      "|    iterations           | 29           |\n",
      "|    time_elapsed         | 1212         |\n",
      "|    total_timesteps      | 950272       |\n",
      "| train/                  |              |\n",
      "|    approx_kl            | 0.0060644513 |\n",
      "|    clip_fraction        | 0.0603       |\n",
      "|    clip_range           | 0.2          |\n",
      "|    entropy_loss         | -0.741       |\n",
      "|    explained_variance   | 0.87772346   |\n",
      "|    learning_rate        | 0.0003       |\n",
      "|    loss                 | 51.9         |\n",
      "|    n_updates            | 280          |\n",
      "|    policy_gradient_loss | -0.00114     |\n",
      "|    value_loss           | 74.7         |\n",
      "------------------------------------------\n",
      "-----------------------------------------\n",
      "| rollout/                |             |\n",
      "|    ep_len_mean          | 318         |\n",
      "|    ep_rew_mean          | 255         |\n",
      "| time/                   |             |\n",
      "|    fps                  | 789         |\n",
      "|    iterations           | 30          |\n",
      "|    time_elapsed         | 1244        |\n",
      "|    total_timesteps      | 983040      |\n",
      "| train/                  |             |\n",
      "|    approx_kl            | 0.005639117 |\n",
      "|    clip_fraction        | 0.0683      |\n",
      "|    clip_range           | 0.2         |\n",
      "|    entropy_loss         | -0.756      |\n",
      "|    explained_variance   | 0.91702056  |\n",
      "|    learning_rate        | 0.0003      |\n",
      "|    loss                 | 16.2        |\n",
      "|    n_updates            | 290         |\n",
      "|    policy_gradient_loss | -0.00084    |\n",
      "|    value_loss           | 58.8        |\n",
      "-----------------------------------------\n",
      "------------------------------------------\n",
      "| rollout/                |              |\n",
      "|    ep_len_mean          | 390          |\n",
      "|    ep_rew_mean          | 231          |\n",
      "| time/                   |              |\n",
      "|    fps                  | 794          |\n",
      "|    iterations           | 31           |\n",
      "|    time_elapsed         | 1278         |\n",
      "|    total_timesteps      | 1015808      |\n",
      "| train/                  |              |\n",
      "|    approx_kl            | 0.0048737004 |\n",
      "|    clip_fraction        | 0.0547       |\n",
      "|    clip_range           | 0.2          |\n",
      "|    entropy_loss         | -0.743       |\n",
      "|    explained_variance   | 0.9256022    |\n",
      "|    learning_rate        | 0.0003       |\n",
      "|    loss                 | 15.2         |\n",
      "|    n_updates            | 300          |\n",
      "|    policy_gradient_loss | -0.00101     |\n",
      "|    value_loss           | 45.3         |\n",
      "------------------------------------------\n"
     ]
    }
   ],
   "source": [
    "# Entrenar por 1.000.000 timesteps\n",
    "\n",
    "model.learn(total_timesteps=1000000, callback=CometCallback(experiment))\n",
    "\n",
    "model_name = \"ppo-LunarLander-v2\"\n",
    "\n",
    "# Guardar el modelo\n",
    "model.save(model_name)"
   ]
  },
  {
   "cell_type": "markdown",
   "id": "5afcaefb",
   "metadata": {},
   "source": [
    "#### 1.3 Evaluación del modelo:\n",
    "\n",
    "¿Como podemos evaluar si el agente aprendió a aterrizar la nave?"
   ]
  },
  {
   "attachments": {
    "a49ff167-578f-467f-aeaa-c0bfc031cf46.png": {
     "image/png": "[encoded data removed]"
    }
   },
   "cell_type": "markdown",
   "id": "bc2ea818-e44f-4393-8f84-45588ae0c742",
   "metadata": {},
   "source": [
    "![image.png](attachment:a49ff167-578f-467f-aeaa-c0bfc031cf46.png)"
   ]
  },
  {
   "cell_type": "markdown",
   "id": "b3d8298a",
   "metadata": {},
   "source": [
    "##### RESPUESTA --> \n",
    "\n",
    "Una posibilidad para evaluar si el agente aprendió a aterrizar la nave, es usarlo para explotar en algunos episodios y luego promediar sus recompensas al final de cada uno de los episodios. Si esta media es mayor o igual a 200 significaría que en media el agente dio una buena solución al problema del aterrizaje."
   ]
  },
  {
   "cell_type": "code",
   "execution_count": 27,
   "id": "a5c135b0",
   "metadata": {},
   "outputs": [
    {
     "name": "stdout",
     "output_type": "stream",
     "text": [
      "mean_reward=248.40 +/- 40.4201541218413\n"
     ]
    }
   ],
   "source": [
    "from stable_baselines3.common.evaluation import evaluate_policy\n",
    "from stable_baselines3.common.monitor import Monitor\n",
    "\n",
    "eval_env = Monitor(gym.make(\"LunarLander-v2\", render_mode='rgb_array'))\n",
    "mean_reward, std_reward = evaluate_policy(model, eval_env, n_eval_episodes=10)\n",
    "print(f\"mean_reward={mean_reward:.2f} +/- {std_reward}\")"
   ]
  },
  {
   "cell_type": "markdown",
   "id": "d8f8358c-367b-4773-a027-bba91f516180",
   "metadata": {},
   "source": [
    "**Conclusión:** Como la media es mayor que 200, entonces se puede decir que el agente aprendió a aterrizar la nave."
   ]
  },
  {
   "cell_type": "markdown",
   "id": "1a4ece8b",
   "metadata": {},
   "source": [
    "#### 1.4 Correr el agente entrenado y guardar un video del aterrizaje\n",
    "\n",
    "si esto da error de timeout pueden generar un .py y correrlo desde consola para guardar el video"
   ]
  },
  {
   "cell_type": "code",
   "execution_count": 26,
   "id": "008d94f1-4a5f-4dc5-a561-78047cce8625",
   "metadata": {},
   "outputs": [],
   "source": [
    "# !pip install moviepy"
   ]
  },
  {
   "cell_type": "code",
   "execution_count": 25,
   "id": "78b71ef9",
   "metadata": {},
   "outputs": [
    {
     "name": "stderr",
     "output_type": "stream",
     "text": [
      "C:\\Users\\E090219\\AppData\\Local\\miniconda3\\envs\\tar\\Lib\\site-packages\\gymnasium\\wrappers\\record_video.py:87: UserWarning: \u001b[33mWARN: Overwriting existing videos at C:\\Users\\E090219\\Desktop\\TAR\\Reinforcement_learning\\Entregas\\videos\\PPO folder (try specifying a different `video_folder` for the `RecordVideo` wrapper if this is not desired)\u001b[0m\n",
      "  logger.warn(\n"
     ]
    },
    {
     "name": "stdout",
     "output_type": "stream",
     "text": [
      "MoviePy - Building video C:\\Users\\E090219\\Desktop\\TAR\\Reinforcement_learning\\Entregas\\videos\\PPO\\rl-video-episode-0.mp4.\n",
      "MoviePy - Writing video C:\\Users\\E090219\\Desktop\\TAR\\Reinforcement_learning\\Entregas\\videos\\PPO\\rl-video-episode-0.mp4\n",
      "\n"
     ]
    },
    {
     "name": "stderr",
     "output_type": "stream",
     "text": [
      "                                                                                                                       "
     ]
    },
    {
     "name": "stdout",
     "output_type": "stream",
     "text": [
      "MoviePy - Done !\n",
      "MoviePy - video ready C:\\Users\\E090219\\Desktop\\TAR\\Reinforcement_learning\\Entregas\\videos\\PPO\\rl-video-episode-0.mp4\n",
      "MoviePy - Building video C:\\Users\\E090219\\Desktop\\TAR\\Reinforcement_learning\\Entregas\\videos\\PPO\\rl-video-episode-1.mp4.\n",
      "MoviePy - Writing video C:\\Users\\E090219\\Desktop\\TAR\\Reinforcement_learning\\Entregas\\videos\\PPO\\rl-video-episode-1.mp4\n",
      "\n"
     ]
    },
    {
     "name": "stderr",
     "output_type": "stream",
     "text": [
      "                                                                                                                       "
     ]
    },
    {
     "name": "stdout",
     "output_type": "stream",
     "text": [
      "MoviePy - Done !\n",
      "MoviePy - video ready C:\\Users\\E090219\\Desktop\\TAR\\Reinforcement_learning\\Entregas\\videos\\PPO\\rl-video-episode-1.mp4\n",
      "Video saved in the './videos' directory.\n"
     ]
    },
    {
     "name": "stderr",
     "output_type": "stream",
     "text": []
    }
   ],
   "source": [
    "import gymnasium as gym\n",
    "from stable_baselines3 import PPO\n",
    "from stable_baselines3.common.vec_env import DummyVecEnv\n",
    "from gymnasium.wrappers import RecordVideo\n",
    "\n",
    "# Load the trained model\n",
    "model = PPO.load(\"ppo-LunarLander-v2\")\n",
    "\n",
    "# Create the environment with the proper render_mode for video recording\n",
    "env = DummyVecEnv([lambda: RecordVideo(gym.make(\"LunarLander-v2\", render_mode=\"rgb_array\"), \"./videos/PPO\", episode_trigger=lambda x: True)])\n",
    "\n",
    "# Reset the environment to get the initial observation\n",
    "obs = env.reset()\n",
    "done = False\n",
    "\n",
    "# Play one episode to capture the video\n",
    "while not done:\n",
    "    action, _ = model.predict(obs)\n",
    "    obs, reward, done, info = env.step(action)\n",
    "    \n",
    "# Close the environment to save the video file\n",
    "env.close()\n",
    "\n",
    "print(\"Video saved in the './videos' directory.\")\n"
   ]
  },
  {
   "cell_type": "markdown",
   "id": "d0e7255c",
   "metadata": {},
   "source": [
    "## Ejercicio 2. Cart Pole\n",
    "\n",
    "En este ejemplo entrenaremos un agente que aprenda a equilibrar un poste sobre un carrito que se mueve sobre una linea.\n",
    "Doc del ambiente: https://gymnasium.farama.org/environments/classic_control/cart_pole/\n"
   ]
  },
  {
   "cell_type": "markdown",
   "id": "0ae0000b",
   "metadata": {},
   "source": [
    "#### 2.1 Estudiar el ambiente:\n",
    "\n",
    "¿Como son el espacio de acciones y el espacio de estados?"
   ]
  },
  {
   "cell_type": "markdown",
   "id": "fca5cf1d-fe36-48db-9823-ffa00c22baf6",
   "metadata": {},
   "source": []
  },
  {
   "cell_type": "markdown",
   "id": "b03fa5b8",
   "metadata": {},
   "source": [
    "##### RESPUESTA -->\n",
    "\n"
   ]
  },
  {
   "cell_type": "code",
   "execution_count": null,
   "id": "00ec641f",
   "metadata": {},
   "outputs": [],
   "source": [
    "#TODO Definir el ambiente e imprimir el tamaño del espacio de observación y del espacio de acciones.\n"
   ]
  },
  {
   "cell_type": "markdown",
   "id": "fdb8fae1",
   "metadata": {},
   "source": [
    "#### 2.2 Definir el modelo usando el modelo - A2C de stable_baselines3\n",
    "\n",
    "¿Que tipo de metodo implementa?"
   ]
  },
  {
   "cell_type": "markdown",
   "id": "ef11acb2",
   "metadata": {},
   "source": [
    "##### RESPUESTA --> "
   ]
  },
  {
   "cell_type": "code",
   "execution_count": null,
   "id": "f34d1c9f",
   "metadata": {},
   "outputs": [],
   "source": [
    "#TODO definir el modelo A2C "
   ]
  },
  {
   "cell_type": "markdown",
   "id": "750ffea4",
   "metadata": {},
   "source": [
    "#### 2.3 Vectorizar el ambiente y entrenar el modelo"
   ]
  },
  {
   "cell_type": "code",
   "execution_count": null,
   "id": "bac09e83",
   "metadata": {},
   "outputs": [],
   "source": [
    "#TODO vectorizar el ambiente y entrenar el agente A2C\n",
    "\n",
    "#...\n",
    "\n",
    "model_name = \"A2C-CartPole-v1\"\n",
    "\n",
    "# Guardar el modelo\n",
    "#model.save(model_name)"
   ]
  },
  {
   "cell_type": "markdown",
   "id": "d4383c87",
   "metadata": {},
   "source": [
    "##### ¿Comó se si mi modelo aprendió?\n",
    "\n",
    "##### ¿Comó son las recompensas?\n",
    "\n",
    "### RESPUESTA:"
   ]
  },
  {
   "cell_type": "markdown",
   "id": "56f4f7c9",
   "metadata": {},
   "source": [
    "#### 2.4 Evaluar el agente\n"
   ]
  },
  {
   "cell_type": "code",
   "execution_count": null,
   "id": "a5dcd079",
   "metadata": {},
   "outputs": [],
   "source": [
    "import gymnasium as gym\n",
    "from stable_baselines3 import A2C\n",
    "from stable_baselines3.common.vec_env import DummyVecEnv\n",
    "from gymnasium.wrappers import RecordVideo\n",
    "\n",
    "# Load the trained model\n",
    "model = A2C.load(\"A2C-CartPole-v1\")\n",
    "\n",
    "# Create the environment with the proper render_mode for video recording\n",
    "env = DummyVecEnv([lambda: RecordVideo(gym.make(\"CartPole-v1\", render_mode=\"rgb_array\"), \"./videos/A2C\", episode_trigger=lambda x: True)])\n",
    "\n",
    "# Reset the environment to get the initial observation\n",
    "obs = env.reset()\n",
    "done = False\n",
    "\n",
    "# Play one episode to capture the video\n",
    "while not done:\n",
    "    action, _ = model.predict(obs)\n",
    "    obs, reward, done, info = env.step(action)\n",
    "    \n",
    "# Close the environment to save the video file\n",
    "env.close()\n",
    "\n",
    "print(\"Video saved in the './videos' directory.\")"
   ]
  }
 ],
 "metadata": {
  "kernelspec": {
   "display_name": "Python 3 (ipykernel)",
   "language": "python",
   "name": "python3"
  },
  "language_info": {
   "codemirror_mode": {
    "name": "ipython",
    "version": 3
   },
   "file_extension": ".py",
   "mimetype": "text/x-python",
   "name": "python",
   "nbconvert_exporter": "python",
   "pygments_lexer": "ipython3",
   "version": "3.11.11"
  }
 },
 "nbformat": 4,
 "nbformat_minor": 5
}
