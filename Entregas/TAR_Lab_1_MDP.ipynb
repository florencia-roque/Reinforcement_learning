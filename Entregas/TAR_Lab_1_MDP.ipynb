{
 "cells": [
  {
   "cell_type": "markdown",
   "metadata": {
    "id": "uxpjhFwiIL84"
   },
   "source": [
    "<CENTER>\n",
    "</br>\n",
    "<p><font size=\"5\"> TAR: Taller de Aprendizaje por Refuerzo 2025</span></p>\n",
    "<p><font size=\"5\">  LAB 1: MDP</font></p>\n",
    "</p></br>\n",
    "</p>\n",
    "</CENTER>\n",
    "\n",
    "\n",
    "----------------------------"
   ]
  },
  {
   "cell_type": "markdown",
   "metadata": {
    "id": "OIc5eCXlJajK"
   },
   "source": [
    "In this lab we are going to go through the fundamental concepts of MDP, state and solve a problem for optimal machine replacement, relying on the algorithms seen in class, and no particular MDP python library other than regular ones such as numpy, random, matplotlib."
   ]
  },
  {
   "cell_type": "markdown",
   "metadata": {
    "id": "Hs_Q9FjIIL85"
   },
   "source": [
    "## Machine replacement\n",
    "\n",
    "A machine has possible states in $\\{1,\\ldots,S\\}$ that represent how good it performs (the higher the better), state 1 can be consider as broken, state S as new. At each instant $k=0,\\ldots$ either the machine is replaced (action $a=1$) or it is left unchanged (action $a=2$). We assume that\n",
    "\n",
    "\\begin{equation}\n",
    "\\begin{array}{ll}\n",
    "P(s_{k+1}=S|a_k=1) &=1\\\\\n",
    "P(s_{k+1}=s|s_k=s\\_ ,a_k=2) &=(1-\\theta)\\delta_{s\\_ ,s}+\\theta \\delta_{\\max(1,s\\_-1 ),s}.\n",
    "\\end{array}\n",
    "\\end{equation}\n",
    "\n",
    "where $\\delta_{a,b}=1$ if $a=b$ and $0$ otherwise.\n",
    "\n",
    "**1)** Explain the meaning of these probabilities.\n",
    "\n",
    "**2)** Give the expression of transition matrices $P(1)$ and $P(2)$ corresponding to actions $a_k=1$ and $a_k=2$.\n",
    "\n",
    "At times $k=0,\\ldots$, the cost of machine replacement is $c_k(s,a=1)=C$, while if the machine is not replaced, there is still a cost given by $c_k(s,a=2)=(S-s)/(S-1)$, due to the loss of quantity/quality of the production of the machine when its state degrades.\n",
    "\n",
    "**3)** Implement the trajectory of the MDP for a given policy $\\pi$ in a function *trajectory(pi=$\\pi$)* that outputs the trajectory of the state $s$, the trajectory of the action $a$ and resulting cumulative cost $J$.\n",
    "\n",
    "**4)** Implement a plotting function  *plot_trajectory(pi=$\\pi$,policy='')* that runs the *trajectory* function for policy $\\pi$ and plots the trajectories of $s$ and $a$ and gives the value of cumulative cost $J$. The policy string represents the legend in the plot.\n",
    "\n",
    "**5)** Express Bellman's value iteration algorithm. Implement the algorithm for $S=100$, $\\theta=.5$, $C=100$ and discount factor $\\gamma$ as a parameter.  \n",
    "\n",
    "**6)** For the optimal policy, plot a few trajectories of the MDP. Test the influence of parameters $\\theta$, $C$, $\\gamma$... Comments?\n",
    "\n",
    "6a) Test for a small γ (the future is very little taken into account) and different values of C. Describe the policy obtained for a small cost and for a large cost. Consider small θs (degradation is very fast) and large θ (degradation is slow) What can you observe? Is the obtained policy consistent with your intuition?\n",
    "\n",
    "6b) Test for a large γ<1 (the future is taken into account to a large extent) and different values of C. Describe the policy obtained for a small cost and for a large cost. Consider again small θ (degradation is very fast) and large θ (degradation is slow) What can you observe? Is the obtained policy consistent with your intuition? What can you say with respect to 6a?\n",
    "\n",
    "------------"
   ]
  },
  {
   "cell_type": "code",
   "execution_count": 1,
   "metadata": {},
   "outputs": [],
   "source": [
    "from graphviz import Digraph\n",
    "import numpy as np\n",
    "import matplotlib.pyplot as plt"
   ]
  },
  {
   "cell_type": "markdown",
   "metadata": {},
   "source": [
    "**Respuesta 1:**\n",
    "\n",
    "\\begin{equation}\n",
    "\\begin{array}{ll}\n",
    "P(s_{k+1}=S|a_k=1) &=1\\\\\n",
    "P(s_{k+1}=s|s_k=s\\_ ,a_k=2) &=(1-\\theta)\\delta_{s\\_ ,s}+\\theta \\delta_{\\max(1,s\\_-1 ),s}\n",
    "\\end{array}\n",
    "\\end{equation}\n",
    "\n",
    "Dado un estado actual $s_k=s_{-}$.\n",
    "\n",
    "* Si se reemplaza la máquina ($a_k=1$), la máquina queda como nueva ($s=S$) con probabilidad 1.\n",
    "\n",
    "* Si no se reemplaza la máquina ($a_k=2$):\n",
    "\n",
    "    * Si $s=s_{-}$, $s_{-}\\ne 1$ y $s_{-}-1\\ge1$, entonces $s \\ne max(1,s_{-}-1)$ y $\\delta_{max(1,s_{-}-1),s}=0$\n",
    "    * Si $s=s_{-}=1$ y $s_{-}-1\\le1$, entonces $max(1,s_{-}-1)=1$ y $\\delta_{max(1,s_{-}-1),s}=1$\n",
    "    * Si $s=s_{-}-1$, $s_{-}\\ne 1$ y $s_{-}-1\\ge 1$, entonces  $\\delta_{max(1,s_{-}-1),s}=1$ y $\\delta_{s{-},s}=0$\n",
    "\n",
    "Esto quiere decir que:\n",
    "\n",
    "* Si no se reemplaza la máquina, con probabilidad $1-\\theta$, el estado permanece igual si no era estado 1. Si estado actual es 1, entonces con probabilidad 1 permanece igual.\n",
    "* Si no se reemplaza la máquina y el estado actual no es 1, con probabilidad $\\theta$, el estado se degrada en uno.\n",
    "\n",
    "---"
   ]
  },
  {
   "cell_type": "markdown",
   "metadata": {},
   "source": [
    "**Respuesta 2:**\n",
    "\n",
    "En las siguientes celdas se pueden ver los diagramas de estados para los casos de acciones $a_k=1$ y $a_k=2$ tomando como ejemplo $S=5$ y $\\theta=0.5$.\n",
    "\n",
    "A partir de los diagramas de estados se puede deducir las matrices de transiciones.\n",
    "\n",
    "\\begin{equation}\n",
    "    P(1)_{ij}=\n",
    "    \\begin{cases}\n",
    "      1, & \\text{si}\\ j=S \\\\\n",
    "      0, & \\text{en otro caso}\n",
    "    \\end{cases}\n",
    "\\end{equation}\n",
    "\n",
    "\\begin{equation}\n",
    "    P(2)_{ij}=\n",
    "    \\begin{cases}\n",
    "      1-\\theta, & \\text{si}\\ j=i, i\\ge2 \\\\\n",
    "      \\theta, & \\text{si} j=i-1, i\\ge2 \\\\\n",
    "      1, & \\text{si} j=i=1 \\\\\n",
    "      0, & \\text{en otro caso}\n",
    "    \\end{cases}\n",
    "\\end{equation}\n",
    "\n",
    "\n",
    "---"
   ]
  },
  {
   "cell_type": "code",
   "execution_count": 2,
   "metadata": {},
   "outputs": [],
   "source": [
    "# pip install graphviz"
   ]
  },
  {
   "cell_type": "code",
   "execution_count": 3,
   "metadata": {},
   "outputs": [
    {
     "data": {
      "image/svg+xml": [
       "<?xml version=\"1.0\" encoding=\"UTF-8\" standalone=\"no\"?>\n",
       "<!DOCTYPE svg PUBLIC \"-//W3C//DTD SVG 1.1//EN\"\n",
       " \"http://www.w3.org/Graphics/SVG/1.1/DTD/svg11.dtd\">\n",
       "<!-- Generated by graphviz version 9.0.0 (20230911.1827)\n",
       " -->\n",
       "<!-- Pages: 1 -->\n",
       "<svg width=\"278pt\" height=\"132pt\"\n",
       " viewBox=\"0.00 0.00 278.00 131.75\" xmlns=\"http://www.w3.org/2000/svg\" xmlns:xlink=\"http://www.w3.org/1999/xlink\">\n",
       "<g id=\"graph0\" class=\"graph\" transform=\"scale(1 1) rotate(0) translate(4 127.75)\">\n",
       "<polygon fill=\"white\" stroke=\"none\" points=\"-4,4 -4,-127.75 274,-127.75 274,4 -4,4\"/>\n",
       "<!-- 1 -->\n",
       "<g id=\"node1\" class=\"node\">\n",
       "<title>1</title>\n",
       "<ellipse fill=\"none\" stroke=\"black\" cx=\"27\" cy=\"-105.75\" rx=\"27\" ry=\"18\"/>\n",
       "<text text-anchor=\"middle\" x=\"27\" y=\"-100.33\" font-family=\"Times New Roman,serif\" font-size=\"14.00\">1</text>\n",
       "</g>\n",
       "<!-- 5 -->\n",
       "<g id=\"node5\" class=\"node\">\n",
       "<title>5</title>\n",
       "<ellipse fill=\"none\" stroke=\"black\" cx=\"135\" cy=\"-18\" rx=\"27\" ry=\"18\"/>\n",
       "<text text-anchor=\"middle\" x=\"135\" y=\"-12.57\" font-family=\"Times New Roman,serif\" font-size=\"14.00\">5</text>\n",
       "</g>\n",
       "<!-- 1&#45;&gt;5 -->\n",
       "<g id=\"edge1\" class=\"edge\">\n",
       "<title>1&#45;&gt;5</title>\n",
       "<path fill=\"none\" stroke=\"black\" d=\"M43.88,-91.35C61.39,-77.44 89.01,-55.52 109.25,-39.45\"/>\n",
       "<polygon fill=\"black\" stroke=\"black\" points=\"111.4,-42.2 117.06,-33.25 107.05,-36.72 111.4,-42.2\"/>\n",
       "<text text-anchor=\"middle\" x=\"94.38\" y=\"-56.45\" font-family=\"Times New Roman,serif\" font-size=\"14.00\">1</text>\n",
       "</g>\n",
       "<!-- 2 -->\n",
       "<g id=\"node2\" class=\"node\">\n",
       "<title>2</title>\n",
       "<ellipse fill=\"none\" stroke=\"black\" cx=\"99\" cy=\"-105.75\" rx=\"27\" ry=\"18\"/>\n",
       "<text text-anchor=\"middle\" x=\"99\" y=\"-100.33\" font-family=\"Times New Roman,serif\" font-size=\"14.00\">2</text>\n",
       "</g>\n",
       "<!-- 2&#45;&gt;5 -->\n",
       "<g id=\"edge2\" class=\"edge\">\n",
       "<title>2&#45;&gt;5</title>\n",
       "<path fill=\"none\" stroke=\"black\" d=\"M105.94,-88.22C110.94,-76.31 117.79,-59.98 123.59,-46.18\"/>\n",
       "<polygon fill=\"black\" stroke=\"black\" points=\"126.73,-47.75 127.37,-37.17 120.27,-45.04 126.73,-47.75\"/>\n",
       "<text text-anchor=\"middle\" x=\"124.38\" y=\"-56.45\" font-family=\"Times New Roman,serif\" font-size=\"14.00\">1</text>\n",
       "</g>\n",
       "<!-- 3 -->\n",
       "<g id=\"node3\" class=\"node\">\n",
       "<title>3</title>\n",
       "<ellipse fill=\"none\" stroke=\"black\" cx=\"171\" cy=\"-105.75\" rx=\"27\" ry=\"18\"/>\n",
       "<text text-anchor=\"middle\" x=\"171\" y=\"-100.33\" font-family=\"Times New Roman,serif\" font-size=\"14.00\">3</text>\n",
       "</g>\n",
       "<!-- 3&#45;&gt;5 -->\n",
       "<g id=\"edge3\" class=\"edge\">\n",
       "<title>3&#45;&gt;5</title>\n",
       "<path fill=\"none\" stroke=\"black\" d=\"M164.06,-88.22C159.06,-76.31 152.21,-59.98 146.41,-46.18\"/>\n",
       "<polygon fill=\"black\" stroke=\"black\" points=\"149.73,-45.04 142.63,-37.17 143.27,-47.75 149.73,-45.04\"/>\n",
       "<text text-anchor=\"middle\" x=\"159.38\" y=\"-56.45\" font-family=\"Times New Roman,serif\" font-size=\"14.00\">1</text>\n",
       "</g>\n",
       "<!-- 4 -->\n",
       "<g id=\"node4\" class=\"node\">\n",
       "<title>4</title>\n",
       "<ellipse fill=\"none\" stroke=\"black\" cx=\"243\" cy=\"-105.75\" rx=\"27\" ry=\"18\"/>\n",
       "<text text-anchor=\"middle\" x=\"243\" y=\"-100.33\" font-family=\"Times New Roman,serif\" font-size=\"14.00\">4</text>\n",
       "</g>\n",
       "<!-- 4&#45;&gt;5 -->\n",
       "<g id=\"edge4\" class=\"edge\">\n",
       "<title>4&#45;&gt;5</title>\n",
       "<path fill=\"none\" stroke=\"black\" d=\"M226.12,-91.35C208.61,-77.44 180.99,-55.52 160.75,-39.45\"/>\n",
       "<polygon fill=\"black\" stroke=\"black\" points=\"162.95,-36.72 152.94,-33.25 158.6,-42.2 162.95,-36.72\"/>\n",
       "<text text-anchor=\"middle\" x=\"201.38\" y=\"-56.45\" font-family=\"Times New Roman,serif\" font-size=\"14.00\">1</text>\n",
       "</g>\n",
       "<!-- 5&#45;&gt;5 -->\n",
       "<g id=\"edge5\" class=\"edge\">\n",
       "<title>5&#45;&gt;5</title>\n",
       "<path fill=\"none\" stroke=\"black\" d=\"M159.53,-26.1C170.51,-26.87 180,-24.17 180,-18 180,-14.14 176.29,-11.64 170.83,-10.5\"/>\n",
       "<polygon fill=\"black\" stroke=\"black\" points=\"171.21,-7.01 161.04,-9.98 170.85,-14 171.21,-7.01\"/>\n",
       "<text text-anchor=\"middle\" x=\"183.38\" y=\"-12.57\" font-family=\"Times New Roman,serif\" font-size=\"14.00\">1</text>\n",
       "</g>\n",
       "</g>\n",
       "</svg>\n"
      ],
      "text/plain": [
       "<graphviz.graphs.Digraph at 0x1bebaa0a480>"
      ]
     },
     "execution_count": 3,
     "metadata": {},
     "output_type": "execute_result"
    }
   ],
   "source": [
    "def diagrama_estado_accion_1(S=5):\n",
    "    dot = Digraph()\n",
    "\n",
    "    for i in range(1, S+1):\n",
    "        dot.node(str(i))\n",
    "\n",
    "    for i in range(1, S+1):\n",
    "        dot.edge(str(i), str(S), label=\"1\")\n",
    "\n",
    "    return dot\n",
    "\n",
    "diagrama_estado_accion_1(S=5)\n"
   ]
  },
  {
   "cell_type": "code",
   "execution_count": 4,
   "metadata": {},
   "outputs": [],
   "source": [
    "# dot = diagrama_estado_accion_1()\n",
    "# dot.render(filename='grafo_a1', format='png', cleanup=True)"
   ]
  },
  {
   "cell_type": "code",
   "execution_count": 5,
   "metadata": {},
   "outputs": [
    {
     "data": {
      "image/svg+xml": [
       "<?xml version=\"1.0\" encoding=\"UTF-8\" standalone=\"no\"?>\n",
       "<!DOCTYPE svg PUBLIC \"-//W3C//DTD SVG 1.1//EN\"\n",
       " \"http://www.w3.org/Graphics/SVG/1.1/DTD/svg11.dtd\">\n",
       "<!-- Generated by graphviz version 9.0.0 (20230911.1827)\n",
       " -->\n",
       "<!-- Pages: 1 -->\n",
       "<svg width=\"97pt\" height=\"395pt\"\n",
       " viewBox=\"0.00 0.00 97.25 395.00\" xmlns=\"http://www.w3.org/2000/svg\" xmlns:xlink=\"http://www.w3.org/1999/xlink\">\n",
       "<g id=\"graph0\" class=\"graph\" transform=\"scale(1 1) rotate(0) translate(4 391)\">\n",
       "<polygon fill=\"white\" stroke=\"none\" points=\"-4,4 -4,-391 93.25,-391 93.25,4 -4,4\"/>\n",
       "<!-- 1 -->\n",
       "<g id=\"node1\" class=\"node\">\n",
       "<title>1</title>\n",
       "<ellipse fill=\"none\" stroke=\"black\" cx=\"27\" cy=\"-18\" rx=\"27\" ry=\"18\"/>\n",
       "<text text-anchor=\"middle\" x=\"27\" y=\"-12.57\" font-family=\"Times New Roman,serif\" font-size=\"14.00\">1</text>\n",
       "</g>\n",
       "<!-- 1&#45;&gt;1 -->\n",
       "<g id=\"edge1\" class=\"edge\">\n",
       "<title>1&#45;&gt;1</title>\n",
       "<path fill=\"none\" stroke=\"black\" d=\"M51.53,-26.1C62.51,-26.87 72,-24.17 72,-18 72,-14.14 68.29,-11.64 62.83,-10.5\"/>\n",
       "<polygon fill=\"black\" stroke=\"black\" points=\"63.21,-7.01 53.04,-9.98 62.85,-14 63.21,-7.01\"/>\n",
       "<text text-anchor=\"middle\" x=\"75.38\" y=\"-12.57\" font-family=\"Times New Roman,serif\" font-size=\"14.00\">1</text>\n",
       "</g>\n",
       "<!-- 2 -->\n",
       "<g id=\"node2\" class=\"node\">\n",
       "<title>2</title>\n",
       "<ellipse fill=\"none\" stroke=\"black\" cx=\"27\" cy=\"-105.75\" rx=\"27\" ry=\"18\"/>\n",
       "<text text-anchor=\"middle\" x=\"27\" y=\"-100.33\" font-family=\"Times New Roman,serif\" font-size=\"14.00\">2</text>\n",
       "</g>\n",
       "<!-- 2&#45;&gt;1 -->\n",
       "<g id=\"edge2\" class=\"edge\">\n",
       "<title>2&#45;&gt;1</title>\n",
       "<path fill=\"none\" stroke=\"black\" d=\"M27,-87.4C27,-76.01 27,-60.84 27,-47.68\"/>\n",
       "<polygon fill=\"black\" stroke=\"black\" points=\"30.5,-47.84 27,-37.84 23.5,-47.84 30.5,-47.84\"/>\n",
       "<text text-anchor=\"middle\" x=\"35.62\" y=\"-56.45\" font-family=\"Times New Roman,serif\" font-size=\"14.00\">0.5</text>\n",
       "</g>\n",
       "<!-- 2&#45;&gt;2 -->\n",
       "<g id=\"edge3\" class=\"edge\">\n",
       "<title>2&#45;&gt;2</title>\n",
       "<path fill=\"none\" stroke=\"black\" d=\"M51.53,-113.85C62.51,-114.62 72,-111.92 72,-105.75 72,-101.89 68.29,-99.39 62.83,-98.25\"/>\n",
       "<polygon fill=\"black\" stroke=\"black\" points=\"63.21,-94.76 53.04,-97.73 62.85,-101.75 63.21,-94.76\"/>\n",
       "<text text-anchor=\"middle\" x=\"80.62\" y=\"-100.33\" font-family=\"Times New Roman,serif\" font-size=\"14.00\">0.5</text>\n",
       "</g>\n",
       "<!-- 3 -->\n",
       "<g id=\"node3\" class=\"node\">\n",
       "<title>3</title>\n",
       "<ellipse fill=\"none\" stroke=\"black\" cx=\"27\" cy=\"-193.5\" rx=\"27\" ry=\"18\"/>\n",
       "<text text-anchor=\"middle\" x=\"27\" y=\"-188.07\" font-family=\"Times New Roman,serif\" font-size=\"14.00\">3</text>\n",
       "</g>\n",
       "<!-- 3&#45;&gt;2 -->\n",
       "<g id=\"edge4\" class=\"edge\">\n",
       "<title>3&#45;&gt;2</title>\n",
       "<path fill=\"none\" stroke=\"black\" d=\"M27,-175.15C27,-163.76 27,-148.59 27,-135.43\"/>\n",
       "<polygon fill=\"black\" stroke=\"black\" points=\"30.5,-135.59 27,-125.59 23.5,-135.59 30.5,-135.59\"/>\n",
       "<text text-anchor=\"middle\" x=\"35.62\" y=\"-144.2\" font-family=\"Times New Roman,serif\" font-size=\"14.00\">0.5</text>\n",
       "</g>\n",
       "<!-- 3&#45;&gt;3 -->\n",
       "<g id=\"edge5\" class=\"edge\">\n",
       "<title>3&#45;&gt;3</title>\n",
       "<path fill=\"none\" stroke=\"black\" d=\"M51.53,-201.6C62.51,-202.37 72,-199.67 72,-193.5 72,-189.64 68.29,-187.14 62.83,-186\"/>\n",
       "<polygon fill=\"black\" stroke=\"black\" points=\"63.21,-182.51 53.04,-185.48 62.85,-189.5 63.21,-182.51\"/>\n",
       "<text text-anchor=\"middle\" x=\"80.62\" y=\"-188.07\" font-family=\"Times New Roman,serif\" font-size=\"14.00\">0.5</text>\n",
       "</g>\n",
       "<!-- 4 -->\n",
       "<g id=\"node4\" class=\"node\">\n",
       "<title>4</title>\n",
       "<ellipse fill=\"none\" stroke=\"black\" cx=\"27\" cy=\"-281.25\" rx=\"27\" ry=\"18\"/>\n",
       "<text text-anchor=\"middle\" x=\"27\" y=\"-275.82\" font-family=\"Times New Roman,serif\" font-size=\"14.00\">4</text>\n",
       "</g>\n",
       "<!-- 4&#45;&gt;3 -->\n",
       "<g id=\"edge6\" class=\"edge\">\n",
       "<title>4&#45;&gt;3</title>\n",
       "<path fill=\"none\" stroke=\"black\" d=\"M27,-262.9C27,-251.51 27,-236.34 27,-223.18\"/>\n",
       "<polygon fill=\"black\" stroke=\"black\" points=\"30.5,-223.34 27,-213.34 23.5,-223.34 30.5,-223.34\"/>\n",
       "<text text-anchor=\"middle\" x=\"35.62\" y=\"-231.95\" font-family=\"Times New Roman,serif\" font-size=\"14.00\">0.5</text>\n",
       "</g>\n",
       "<!-- 4&#45;&gt;4 -->\n",
       "<g id=\"edge7\" class=\"edge\">\n",
       "<title>4&#45;&gt;4</title>\n",
       "<path fill=\"none\" stroke=\"black\" d=\"M51.53,-289.35C62.51,-290.12 72,-287.42 72,-281.25 72,-277.39 68.29,-274.89 62.83,-273.75\"/>\n",
       "<polygon fill=\"black\" stroke=\"black\" points=\"63.21,-270.26 53.04,-273.23 62.85,-277.25 63.21,-270.26\"/>\n",
       "<text text-anchor=\"middle\" x=\"80.62\" y=\"-275.82\" font-family=\"Times New Roman,serif\" font-size=\"14.00\">0.5</text>\n",
       "</g>\n",
       "<!-- 5 -->\n",
       "<g id=\"node5\" class=\"node\">\n",
       "<title>5</title>\n",
       "<ellipse fill=\"none\" stroke=\"black\" cx=\"27\" cy=\"-369\" rx=\"27\" ry=\"18\"/>\n",
       "<text text-anchor=\"middle\" x=\"27\" y=\"-363.57\" font-family=\"Times New Roman,serif\" font-size=\"14.00\">5</text>\n",
       "</g>\n",
       "<!-- 5&#45;&gt;4 -->\n",
       "<g id=\"edge8\" class=\"edge\">\n",
       "<title>5&#45;&gt;4</title>\n",
       "<path fill=\"none\" stroke=\"black\" d=\"M27,-350.65C27,-339.26 27,-324.09 27,-310.93\"/>\n",
       "<polygon fill=\"black\" stroke=\"black\" points=\"30.5,-311.09 27,-301.09 23.5,-311.09 30.5,-311.09\"/>\n",
       "<text text-anchor=\"middle\" x=\"35.62\" y=\"-319.7\" font-family=\"Times New Roman,serif\" font-size=\"14.00\">0.5</text>\n",
       "</g>\n",
       "<!-- 5&#45;&gt;5 -->\n",
       "<g id=\"edge9\" class=\"edge\">\n",
       "<title>5&#45;&gt;5</title>\n",
       "<path fill=\"none\" stroke=\"black\" d=\"M51.53,-377.1C62.51,-377.87 72,-375.17 72,-369 72,-365.14 68.29,-362.64 62.83,-361.5\"/>\n",
       "<polygon fill=\"black\" stroke=\"black\" points=\"63.21,-358.01 53.04,-360.98 62.85,-365 63.21,-358.01\"/>\n",
       "<text text-anchor=\"middle\" x=\"80.62\" y=\"-363.57\" font-family=\"Times New Roman,serif\" font-size=\"14.00\">0.5</text>\n",
       "</g>\n",
       "</g>\n",
       "</svg>\n"
      ],
      "text/plain": [
       "<graphviz.graphs.Digraph at 0x1bebaa203b0>"
      ]
     },
     "execution_count": 5,
     "metadata": {},
     "output_type": "execute_result"
    }
   ],
   "source": [
    "def diagrama_estado_accion_2(S=5, theta=0.5):\n",
    "    dot = Digraph()\n",
    "\n",
    "    for i in range(1, S+1):\n",
    "        dot.node(str(i))\n",
    "\n",
    "    dot.edge(str(1), str(1), label=f\"{1}\")\n",
    "\n",
    "    for i in range(1, S+1):\n",
    "        \n",
    "        \n",
    "\n",
    "        if i > 1:\n",
    "            dot.edge(str(i), str(i - 1), label=f\"{theta}\")\n",
    "            dot.edge(str(i), str(i), label=f\"{1 - theta}\")\n",
    "\n",
    "    return dot\n",
    "\n",
    "diagrama_estado_accion_2(S=5, theta=0.5)"
   ]
  },
  {
   "cell_type": "code",
   "execution_count": 6,
   "metadata": {},
   "outputs": [],
   "source": [
    "# dot = diagrama_estado_accion_2()\n",
    "# dot.render(filename='grafo_a2', format='png', cleanup=True)"
   ]
  },
  {
   "cell_type": "code",
   "execution_count": 7,
   "metadata": {},
   "outputs": [],
   "source": [
    "def politica_deterministica():\n",
    "    # valores es una matriz de Sx1\n",
    "    valores = np.ones((5,1))\n",
    "    # s = 1\n",
    "    valores[0] = 1 # reemplazo\n",
    "    # s = 2\n",
    "    valores[1] = 1 # reemplazo\n",
    "    # s = 3 \n",
    "    valores[2] = 2 # no reemplazo\n",
    "    # s = 4\n",
    "    valores[3] = 2 # no reemplazo\n",
    "    # s = 5\n",
    "    valores[4] = 2 # no reemplazo\n",
    "    return valores"
   ]
  },
  {
   "cell_type": "code",
   "execution_count": 8,
   "metadata": {},
   "outputs": [
    {
     "data": {
      "text/plain": [
       "array([[1.],\n",
       "       [1.],\n",
       "       [2.],\n",
       "       [2.],\n",
       "       [2.]])"
      ]
     },
     "execution_count": 8,
     "metadata": {},
     "output_type": "execute_result"
    }
   ],
   "source": [
    "pi_det = politica_deterministica()\n",
    "pi_det"
   ]
  },
  {
   "cell_type": "code",
   "execution_count": 9,
   "metadata": {},
   "outputs": [],
   "source": [
    "def politica_estocastica():\n",
    "    # valores es una matriz de Sx2 que representa la politica estocastica\n",
    "    valores = np.ones((5,2))\n",
    "    # s = 1\n",
    "    valores[0] = [0.9,0.1]\n",
    "    # s = 2\n",
    "    valores[1] = [0.8,0.2]\n",
    "    # s = 3\n",
    "    valores[2] = [0.7,0.3]\n",
    "    # s = 4\n",
    "    valores[3] = [0.6,0.4]\n",
    "    # s = 5\n",
    "    valores[4] = [0.5,0.5]\n",
    "    return valores"
   ]
  },
  {
   "cell_type": "code",
   "execution_count": 10,
   "metadata": {},
   "outputs": [
    {
     "data": {
      "text/plain": [
       "array([[0.9, 0.1],\n",
       "       [0.8, 0.2],\n",
       "       [0.7, 0.3],\n",
       "       [0.6, 0.4],\n",
       "       [0.5, 0.5]])"
      ]
     },
     "execution_count": 10,
     "metadata": {},
     "output_type": "execute_result"
    }
   ],
   "source": [
    "pi_est = politica_estocastica()\n",
    "pi_est"
   ]
  },
  {
   "cell_type": "code",
   "execution_count": 11,
   "metadata": {},
   "outputs": [],
   "source": [
    "def cost(C,a,s,S):\n",
    "    res = 0\n",
    "    if a == 1:\n",
    "        # maquina reemplazada en tiempo k\n",
    "        res = C\n",
    "    elif a == 2:\n",
    "        # maquina no reemplazada en tiempo k\n",
    "        res = (S-s)/(S-1)\n",
    "    return res"
   ]
  },
  {
   "cell_type": "markdown",
   "metadata": {},
   "source": [
    "**Respuesta 3:**"
   ]
  },
  {
   "cell_type": "code",
   "execution_count": 12,
   "metadata": {},
   "outputs": [],
   "source": [
    "def trajectory(pasos, C, pi, theta, estado_inicial, semilla=None):\n",
    "    \n",
    "    if semilla is not None:\n",
    "        np.random.seed(semilla)\n",
    "        \n",
    "    S = pi.shape[0]\n",
    "    estados = np.zeros(pasos+1, dtype=int) + estado_inicial - 1 # los estados reales serán los valores de estados + 1 y arrancamos por estado_inicial\n",
    "    acciones = np.ones(pasos, dtype=int)\n",
    "    J = 0\n",
    "        \n",
    "    # chequear si la politica es deterministica o estocastica\n",
    "    if len(pi.shape) == 1 or pi.shape[1] == 1:\n",
    "        # politica deterministica\n",
    "        for paso in range(pasos):\n",
    "            estado_actual = estados[paso]\n",
    "            siguiente_accion = pi[estado_actual] # puede ser 1 o 2\n",
    "            if siguiente_accion == 1:\n",
    "                # se reemplaza la máquina\n",
    "                siguiente_estado = S-1\n",
    "            elif siguiente_accion == 2:\n",
    "                # no se reemplaza la máquina\n",
    "                if estado_actual == 0: \n",
    "                    # estado 1 en realidad (estado roto)\n",
    "                    siguiente_estado = 0\n",
    "                else:\n",
    "                    siguiente_estado = estado_actual - np.random.binomial(1,theta)\n",
    "            estados[paso+1] = siguiente_estado\n",
    "            acciones[paso] = siguiente_accion\n",
    "            J += cost(C,siguiente_accion,siguiente_estado+1,S)\n",
    "    elif pi.shape[1] == 2:\n",
    "        # politica estocastica\n",
    "        for paso in range(pasos-1):\n",
    "            estado_actual = estados[paso]\n",
    "            # Con esa fila sorteo la siguiente acción dada por la política\n",
    "            siguiente_accion = np.random.choice([1,2], p=pi[estado_actual,:])\n",
    "            if siguiente_accion == 1:\n",
    "                # se reemplaza la máquina\n",
    "                siguiente_estado = S-1\n",
    "            elif siguiente_accion == 2:\n",
    "                # no se reemplaza la máquina\n",
    "                if estado_actual == 0: \n",
    "                    # estado 1 en realidad (estado roto)\n",
    "                    siguiente_estado = 0\n",
    "                else:\n",
    "                    siguiente_estado = estado_actual - np.random.binomial(1,theta)\n",
    "            estados[paso+1] = siguiente_estado\n",
    "            acciones[paso] = siguiente_accion\n",
    "            J += cost(C,siguiente_accion,siguiente_estado+1,S)\n",
    "    return estados, acciones, J"
   ]
  },
  {
   "cell_type": "code",
   "execution_count": 13,
   "metadata": {},
   "outputs": [],
   "source": [
    "pasos = 100\n",
    "C = 2\n",
    "pi = pi_est\n",
    "theta = 0.3\n",
    "estado_inicial = 3\n",
    "semilla = 42"
   ]
  },
  {
   "cell_type": "code",
   "execution_count": 14,
   "metadata": {},
   "outputs": [],
   "source": [
    "trayectoria_estados, trayectoria_acciones, costo_acumulado = trajectory(pasos,C,pi,theta,estado_inicial,semilla)"
   ]
  },
  {
   "cell_type": "code",
   "execution_count": 15,
   "metadata": {},
   "outputs": [
    {
     "data": {
      "text/plain": [
       "array([3, 5, 4, 5, 5, 5, 5, 5, 5, 4, 5, 5, 5, 5, 5, 5, 5, 5, 5, 5, 5, 5,\n",
       "       5, 5, 5, 4, 4, 5, 5, 5, 5, 5, 5, 5, 5, 5, 4, 3, 5, 5, 5, 5, 5, 5,\n",
       "       5, 5, 5, 5, 5, 4, 5, 5, 4, 3, 5, 5, 5, 5, 5, 5, 5, 5, 5, 5, 5, 4,\n",
       "       5, 5, 5, 5, 5, 5, 5, 4, 5, 5, 5, 5, 5, 5, 4, 3, 3, 3, 2, 5, 5, 5,\n",
       "       5, 4, 5, 5, 5, 5, 5, 5, 4, 5, 4, 5, 3])"
      ]
     },
     "execution_count": 15,
     "metadata": {},
     "output_type": "execute_result"
    }
   ],
   "source": [
    "trayectoria_estados = trayectoria_estados + 1\n",
    "trayectoria_estados"
   ]
  },
  {
   "cell_type": "code",
   "execution_count": 16,
   "metadata": {},
   "outputs": [
    {
     "data": {
      "text/plain": [
       "array([1, 2, 1, 1, 1, 1, 2, 2, 2, 1, 1, 1, 1, 2, 1, 2, 1, 1, 1, 2, 2, 1,\n",
       "       2, 1, 2, 2, 1, 2, 1, 1, 1, 2, 2, 2, 1, 2, 2, 1, 2, 1, 1, 1, 1, 1,\n",
       "       2, 1, 2, 2, 2, 1, 1, 2, 2, 1, 1, 1, 2, 1, 1, 1, 1, 2, 2, 1, 2, 1,\n",
       "       2, 2, 1, 1, 1, 2, 2, 1, 1, 2, 1, 1, 1, 2, 2, 2, 2, 2, 1, 1, 1, 1,\n",
       "       2, 1, 2, 1, 1, 1, 2, 2, 1, 2, 1, 1])"
      ]
     },
     "execution_count": 16,
     "metadata": {},
     "output_type": "execute_result"
    }
   ],
   "source": [
    "trayectoria_acciones"
   ]
  },
  {
   "cell_type": "code",
   "execution_count": 17,
   "metadata": {},
   "outputs": [
    {
     "data": {
      "text/plain": [
       "np.float64(118.5)"
      ]
     },
     "execution_count": 17,
     "metadata": {},
     "output_type": "execute_result"
    }
   ],
   "source": [
    "costo_acumulado"
   ]
  },
  {
   "cell_type": "code",
   "execution_count": 18,
   "metadata": {},
   "outputs": [],
   "source": [
    "def trajectory_pi_reemplaza_solo_roto(pasos, C, S, theta, estado_inicial, semilla=None):\n",
    "    \n",
    "    if semilla is not None:\n",
    "        np.random.seed(semilla)\n",
    "\n",
    "    pi = np.ones((S,1)) + 1\n",
    "    pi[0,0] = 1\n",
    "\n",
    "    estados = np.zeros(pasos, dtype=int) + estado_inicial - 1 # los estados reales serán los valores de estados + 1 y arrancamos por estado_inicial\n",
    "    acciones = np.ones(pasos, dtype=int); acciones[0] = 2\n",
    "    J = cost(C,acciones[0],estados[0],S)\n",
    "    \n",
    "    for paso in range(pasos-1):\n",
    "        estado_actual = estados[paso]\n",
    "        siguiente_accion = pi[estado_actual,0] # puede ser 1 o 2\n",
    "        if siguiente_accion == 1:\n",
    "            # se reemplaza la máquina\n",
    "            siguiente_estado = S-1\n",
    "        elif siguiente_accion == 2:\n",
    "            # no se reemplaza la máquina\n",
    "            if estado_actual == 0: \n",
    "                # estado 1 en realidad (estado roto)\n",
    "                siguiente_estado = 0\n",
    "            else:\n",
    "                siguiente_estado = estado_actual - np.random.binomial(1,theta)\n",
    "        estados[paso+1] = siguiente_estado\n",
    "        acciones[paso+1] = siguiente_accion\n",
    "        J += cost(C,siguiente_accion,siguiente_estado+1,S)\n",
    "    return estados, acciones, J"
   ]
  },
  {
   "cell_type": "code",
   "execution_count": 19,
   "metadata": {},
   "outputs": [],
   "source": [
    "pasos = 100\n",
    "C = 2\n",
    "S = 100\n",
    "theta = 0.5\n",
    "estado_inicial = 80\n",
    "semilla = 42"
   ]
  },
  {
   "cell_type": "code",
   "execution_count": 20,
   "metadata": {},
   "outputs": [],
   "source": [
    "trayectoria_estados, trayectoria_acciones, costo_acumulado = trajectory_pi_reemplaza_solo_roto(pasos, C, S, theta, estado_inicial, semilla)"
   ]
  },
  {
   "cell_type": "code",
   "execution_count": 21,
   "metadata": {},
   "outputs": [
    {
     "data": {
      "text/plain": [
       "array([80, 80, 79, 78, 77, 77, 77, 77, 76, 75, 74, 74, 73, 72, 72, 72, 72,\n",
       "       72, 71, 71, 71, 70, 70, 70, 70, 70, 69, 69, 68, 67, 67, 66, 66, 66,\n",
       "       65, 64, 63, 63, 63, 62, 62, 62, 62, 62, 61, 61, 60, 60, 59, 58, 58,\n",
       "       57, 56, 55, 54, 53, 52, 52, 52, 52, 52, 52, 52, 51, 51, 51, 50, 50,\n",
       "       49, 49, 48, 47, 47, 47, 46, 45, 44, 43, 43, 43, 43, 42, 41, 41, 41,\n",
       "       41, 41, 40, 39, 38, 38, 38, 37, 36, 35, 34, 34, 33, 33, 33])"
      ]
     },
     "execution_count": 21,
     "metadata": {},
     "output_type": "execute_result"
    }
   ],
   "source": [
    "trayectoria_estados = trayectoria_estados + 1\n",
    "trayectoria_estados"
   ]
  },
  {
   "cell_type": "code",
   "execution_count": 22,
   "metadata": {},
   "outputs": [
    {
     "data": {
      "text/plain": [
       "array([2, 2, 2, 2, 2, 2, 2, 2, 2, 2, 2, 2, 2, 2, 2, 2, 2, 2, 2, 2, 2, 2,\n",
       "       2, 2, 2, 2, 2, 2, 2, 2, 2, 2, 2, 2, 2, 2, 2, 2, 2, 2, 2, 2, 2, 2,\n",
       "       2, 2, 2, 2, 2, 2, 2, 2, 2, 2, 2, 2, 2, 2, 2, 2, 2, 2, 2, 2, 2, 2,\n",
       "       2, 2, 2, 2, 2, 2, 2, 2, 2, 2, 2, 2, 2, 2, 2, 2, 2, 2, 2, 2, 2, 2,\n",
       "       2, 2, 2, 2, 2, 2, 2, 2, 2, 2, 2, 2])"
      ]
     },
     "execution_count": 22,
     "metadata": {},
     "output_type": "execute_result"
    }
   ],
   "source": [
    "trayectoria_acciones"
   ]
  },
  {
   "cell_type": "code",
   "execution_count": 23,
   "metadata": {},
   "outputs": [
    {
     "data": {
      "text/plain": [
       "np.float64(43.4040404040404)"
      ]
     },
     "execution_count": 23,
     "metadata": {},
     "output_type": "execute_result"
    }
   ],
   "source": [
    "costo_acumulado"
   ]
  },
  {
   "cell_type": "markdown",
   "metadata": {},
   "source": [
    "**Respuesta 4:**"
   ]
  },
  {
   "cell_type": "code",
   "execution_count": 24,
   "metadata": {},
   "outputs": [],
   "source": [
    "def plot_trajectory(pi, policy):\n",
    "    estados, acciones, J = trajectory(pasos, C, pi, theta, estado_inicial, semilla)\n",
    "    \n",
    "    fig, axs = plt.subplots(2, 1, figsize=(10, 6), sharex=True)\n",
    "\n",
    "    # Gráfico de estados\n",
    "    axs[0].step(range(len(estados)), estados, where='post')\n",
    "    axs[0].set_ylabel(\"Estado\")\n",
    "    axs[0].set_title(policy)\n",
    "    axs[0].set_yticks(np.arange(1,S+1,10))\n",
    "    axs[0].grid(True)\n",
    "\n",
    "    # Gráfico de acciones\n",
    "    axs[1].step(range(len(acciones)), acciones, where='post', color='orange')\n",
    "    axs[1].set_xlabel(\"Paso\")\n",
    "    axs[1].set_ylabel(\"Acción\")\n",
    "    axs[1].set_yticks(sorted(list(set(acciones))))\n",
    "    axs[1].grid(True)\n",
    "\n",
    "    # Ajuste general\n",
    "    plt.xticks(np.arange(0, len(estados), 5))\n",
    "    plt.tight_layout()\n",
    "    plt.show()\n",
    "    print(\"El costo acumulado es: \", J)\n"
   ]
  },
  {
   "cell_type": "code",
   "execution_count": 25,
   "metadata": {},
   "outputs": [],
   "source": [
    "# CASO DETERMINISTICO\n",
    "pasos = 100\n",
    "C = 2\n",
    "S = 5\n",
    "pi = np.ones((S,1)) + 1; pi[0,0] = 1\n",
    "policy = \"Trayectoria de los estados y acciones caso determinístico\"\n",
    "theta = 0.5\n",
    "estado_inicial = S\n",
    "semilla = 42"
   ]
  },
  {
   "cell_type": "code",
   "execution_count": 26,
   "metadata": {},
   "outputs": [
    {
     "name": "stderr",
     "output_type": "stream",
     "text": [
      "C:\\Users\\flopa\\AppData\\Local\\Temp\\ipykernel_16748\\779895038.py:28: DeprecationWarning: Conversion of an array with ndim > 0 to a scalar is deprecated, and will error in future. Ensure you extract a single element from your array before performing this operation. (Deprecated NumPy 1.25.)\n",
      "  acciones[paso] = siguiente_accion\n"
     ]
    },
    {
     "data": {
      "image/png": "[encoded data removed]",
      "text/plain": [
       "<Figure size 1000x600 with 2 Axes>"
      ]
     },
     "metadata": {},
     "output_type": "display_data"
    },
    {
     "name": "stdout",
     "output_type": "stream",
     "text": [
      "El costo acumulado es:  63.25\n"
     ]
    }
   ],
   "source": [
    "plot_trajectory(pi,policy)"
   ]
  },
  {
   "cell_type": "code",
   "execution_count": 27,
   "metadata": {},
   "outputs": [],
   "source": [
    "# CASO ESTOCASTICO POLITICA EQUIPROBABLE\n",
    "pasos = 100\n",
    "C = 2\n",
    "S = 5\n",
    "pi = np.array([[0.5,0.5],[0.5,0.5],[0.5,0.5],[0.5,0.5],[0.5,0.5]])\n",
    "policy = \"Trayectoria de los estados y acciones caso estocástico política equiprobable\"\n",
    "theta = 0.5\n",
    "estado_inicial = S\n",
    "semilla = 42"
   ]
  },
  {
   "cell_type": "code",
   "execution_count": 28,
   "metadata": {},
   "outputs": [
    {
     "data": {
      "image/png": "[encoded data removed]",
      "text/plain": [
       "<Figure size 1000x600 with 2 Axes>"
      ]
     },
     "metadata": {},
     "output_type": "display_data"
    },
    {
     "name": "stdout",
     "output_type": "stream",
     "text": [
      "El costo acumulado es:  120.5\n"
     ]
    }
   ],
   "source": [
    "plot_trajectory(pi,policy)"
   ]
  },
  {
   "cell_type": "code",
   "execution_count": 29,
   "metadata": {},
   "outputs": [],
   "source": [
    "# CASO ESTOCASTICO POLITICA QUE REEMPLAZA CON MAS PROBABILIDAD CUANTO PEOR ES EL ESTADO\n",
    "pasos = 100\n",
    "C = 2\n",
    "S = 5\n",
    "pi = np.array([[1.0,0],[0.75,0.25],[0.5,0.5],[0.25,0.75],[0,1.0]])\n",
    "policy = \"Trayectoria de los estados y acciones caso estocástico política que reemplaza con más probabilidad cuanto peor es el estado\"\n",
    "theta = 0.5\n",
    "estado_inicial = S\n",
    "semilla = 42"
   ]
  },
  {
   "cell_type": "code",
   "execution_count": 30,
   "metadata": {},
   "outputs": [
    {
     "data": {
      "image/png": "[encoded data removed]",
      "text/plain": [
       "<Figure size 1000x600 with 2 Axes>"
      ]
     },
     "metadata": {},
     "output_type": "display_data"
    },
    {
     "name": "stdout",
     "output_type": "stream",
     "text": [
      "El costo acumulado es:  60.75\n"
     ]
    }
   ],
   "source": [
    "plot_trajectory(pi,policy)"
   ]
  },
  {
   "cell_type": "markdown",
   "metadata": {},
   "source": [
    "**Respuesta 5:**"
   ]
  },
  {
   "cell_type": "code",
   "execution_count": 31,
   "metadata": {},
   "outputs": [],
   "source": [
    "def matrices_transicion(S,theta):\n",
    "    # devuelve las matrices de transición\n",
    "    P = [np.zeros((S,S)), np.zeros((S,S))]\n",
    "\n",
    "    # matriz de transición para la acción a = 1 (reemplazar)\n",
    "    for i in range(S):\n",
    "        P[0][i][S-1] = 1.0\n",
    "\n",
    "    # matriz de transición para la acción a = 2 (no reemplazar)\n",
    "    for i in range(S):\n",
    "        if i >= 1:\n",
    "            P[1][i][i] = 1 - theta\n",
    "            P[1][i][i - 1] = theta\n",
    "        else:\n",
    "            P[1][i][i] = 1.0  # el estado 0 se queda en 0 con probabilidad 1\n",
    "\n",
    "    return P"
   ]
  },
  {
   "cell_type": "code",
   "execution_count": 32,
   "metadata": {},
   "outputs": [],
   "source": [
    "def value_iteration(S, theta, C, gamma, epsilon=1e-5):\n",
    "    V = np.zeros(S)\n",
    "    pi = np.zeros(S, dtype=int)\n",
    "\n",
    "    # Construir matrices de transición P[0] = P(a=1), P[1] = P(a=2)\n",
    "    P = matrices_transicion(S, theta)\n",
    "    \n",
    "    # Definir costos\n",
    "    c = np.zeros((S, 2))\n",
    "    for s in range(S):\n",
    "        c[s,0] = cost(C,1,s+1,S)\n",
    "        c[s,1] = cost(C,2,s+1,S)\n",
    "        \n",
    "    # Iteración de valor\n",
    "    delta = float('inf')\n",
    "    # Creo un nuevo array con el mismo tamaño y tipo que V pero inicializado todo con ceros\n",
    "    V_new = np.zeros_like(V)\n",
    "\n",
    "    while delta >= epsilon:\n",
    "        delta = 0\n",
    "        for s in range(S):\n",
    "            # Calcular los valores para cada acción\n",
    "            valores_accion_1 = np.sum(P[0][s]*(c[s,0]+gamma*V))\n",
    "            valores_accion_2 = np.sum(P[1][s]*(c[s,1]+gamma*V)) \n",
    "            # Elegir el mínimo\n",
    "            V_new[s] = min(valores_accion_1, valores_accion_2)\n",
    "\n",
    "        # Actualizar V y delta\n",
    "        delta = np.linalg.norm(V_new - V)\n",
    "        V = V_new\n",
    "\n",
    "    # Extraer la política óptima una vez que V converge\n",
    "    for s in range(S):\n",
    "        # Usar V y c para obtener la mejor acción\n",
    "        action_costs = []\n",
    "        for a in [0, 1]:\n",
    "            expected_cost = np.sum(P[a][s] * (c[s, a] + gamma * V))\n",
    "            action_costs.append(expected_cost)\n",
    "    \n",
    "        pi[s] = np.argmin(action_costs) + 1\n",
    "\n",
    "    return V, pi\n"
   ]
  },
  {
   "cell_type": "code",
   "execution_count": 33,
   "metadata": {},
   "outputs": [],
   "source": [
    "S = 100\n",
    "theta = 0.5\n",
    "C = 100\n",
    "gammas = [0.0, 0.1, 0.5, 0.9, 0.99]\n",
    "epsilons = [1e-1, 1e-2, 1e-3, 1e-5]"
   ]
  },
  {
   "cell_type": "code",
   "execution_count": 34,
   "metadata": {},
   "outputs": [],
   "source": [
    "resultados = {}\n",
    "\n",
    "for gamma in gammas:\n",
    "    for epsilon in epsilons:\n",
    "        V_ast, pi_ast = value_iteration(S,theta,C,gamma,epsilon)\n",
    "        resultados[(gamma,epsilon)] = {\n",
    "            \"V\": V_ast,\n",
    "            \"pi\": pi_ast\n",
    "        }"
   ]
  },
  {
   "cell_type": "code",
   "execution_count": 35,
   "metadata": {
    "scrolled": true
   },
   "outputs": [
    {
     "data": {
      "text/plain": [
       "{(0.0,\n",
       "  0.1): {'V': array([1.        , 0.98989899, 0.97979798, 0.96969697, 0.95959596,\n",
       "         0.94949495, 0.93939394, 0.92929293, 0.91919192, 0.90909091,\n",
       "         0.8989899 , 0.88888889, 0.87878788, 0.86868687, 0.85858586,\n",
       "         0.84848485, 0.83838384, 0.82828283, 0.81818182, 0.80808081,\n",
       "         0.7979798 , 0.78787879, 0.77777778, 0.76767677, 0.75757576,\n",
       "         0.74747475, 0.73737374, 0.72727273, 0.71717172, 0.70707071,\n",
       "         0.6969697 , 0.68686869, 0.67676768, 0.66666667, 0.65656566,\n",
       "         0.64646465, 0.63636364, 0.62626263, 0.61616162, 0.60606061,\n",
       "         0.5959596 , 0.58585859, 0.57575758, 0.56565657, 0.55555556,\n",
       "         0.54545455, 0.53535354, 0.52525253, 0.51515152, 0.50505051,\n",
       "         0.49494949, 0.48484848, 0.47474747, 0.46464646, 0.45454545,\n",
       "         0.44444444, 0.43434343, 0.42424242, 0.41414141, 0.4040404 ,\n",
       "         0.39393939, 0.38383838, 0.37373737, 0.36363636, 0.35353535,\n",
       "         0.34343434, 0.33333333, 0.32323232, 0.31313131, 0.3030303 ,\n",
       "         0.29292929, 0.28282828, 0.27272727, 0.26262626, 0.25252525,\n",
       "         0.24242424, 0.23232323, 0.22222222, 0.21212121, 0.2020202 ,\n",
       "         0.19191919, 0.18181818, 0.17171717, 0.16161616, 0.15151515,\n",
       "         0.14141414, 0.13131313, 0.12121212, 0.11111111, 0.1010101 ,\n",
       "         0.09090909, 0.08080808, 0.07070707, 0.06060606, 0.05050505,\n",
       "         0.04040404, 0.03030303, 0.02020202, 0.01010101, 0.        ]), 'pi': array([2, 2, 2, 2, 2, 2, 2, 2, 2, 2, 2, 2, 2, 2, 2, 2, 2, 2, 2, 2, 2, 2,\n",
       "         2, 2, 2, 2, 2, 2, 2, 2, 2, 2, 2, 2, 2, 2, 2, 2, 2, 2, 2, 2, 2, 2,\n",
       "         2, 2, 2, 2, 2, 2, 2, 2, 2, 2, 2, 2, 2, 2, 2, 2, 2, 2, 2, 2, 2, 2,\n",
       "         2, 2, 2, 2, 2, 2, 2, 2, 2, 2, 2, 2, 2, 2, 2, 2, 2, 2, 2, 2, 2, 2,\n",
       "         2, 2, 2, 2, 2, 2, 2, 2, 2, 2, 2, 2])},\n",
       " (0.0,\n",
       "  0.01): {'V': array([1.        , 0.98989899, 0.97979798, 0.96969697, 0.95959596,\n",
       "         0.94949495, 0.93939394, 0.92929293, 0.91919192, 0.90909091,\n",
       "         0.8989899 , 0.88888889, 0.87878788, 0.86868687, 0.85858586,\n",
       "         0.84848485, 0.83838384, 0.82828283, 0.81818182, 0.80808081,\n",
       "         0.7979798 , 0.78787879, 0.77777778, 0.76767677, 0.75757576,\n",
       "         0.74747475, 0.73737374, 0.72727273, 0.71717172, 0.70707071,\n",
       "         0.6969697 , 0.68686869, 0.67676768, 0.66666667, 0.65656566,\n",
       "         0.64646465, 0.63636364, 0.62626263, 0.61616162, 0.60606061,\n",
       "         0.5959596 , 0.58585859, 0.57575758, 0.56565657, 0.55555556,\n",
       "         0.54545455, 0.53535354, 0.52525253, 0.51515152, 0.50505051,\n",
       "         0.49494949, 0.48484848, 0.47474747, 0.46464646, 0.45454545,\n",
       "         0.44444444, 0.43434343, 0.42424242, 0.41414141, 0.4040404 ,\n",
       "         0.39393939, 0.38383838, 0.37373737, 0.36363636, 0.35353535,\n",
       "         0.34343434, 0.33333333, 0.32323232, 0.31313131, 0.3030303 ,\n",
       "         0.29292929, 0.28282828, 0.27272727, 0.26262626, 0.25252525,\n",
       "         0.24242424, 0.23232323, 0.22222222, 0.21212121, 0.2020202 ,\n",
       "         0.19191919, 0.18181818, 0.17171717, 0.16161616, 0.15151515,\n",
       "         0.14141414, 0.13131313, 0.12121212, 0.11111111, 0.1010101 ,\n",
       "         0.09090909, 0.08080808, 0.07070707, 0.06060606, 0.05050505,\n",
       "         0.04040404, 0.03030303, 0.02020202, 0.01010101, 0.        ]), 'pi': array([2, 2, 2, 2, 2, 2, 2, 2, 2, 2, 2, 2, 2, 2, 2, 2, 2, 2, 2, 2, 2, 2,\n",
       "         2, 2, 2, 2, 2, 2, 2, 2, 2, 2, 2, 2, 2, 2, 2, 2, 2, 2, 2, 2, 2, 2,\n",
       "         2, 2, 2, 2, 2, 2, 2, 2, 2, 2, 2, 2, 2, 2, 2, 2, 2, 2, 2, 2, 2, 2,\n",
       "         2, 2, 2, 2, 2, 2, 2, 2, 2, 2, 2, 2, 2, 2, 2, 2, 2, 2, 2, 2, 2, 2,\n",
       "         2, 2, 2, 2, 2, 2, 2, 2, 2, 2, 2, 2])},\n",
       " (0.0,\n",
       "  0.001): {'V': array([1.        , 0.98989899, 0.97979798, 0.96969697, 0.95959596,\n",
       "         0.94949495, 0.93939394, 0.92929293, 0.91919192, 0.90909091,\n",
       "         0.8989899 , 0.88888889, 0.87878788, 0.86868687, 0.85858586,\n",
       "         0.84848485, 0.83838384, 0.82828283, 0.81818182, 0.80808081,\n",
       "         0.7979798 , 0.78787879, 0.77777778, 0.76767677, 0.75757576,\n",
       "         0.74747475, 0.73737374, 0.72727273, 0.71717172, 0.70707071,\n",
       "         0.6969697 , 0.68686869, 0.67676768, 0.66666667, 0.65656566,\n",
       "         0.64646465, 0.63636364, 0.62626263, 0.61616162, 0.60606061,\n",
       "         0.5959596 , 0.58585859, 0.57575758, 0.56565657, 0.55555556,\n",
       "         0.54545455, 0.53535354, 0.52525253, 0.51515152, 0.50505051,\n",
       "         0.49494949, 0.48484848, 0.47474747, 0.46464646, 0.45454545,\n",
       "         0.44444444, 0.43434343, 0.42424242, 0.41414141, 0.4040404 ,\n",
       "         0.39393939, 0.38383838, 0.37373737, 0.36363636, 0.35353535,\n",
       "         0.34343434, 0.33333333, 0.32323232, 0.31313131, 0.3030303 ,\n",
       "         0.29292929, 0.28282828, 0.27272727, 0.26262626, 0.25252525,\n",
       "         0.24242424, 0.23232323, 0.22222222, 0.21212121, 0.2020202 ,\n",
       "         0.19191919, 0.18181818, 0.17171717, 0.16161616, 0.15151515,\n",
       "         0.14141414, 0.13131313, 0.12121212, 0.11111111, 0.1010101 ,\n",
       "         0.09090909, 0.08080808, 0.07070707, 0.06060606, 0.05050505,\n",
       "         0.04040404, 0.03030303, 0.02020202, 0.01010101, 0.        ]), 'pi': array([2, 2, 2, 2, 2, 2, 2, 2, 2, 2, 2, 2, 2, 2, 2, 2, 2, 2, 2, 2, 2, 2,\n",
       "         2, 2, 2, 2, 2, 2, 2, 2, 2, 2, 2, 2, 2, 2, 2, 2, 2, 2, 2, 2, 2, 2,\n",
       "         2, 2, 2, 2, 2, 2, 2, 2, 2, 2, 2, 2, 2, 2, 2, 2, 2, 2, 2, 2, 2, 2,\n",
       "         2, 2, 2, 2, 2, 2, 2, 2, 2, 2, 2, 2, 2, 2, 2, 2, 2, 2, 2, 2, 2, 2,\n",
       "         2, 2, 2, 2, 2, 2, 2, 2, 2, 2, 2, 2])},\n",
       " (0.0,\n",
       "  1e-05): {'V': array([1.        , 0.98989899, 0.97979798, 0.96969697, 0.95959596,\n",
       "         0.94949495, 0.93939394, 0.92929293, 0.91919192, 0.90909091,\n",
       "         0.8989899 , 0.88888889, 0.87878788, 0.86868687, 0.85858586,\n",
       "         0.84848485, 0.83838384, 0.82828283, 0.81818182, 0.80808081,\n",
       "         0.7979798 , 0.78787879, 0.77777778, 0.76767677, 0.75757576,\n",
       "         0.74747475, 0.73737374, 0.72727273, 0.71717172, 0.70707071,\n",
       "         0.6969697 , 0.68686869, 0.67676768, 0.66666667, 0.65656566,\n",
       "         0.64646465, 0.63636364, 0.62626263, 0.61616162, 0.60606061,\n",
       "         0.5959596 , 0.58585859, 0.57575758, 0.56565657, 0.55555556,\n",
       "         0.54545455, 0.53535354, 0.52525253, 0.51515152, 0.50505051,\n",
       "         0.49494949, 0.48484848, 0.47474747, 0.46464646, 0.45454545,\n",
       "         0.44444444, 0.43434343, 0.42424242, 0.41414141, 0.4040404 ,\n",
       "         0.39393939, 0.38383838, 0.37373737, 0.36363636, 0.35353535,\n",
       "         0.34343434, 0.33333333, 0.32323232, 0.31313131, 0.3030303 ,\n",
       "         0.29292929, 0.28282828, 0.27272727, 0.26262626, 0.25252525,\n",
       "         0.24242424, 0.23232323, 0.22222222, 0.21212121, 0.2020202 ,\n",
       "         0.19191919, 0.18181818, 0.17171717, 0.16161616, 0.15151515,\n",
       "         0.14141414, 0.13131313, 0.12121212, 0.11111111, 0.1010101 ,\n",
       "         0.09090909, 0.08080808, 0.07070707, 0.06060606, 0.05050505,\n",
       "         0.04040404, 0.03030303, 0.02020202, 0.01010101, 0.        ]), 'pi': array([2, 2, 2, 2, 2, 2, 2, 2, 2, 2, 2, 2, 2, 2, 2, 2, 2, 2, 2, 2, 2, 2,\n",
       "         2, 2, 2, 2, 2, 2, 2, 2, 2, 2, 2, 2, 2, 2, 2, 2, 2, 2, 2, 2, 2, 2,\n",
       "         2, 2, 2, 2, 2, 2, 2, 2, 2, 2, 2, 2, 2, 2, 2, 2, 2, 2, 2, 2, 2, 2,\n",
       "         2, 2, 2, 2, 2, 2, 2, 2, 2, 2, 2, 2, 2, 2, 2, 2, 2, 2, 2, 2, 2, 2,\n",
       "         2, 2, 2, 2, 2, 2, 2, 2, 2, 2, 2, 2])},\n",
       " (0.1,\n",
       "  0.1): {'V': array([1.10000000e+00, 1.09439394e+00, 1.08350758e+00, 1.07235720e+00,\n",
       "         1.06119362e+00, 1.05002938e+00, 1.03886511e+00, 1.02770083e+00,\n",
       "         1.01653656e+00, 1.00537228e+00, 9.94208008e-01, 9.83043734e-01,\n",
       "         9.71879459e-01, 9.60715185e-01, 9.49550911e-01, 9.38386636e-01,\n",
       "         9.27222362e-01, 9.16058088e-01, 9.04893813e-01, 8.93729539e-01,\n",
       "         8.82565265e-01, 8.71400991e-01, 8.60236716e-01, 8.49072442e-01,\n",
       "         8.37908168e-01, 8.26743893e-01, 8.15579619e-01, 8.04415345e-01,\n",
       "         7.93251070e-01, 7.82086796e-01, 7.70922522e-01, 7.59758247e-01,\n",
       "         7.48593973e-01, 7.37429699e-01, 7.26265424e-01, 7.15101150e-01,\n",
       "         7.03936876e-01, 6.92772601e-01, 6.81608327e-01, 6.70444053e-01,\n",
       "         6.59279778e-01, 6.48115504e-01, 6.36951230e-01, 6.25786955e-01,\n",
       "         6.14622681e-01, 6.03458407e-01, 5.92294132e-01, 5.81129858e-01,\n",
       "         5.69965584e-01, 5.58801309e-01, 5.47637035e-01, 5.36472761e-01,\n",
       "         5.25308487e-01, 5.14144212e-01, 5.02979938e-01, 4.91815664e-01,\n",
       "         4.80651389e-01, 4.69487115e-01, 4.58322841e-01, 4.47158566e-01,\n",
       "         4.35994292e-01, 4.24830018e-01, 4.13665743e-01, 4.02501469e-01,\n",
       "         3.91337195e-01, 3.80172920e-01, 3.69008646e-01, 3.57844372e-01,\n",
       "         3.46680097e-01, 3.35515823e-01, 3.24351549e-01, 3.13187274e-01,\n",
       "         3.02023000e-01, 2.90858726e-01, 2.79694451e-01, 2.68530177e-01,\n",
       "         2.57365903e-01, 2.46201628e-01, 2.35037354e-01, 2.23873080e-01,\n",
       "         2.12708806e-01, 2.01544531e-01, 1.90380257e-01, 1.79215983e-01,\n",
       "         1.68051708e-01, 1.56887434e-01, 1.45723160e-01, 1.34558885e-01,\n",
       "         1.23394611e-01, 1.12230337e-01, 1.01066062e-01, 8.99017880e-02,\n",
       "         7.87375136e-02, 6.75732393e-02, 5.64089650e-02, 4.52446907e-02,\n",
       "         3.40804164e-02, 2.29161420e-02, 1.17518677e-02, 5.87593385e-04]), 'pi': array([2, 2, 2, 2, 2, 2, 2, 2, 2, 2, 2, 2, 2, 2, 2, 2, 2, 2, 2, 2, 2, 2,\n",
       "         2, 2, 2, 2, 2, 2, 2, 2, 2, 2, 2, 2, 2, 2, 2, 2, 2, 2, 2, 2, 2, 2,\n",
       "         2, 2, 2, 2, 2, 2, 2, 2, 2, 2, 2, 2, 2, 2, 2, 2, 2, 2, 2, 2, 2, 2,\n",
       "         2, 2, 2, 2, 2, 2, 2, 2, 2, 2, 2, 2, 2, 2, 2, 2, 2, 2, 2, 2, 2, 2,\n",
       "         2, 2, 2, 2, 2, 2, 2, 2, 2, 2, 2, 2])},\n",
       " (0.1,\n",
       "  0.01): {'V': array([1.10000000e+00, 1.09439394e+00, 1.08350758e+00, 1.07235720e+00,\n",
       "         1.06119362e+00, 1.05002938e+00, 1.03886511e+00, 1.02770083e+00,\n",
       "         1.01653656e+00, 1.00537228e+00, 9.94208008e-01, 9.83043734e-01,\n",
       "         9.71879459e-01, 9.60715185e-01, 9.49550911e-01, 9.38386636e-01,\n",
       "         9.27222362e-01, 9.16058088e-01, 9.04893813e-01, 8.93729539e-01,\n",
       "         8.82565265e-01, 8.71400991e-01, 8.60236716e-01, 8.49072442e-01,\n",
       "         8.37908168e-01, 8.26743893e-01, 8.15579619e-01, 8.04415345e-01,\n",
       "         7.93251070e-01, 7.82086796e-01, 7.70922522e-01, 7.59758247e-01,\n",
       "         7.48593973e-01, 7.37429699e-01, 7.26265424e-01, 7.15101150e-01,\n",
       "         7.03936876e-01, 6.92772601e-01, 6.81608327e-01, 6.70444053e-01,\n",
       "         6.59279778e-01, 6.48115504e-01, 6.36951230e-01, 6.25786955e-01,\n",
       "         6.14622681e-01, 6.03458407e-01, 5.92294132e-01, 5.81129858e-01,\n",
       "         5.69965584e-01, 5.58801309e-01, 5.47637035e-01, 5.36472761e-01,\n",
       "         5.25308487e-01, 5.14144212e-01, 5.02979938e-01, 4.91815664e-01,\n",
       "         4.80651389e-01, 4.69487115e-01, 4.58322841e-01, 4.47158566e-01,\n",
       "         4.35994292e-01, 4.24830018e-01, 4.13665743e-01, 4.02501469e-01,\n",
       "         3.91337195e-01, 3.80172920e-01, 3.69008646e-01, 3.57844372e-01,\n",
       "         3.46680097e-01, 3.35515823e-01, 3.24351549e-01, 3.13187274e-01,\n",
       "         3.02023000e-01, 2.90858726e-01, 2.79694451e-01, 2.68530177e-01,\n",
       "         2.57365903e-01, 2.46201628e-01, 2.35037354e-01, 2.23873080e-01,\n",
       "         2.12708806e-01, 2.01544531e-01, 1.90380257e-01, 1.79215983e-01,\n",
       "         1.68051708e-01, 1.56887434e-01, 1.45723160e-01, 1.34558885e-01,\n",
       "         1.23394611e-01, 1.12230337e-01, 1.01066062e-01, 8.99017880e-02,\n",
       "         7.87375136e-02, 6.75732393e-02, 5.64089650e-02, 4.52446907e-02,\n",
       "         3.40804164e-02, 2.29161420e-02, 1.17518677e-02, 5.87593385e-04]), 'pi': array([2, 2, 2, 2, 2, 2, 2, 2, 2, 2, 2, 2, 2, 2, 2, 2, 2, 2, 2, 2, 2, 2,\n",
       "         2, 2, 2, 2, 2, 2, 2, 2, 2, 2, 2, 2, 2, 2, 2, 2, 2, 2, 2, 2, 2, 2,\n",
       "         2, 2, 2, 2, 2, 2, 2, 2, 2, 2, 2, 2, 2, 2, 2, 2, 2, 2, 2, 2, 2, 2,\n",
       "         2, 2, 2, 2, 2, 2, 2, 2, 2, 2, 2, 2, 2, 2, 2, 2, 2, 2, 2, 2, 2, 2,\n",
       "         2, 2, 2, 2, 2, 2, 2, 2, 2, 2, 2, 2])},\n",
       " (0.1,\n",
       "  0.001): {'V': array([1.10000000e+00, 1.09439394e+00, 1.08350758e+00, 1.07235720e+00,\n",
       "         1.06119362e+00, 1.05002938e+00, 1.03886511e+00, 1.02770083e+00,\n",
       "         1.01653656e+00, 1.00537228e+00, 9.94208008e-01, 9.83043734e-01,\n",
       "         9.71879459e-01, 9.60715185e-01, 9.49550911e-01, 9.38386636e-01,\n",
       "         9.27222362e-01, 9.16058088e-01, 9.04893813e-01, 8.93729539e-01,\n",
       "         8.82565265e-01, 8.71400991e-01, 8.60236716e-01, 8.49072442e-01,\n",
       "         8.37908168e-01, 8.26743893e-01, 8.15579619e-01, 8.04415345e-01,\n",
       "         7.93251070e-01, 7.82086796e-01, 7.70922522e-01, 7.59758247e-01,\n",
       "         7.48593973e-01, 7.37429699e-01, 7.26265424e-01, 7.15101150e-01,\n",
       "         7.03936876e-01, 6.92772601e-01, 6.81608327e-01, 6.70444053e-01,\n",
       "         6.59279778e-01, 6.48115504e-01, 6.36951230e-01, 6.25786955e-01,\n",
       "         6.14622681e-01, 6.03458407e-01, 5.92294132e-01, 5.81129858e-01,\n",
       "         5.69965584e-01, 5.58801309e-01, 5.47637035e-01, 5.36472761e-01,\n",
       "         5.25308487e-01, 5.14144212e-01, 5.02979938e-01, 4.91815664e-01,\n",
       "         4.80651389e-01, 4.69487115e-01, 4.58322841e-01, 4.47158566e-01,\n",
       "         4.35994292e-01, 4.24830018e-01, 4.13665743e-01, 4.02501469e-01,\n",
       "         3.91337195e-01, 3.80172920e-01, 3.69008646e-01, 3.57844372e-01,\n",
       "         3.46680097e-01, 3.35515823e-01, 3.24351549e-01, 3.13187274e-01,\n",
       "         3.02023000e-01, 2.90858726e-01, 2.79694451e-01, 2.68530177e-01,\n",
       "         2.57365903e-01, 2.46201628e-01, 2.35037354e-01, 2.23873080e-01,\n",
       "         2.12708806e-01, 2.01544531e-01, 1.90380257e-01, 1.79215983e-01,\n",
       "         1.68051708e-01, 1.56887434e-01, 1.45723160e-01, 1.34558885e-01,\n",
       "         1.23394611e-01, 1.12230337e-01, 1.01066062e-01, 8.99017880e-02,\n",
       "         7.87375136e-02, 6.75732393e-02, 5.64089650e-02, 4.52446907e-02,\n",
       "         3.40804164e-02, 2.29161420e-02, 1.17518677e-02, 5.87593385e-04]), 'pi': array([2, 2, 2, 2, 2, 2, 2, 2, 2, 2, 2, 2, 2, 2, 2, 2, 2, 2, 2, 2, 2, 2,\n",
       "         2, 2, 2, 2, 2, 2, 2, 2, 2, 2, 2, 2, 2, 2, 2, 2, 2, 2, 2, 2, 2, 2,\n",
       "         2, 2, 2, 2, 2, 2, 2, 2, 2, 2, 2, 2, 2, 2, 2, 2, 2, 2, 2, 2, 2, 2,\n",
       "         2, 2, 2, 2, 2, 2, 2, 2, 2, 2, 2, 2, 2, 2, 2, 2, 2, 2, 2, 2, 2, 2,\n",
       "         2, 2, 2, 2, 2, 2, 2, 2, 2, 2, 2, 2])},\n",
       " (0.1,\n",
       "  1e-05): {'V': array([1.10000000e+00, 1.09439394e+00, 1.08350758e+00, 1.07235720e+00,\n",
       "         1.06119362e+00, 1.05002938e+00, 1.03886511e+00, 1.02770083e+00,\n",
       "         1.01653656e+00, 1.00537228e+00, 9.94208008e-01, 9.83043734e-01,\n",
       "         9.71879459e-01, 9.60715185e-01, 9.49550911e-01, 9.38386636e-01,\n",
       "         9.27222362e-01, 9.16058088e-01, 9.04893813e-01, 8.93729539e-01,\n",
       "         8.82565265e-01, 8.71400991e-01, 8.60236716e-01, 8.49072442e-01,\n",
       "         8.37908168e-01, 8.26743893e-01, 8.15579619e-01, 8.04415345e-01,\n",
       "         7.93251070e-01, 7.82086796e-01, 7.70922522e-01, 7.59758247e-01,\n",
       "         7.48593973e-01, 7.37429699e-01, 7.26265424e-01, 7.15101150e-01,\n",
       "         7.03936876e-01, 6.92772601e-01, 6.81608327e-01, 6.70444053e-01,\n",
       "         6.59279778e-01, 6.48115504e-01, 6.36951230e-01, 6.25786955e-01,\n",
       "         6.14622681e-01, 6.03458407e-01, 5.92294132e-01, 5.81129858e-01,\n",
       "         5.69965584e-01, 5.58801309e-01, 5.47637035e-01, 5.36472761e-01,\n",
       "         5.25308487e-01, 5.14144212e-01, 5.02979938e-01, 4.91815664e-01,\n",
       "         4.80651389e-01, 4.69487115e-01, 4.58322841e-01, 4.47158566e-01,\n",
       "         4.35994292e-01, 4.24830018e-01, 4.13665743e-01, 4.02501469e-01,\n",
       "         3.91337195e-01, 3.80172920e-01, 3.69008646e-01, 3.57844372e-01,\n",
       "         3.46680097e-01, 3.35515823e-01, 3.24351549e-01, 3.13187274e-01,\n",
       "         3.02023000e-01, 2.90858726e-01, 2.79694451e-01, 2.68530177e-01,\n",
       "         2.57365903e-01, 2.46201628e-01, 2.35037354e-01, 2.23873080e-01,\n",
       "         2.12708806e-01, 2.01544531e-01, 1.90380257e-01, 1.79215983e-01,\n",
       "         1.68051708e-01, 1.56887434e-01, 1.45723160e-01, 1.34558885e-01,\n",
       "         1.23394611e-01, 1.12230337e-01, 1.01066062e-01, 8.99017880e-02,\n",
       "         7.87375136e-02, 6.75732393e-02, 5.64089650e-02, 4.52446907e-02,\n",
       "         3.40804164e-02, 2.29161420e-02, 1.17518677e-02, 5.87593385e-04]), 'pi': array([2, 2, 2, 2, 2, 2, 2, 2, 2, 2, 2, 2, 2, 2, 2, 2, 2, 2, 2, 2, 2, 2,\n",
       "         2, 2, 2, 2, 2, 2, 2, 2, 2, 2, 2, 2, 2, 2, 2, 2, 2, 2, 2, 2, 2, 2,\n",
       "         2, 2, 2, 2, 2, 2, 2, 2, 2, 2, 2, 2, 2, 2, 2, 2, 2, 2, 2, 2, 2, 2,\n",
       "         2, 2, 2, 2, 2, 2, 2, 2, 2, 2, 2, 2, 2, 2, 2, 2, 2, 2, 2, 2, 2, 2,\n",
       "         2, 2, 2, 2, 2, 2, 2, 2, 2, 2, 2, 2])},\n",
       " (0.5,\n",
       "  0.1): {'V': array([1.5       , 1.61237374, 1.62784091, 1.61908144, 1.60426531,\n",
       "         1.58793501, 1.57122618, 1.55442271, 1.53759558, 1.52076253,\n",
       "         1.50392801, 1.48709311, 1.47025813, 1.45342312, 1.4365881 ,\n",
       "         1.41975309, 1.40291807, 1.38608305, 1.36924804, 1.35241302,\n",
       "         1.335578  , 1.31874299, 1.30190797, 1.28507295, 1.26823793,\n",
       "         1.25140292, 1.2345679 , 1.21773288, 1.20089787, 1.18406285,\n",
       "         1.16722783, 1.15039282, 1.1335578 , 1.11672278, 1.09988777,\n",
       "         1.08305275, 1.06621773, 1.04938272, 1.0325477 , 1.01571268,\n",
       "         0.99887767, 0.98204265, 0.96520763, 0.94837262, 0.9315376 ,\n",
       "         0.91470258, 0.89786756, 0.88103255, 0.86419753, 0.84736251,\n",
       "         0.8305275 , 0.81369248, 0.79685746, 0.78002245, 0.76318743,\n",
       "         0.74635241, 0.7295174 , 0.71268238, 0.69584736, 0.67901235,\n",
       "         0.66217733, 0.64534231, 0.6285073 , 0.61167228, 0.59483726,\n",
       "         0.57800224, 0.56116723, 0.54433221, 0.52749719, 0.51066218,\n",
       "         0.49382716, 0.47699214, 0.46015713, 0.44332211, 0.42648709,\n",
       "         0.40965208, 0.39281706, 0.37598204, 0.35914703, 0.34231201,\n",
       "         0.32547699, 0.30864198, 0.29180696, 0.27497194, 0.25813692,\n",
       "         0.24130191, 0.22446689, 0.20763187, 0.19079686, 0.17396184,\n",
       "         0.15712682, 0.14029181, 0.12345679, 0.10662177, 0.08978676,\n",
       "         0.07295174, 0.05611672, 0.03928171, 0.02244669, 0.00561167]), 'pi': array([2, 2, 2, 2, 2, 2, 2, 2, 2, 2, 2, 2, 2, 2, 2, 2, 2, 2, 2, 2, 2, 2,\n",
       "         2, 2, 2, 2, 2, 2, 2, 2, 2, 2, 2, 2, 2, 2, 2, 2, 2, 2, 2, 2, 2, 2,\n",
       "         2, 2, 2, 2, 2, 2, 2, 2, 2, 2, 2, 2, 2, 2, 2, 2, 2, 2, 2, 2, 2, 2,\n",
       "         2, 2, 2, 2, 2, 2, 2, 2, 2, 2, 2, 2, 2, 2, 2, 2, 2, 2, 2, 2, 2, 2,\n",
       "         2, 2, 2, 2, 2, 2, 2, 2, 2, 2, 2, 2])},\n",
       " (0.5,\n",
       "  0.01): {'V': array([1.5       , 1.61237374, 1.62784091, 1.61908144, 1.60426531,\n",
       "         1.58793501, 1.57122618, 1.55442271, 1.53759558, 1.52076253,\n",
       "         1.50392801, 1.48709311, 1.47025813, 1.45342312, 1.4365881 ,\n",
       "         1.41975309, 1.40291807, 1.38608305, 1.36924804, 1.35241302,\n",
       "         1.335578  , 1.31874299, 1.30190797, 1.28507295, 1.26823793,\n",
       "         1.25140292, 1.2345679 , 1.21773288, 1.20089787, 1.18406285,\n",
       "         1.16722783, 1.15039282, 1.1335578 , 1.11672278, 1.09988777,\n",
       "         1.08305275, 1.06621773, 1.04938272, 1.0325477 , 1.01571268,\n",
       "         0.99887767, 0.98204265, 0.96520763, 0.94837262, 0.9315376 ,\n",
       "         0.91470258, 0.89786756, 0.88103255, 0.86419753, 0.84736251,\n",
       "         0.8305275 , 0.81369248, 0.79685746, 0.78002245, 0.76318743,\n",
       "         0.74635241, 0.7295174 , 0.71268238, 0.69584736, 0.67901235,\n",
       "         0.66217733, 0.64534231, 0.6285073 , 0.61167228, 0.59483726,\n",
       "         0.57800224, 0.56116723, 0.54433221, 0.52749719, 0.51066218,\n",
       "         0.49382716, 0.47699214, 0.46015713, 0.44332211, 0.42648709,\n",
       "         0.40965208, 0.39281706, 0.37598204, 0.35914703, 0.34231201,\n",
       "         0.32547699, 0.30864198, 0.29180696, 0.27497194, 0.25813692,\n",
       "         0.24130191, 0.22446689, 0.20763187, 0.19079686, 0.17396184,\n",
       "         0.15712682, 0.14029181, 0.12345679, 0.10662177, 0.08978676,\n",
       "         0.07295174, 0.05611672, 0.03928171, 0.02244669, 0.00561167]), 'pi': array([2, 2, 2, 2, 2, 2, 2, 2, 2, 2, 2, 2, 2, 2, 2, 2, 2, 2, 2, 2, 2, 2,\n",
       "         2, 2, 2, 2, 2, 2, 2, 2, 2, 2, 2, 2, 2, 2, 2, 2, 2, 2, 2, 2, 2, 2,\n",
       "         2, 2, 2, 2, 2, 2, 2, 2, 2, 2, 2, 2, 2, 2, 2, 2, 2, 2, 2, 2, 2, 2,\n",
       "         2, 2, 2, 2, 2, 2, 2, 2, 2, 2, 2, 2, 2, 2, 2, 2, 2, 2, 2, 2, 2, 2,\n",
       "         2, 2, 2, 2, 2, 2, 2, 2, 2, 2, 2, 2])},\n",
       " (0.5,\n",
       "  0.001): {'V': array([1.5       , 1.61237374, 1.62784091, 1.61908144, 1.60426531,\n",
       "         1.58793501, 1.57122618, 1.55442271, 1.53759558, 1.52076253,\n",
       "         1.50392801, 1.48709311, 1.47025813, 1.45342312, 1.4365881 ,\n",
       "         1.41975309, 1.40291807, 1.38608305, 1.36924804, 1.35241302,\n",
       "         1.335578  , 1.31874299, 1.30190797, 1.28507295, 1.26823793,\n",
       "         1.25140292, 1.2345679 , 1.21773288, 1.20089787, 1.18406285,\n",
       "         1.16722783, 1.15039282, 1.1335578 , 1.11672278, 1.09988777,\n",
       "         1.08305275, 1.06621773, 1.04938272, 1.0325477 , 1.01571268,\n",
       "         0.99887767, 0.98204265, 0.96520763, 0.94837262, 0.9315376 ,\n",
       "         0.91470258, 0.89786756, 0.88103255, 0.86419753, 0.84736251,\n",
       "         0.8305275 , 0.81369248, 0.79685746, 0.78002245, 0.76318743,\n",
       "         0.74635241, 0.7295174 , 0.71268238, 0.69584736, 0.67901235,\n",
       "         0.66217733, 0.64534231, 0.6285073 , 0.61167228, 0.59483726,\n",
       "         0.57800224, 0.56116723, 0.54433221, 0.52749719, 0.51066218,\n",
       "         0.49382716, 0.47699214, 0.46015713, 0.44332211, 0.42648709,\n",
       "         0.40965208, 0.39281706, 0.37598204, 0.35914703, 0.34231201,\n",
       "         0.32547699, 0.30864198, 0.29180696, 0.27497194, 0.25813692,\n",
       "         0.24130191, 0.22446689, 0.20763187, 0.19079686, 0.17396184,\n",
       "         0.15712682, 0.14029181, 0.12345679, 0.10662177, 0.08978676,\n",
       "         0.07295174, 0.05611672, 0.03928171, 0.02244669, 0.00561167]), 'pi': array([2, 2, 2, 2, 2, 2, 2, 2, 2, 2, 2, 2, 2, 2, 2, 2, 2, 2, 2, 2, 2, 2,\n",
       "         2, 2, 2, 2, 2, 2, 2, 2, 2, 2, 2, 2, 2, 2, 2, 2, 2, 2, 2, 2, 2, 2,\n",
       "         2, 2, 2, 2, 2, 2, 2, 2, 2, 2, 2, 2, 2, 2, 2, 2, 2, 2, 2, 2, 2, 2,\n",
       "         2, 2, 2, 2, 2, 2, 2, 2, 2, 2, 2, 2, 2, 2, 2, 2, 2, 2, 2, 2, 2, 2,\n",
       "         2, 2, 2, 2, 2, 2, 2, 2, 2, 2, 2, 2])},\n",
       " (0.5,\n",
       "  1e-05): {'V': array([1.5       , 1.61237374, 1.62784091, 1.61908144, 1.60426531,\n",
       "         1.58793501, 1.57122618, 1.55442271, 1.53759558, 1.52076253,\n",
       "         1.50392801, 1.48709311, 1.47025813, 1.45342312, 1.4365881 ,\n",
       "         1.41975309, 1.40291807, 1.38608305, 1.36924804, 1.35241302,\n",
       "         1.335578  , 1.31874299, 1.30190797, 1.28507295, 1.26823793,\n",
       "         1.25140292, 1.2345679 , 1.21773288, 1.20089787, 1.18406285,\n",
       "         1.16722783, 1.15039282, 1.1335578 , 1.11672278, 1.09988777,\n",
       "         1.08305275, 1.06621773, 1.04938272, 1.0325477 , 1.01571268,\n",
       "         0.99887767, 0.98204265, 0.96520763, 0.94837262, 0.9315376 ,\n",
       "         0.91470258, 0.89786756, 0.88103255, 0.86419753, 0.84736251,\n",
       "         0.8305275 , 0.81369248, 0.79685746, 0.78002245, 0.76318743,\n",
       "         0.74635241, 0.7295174 , 0.71268238, 0.69584736, 0.67901235,\n",
       "         0.66217733, 0.64534231, 0.6285073 , 0.61167228, 0.59483726,\n",
       "         0.57800224, 0.56116723, 0.54433221, 0.52749719, 0.51066218,\n",
       "         0.49382716, 0.47699214, 0.46015713, 0.44332211, 0.42648709,\n",
       "         0.40965208, 0.39281706, 0.37598204, 0.35914703, 0.34231201,\n",
       "         0.32547699, 0.30864198, 0.29180696, 0.27497194, 0.25813692,\n",
       "         0.24130191, 0.22446689, 0.20763187, 0.19079686, 0.17396184,\n",
       "         0.15712682, 0.14029181, 0.12345679, 0.10662177, 0.08978676,\n",
       "         0.07295174, 0.05611672, 0.03928171, 0.02244669, 0.00561167]), 'pi': array([2, 2, 2, 2, 2, 2, 2, 2, 2, 2, 2, 2, 2, 2, 2, 2, 2, 2, 2, 2, 2, 2,\n",
       "         2, 2, 2, 2, 2, 2, 2, 2, 2, 2, 2, 2, 2, 2, 2, 2, 2, 2, 2, 2, 2, 2,\n",
       "         2, 2, 2, 2, 2, 2, 2, 2, 2, 2, 2, 2, 2, 2, 2, 2, 2, 2, 2, 2, 2, 2,\n",
       "         2, 2, 2, 2, 2, 2, 2, 2, 2, 2, 2, 2, 2, 2, 2, 2, 2, 2, 2, 2, 2, 2,\n",
       "         2, 2, 2, 2, 2, 2, 2, 2, 2, 2, 2, 2])},\n",
       " (0.9,\n",
       "  0.1): {'V': array([1.9       , 2.29035354, 2.45136616, 2.50917538, 2.52054306,\n",
       "         2.51101205, 2.49207664, 2.46890923, 2.44383744, 2.41790867,\n",
       "         2.39159425, 2.3651063 , 2.33854026, 2.31193908, 2.28532208,\n",
       "         2.25869797, 2.23207065, 2.20544189, 2.17881249, 2.15218279,\n",
       "         2.12555296, 2.09892308, 2.07229316, 2.04566324, 2.0190333 ,\n",
       "         1.99240337, 1.96577344, 1.9391435 , 1.91251357, 1.88588363,\n",
       "         1.85925369, 1.83262376, 1.80599382, 1.77936389, 1.75273395,\n",
       "         1.72610402, 1.69947408, 1.67284414, 1.64621421, 1.61958427,\n",
       "         1.59295434, 1.5663244 , 1.53969447, 1.51306453, 1.48643459,\n",
       "         1.45980466, 1.43317472, 1.40654479, 1.37991485, 1.35328492,\n",
       "         1.32665498, 1.30002504, 1.27339511, 1.24676517, 1.22013524,\n",
       "         1.1935053 , 1.16687537, 1.14024543, 1.11361549, 1.08698556,\n",
       "         1.06035562, 1.03372569, 1.00709575, 0.98046582, 0.95383588,\n",
       "         0.92720594, 0.90057601, 0.87394607, 0.84731614, 0.8206862 ,\n",
       "         0.79405627, 0.76742633, 0.74079639, 0.71416646, 0.68753652,\n",
       "         0.66090659, 0.63427665, 0.60764672, 0.58101678, 0.55438684,\n",
       "         0.52775691, 0.50112697, 0.47449704, 0.4478671 , 0.42123717,\n",
       "         0.39460723, 0.36797729, 0.34134736, 0.31471742, 0.28808749,\n",
       "         0.26145755, 0.23482761, 0.20819768, 0.18156774, 0.15493781,\n",
       "         0.12830787, 0.10167794, 0.075048  , 0.04841806, 0.02178813]), 'pi': array([2, 2, 2, 2, 2, 2, 2, 2, 2, 2, 2, 2, 2, 2, 2, 2, 2, 2, 2, 2, 2, 2,\n",
       "         2, 2, 2, 2, 2, 2, 2, 2, 2, 2, 2, 2, 2, 2, 2, 2, 2, 2, 2, 2, 2, 2,\n",
       "         2, 2, 2, 2, 2, 2, 2, 2, 2, 2, 2, 2, 2, 2, 2, 2, 2, 2, 2, 2, 2, 2,\n",
       "         2, 2, 2, 2, 2, 2, 2, 2, 2, 2, 2, 2, 2, 2, 2, 2, 2, 2, 2, 2, 2, 2,\n",
       "         2, 2, 2, 2, 2, 2, 2, 2, 2, 2, 2, 2])},\n",
       " (0.9,\n",
       "  0.01): {'V': array([1.9       , 2.29035354, 2.45136616, 2.50917538, 2.52054306,\n",
       "         2.51101205, 2.49207664, 2.46890923, 2.44383744, 2.41790867,\n",
       "         2.39159425, 2.3651063 , 2.33854026, 2.31193908, 2.28532208,\n",
       "         2.25869797, 2.23207065, 2.20544189, 2.17881249, 2.15218279,\n",
       "         2.12555296, 2.09892308, 2.07229316, 2.04566324, 2.0190333 ,\n",
       "         1.99240337, 1.96577344, 1.9391435 , 1.91251357, 1.88588363,\n",
       "         1.85925369, 1.83262376, 1.80599382, 1.77936389, 1.75273395,\n",
       "         1.72610402, 1.69947408, 1.67284414, 1.64621421, 1.61958427,\n",
       "         1.59295434, 1.5663244 , 1.53969447, 1.51306453, 1.48643459,\n",
       "         1.45980466, 1.43317472, 1.40654479, 1.37991485, 1.35328492,\n",
       "         1.32665498, 1.30002504, 1.27339511, 1.24676517, 1.22013524,\n",
       "         1.1935053 , 1.16687537, 1.14024543, 1.11361549, 1.08698556,\n",
       "         1.06035562, 1.03372569, 1.00709575, 0.98046582, 0.95383588,\n",
       "         0.92720594, 0.90057601, 0.87394607, 0.84731614, 0.8206862 ,\n",
       "         0.79405627, 0.76742633, 0.74079639, 0.71416646, 0.68753652,\n",
       "         0.66090659, 0.63427665, 0.60764672, 0.58101678, 0.55438684,\n",
       "         0.52775691, 0.50112697, 0.47449704, 0.4478671 , 0.42123717,\n",
       "         0.39460723, 0.36797729, 0.34134736, 0.31471742, 0.28808749,\n",
       "         0.26145755, 0.23482761, 0.20819768, 0.18156774, 0.15493781,\n",
       "         0.12830787, 0.10167794, 0.075048  , 0.04841806, 0.02178813]), 'pi': array([2, 2, 2, 2, 2, 2, 2, 2, 2, 2, 2, 2, 2, 2, 2, 2, 2, 2, 2, 2, 2, 2,\n",
       "         2, 2, 2, 2, 2, 2, 2, 2, 2, 2, 2, 2, 2, 2, 2, 2, 2, 2, 2, 2, 2, 2,\n",
       "         2, 2, 2, 2, 2, 2, 2, 2, 2, 2, 2, 2, 2, 2, 2, 2, 2, 2, 2, 2, 2, 2,\n",
       "         2, 2, 2, 2, 2, 2, 2, 2, 2, 2, 2, 2, 2, 2, 2, 2, 2, 2, 2, 2, 2, 2,\n",
       "         2, 2, 2, 2, 2, 2, 2, 2, 2, 2, 2, 2])},\n",
       " (0.9,\n",
       "  0.001): {'V': array([1.9       , 2.29035354, 2.45136616, 2.50917538, 2.52054306,\n",
       "         2.51101205, 2.49207664, 2.46890923, 2.44383744, 2.41790867,\n",
       "         2.39159425, 2.3651063 , 2.33854026, 2.31193908, 2.28532208,\n",
       "         2.25869797, 2.23207065, 2.20544189, 2.17881249, 2.15218279,\n",
       "         2.12555296, 2.09892308, 2.07229316, 2.04566324, 2.0190333 ,\n",
       "         1.99240337, 1.96577344, 1.9391435 , 1.91251357, 1.88588363,\n",
       "         1.85925369, 1.83262376, 1.80599382, 1.77936389, 1.75273395,\n",
       "         1.72610402, 1.69947408, 1.67284414, 1.64621421, 1.61958427,\n",
       "         1.59295434, 1.5663244 , 1.53969447, 1.51306453, 1.48643459,\n",
       "         1.45980466, 1.43317472, 1.40654479, 1.37991485, 1.35328492,\n",
       "         1.32665498, 1.30002504, 1.27339511, 1.24676517, 1.22013524,\n",
       "         1.1935053 , 1.16687537, 1.14024543, 1.11361549, 1.08698556,\n",
       "         1.06035562, 1.03372569, 1.00709575, 0.98046582, 0.95383588,\n",
       "         0.92720594, 0.90057601, 0.87394607, 0.84731614, 0.8206862 ,\n",
       "         0.79405627, 0.76742633, 0.74079639, 0.71416646, 0.68753652,\n",
       "         0.66090659, 0.63427665, 0.60764672, 0.58101678, 0.55438684,\n",
       "         0.52775691, 0.50112697, 0.47449704, 0.4478671 , 0.42123717,\n",
       "         0.39460723, 0.36797729, 0.34134736, 0.31471742, 0.28808749,\n",
       "         0.26145755, 0.23482761, 0.20819768, 0.18156774, 0.15493781,\n",
       "         0.12830787, 0.10167794, 0.075048  , 0.04841806, 0.02178813]), 'pi': array([2, 2, 2, 2, 2, 2, 2, 2, 2, 2, 2, 2, 2, 2, 2, 2, 2, 2, 2, 2, 2, 2,\n",
       "         2, 2, 2, 2, 2, 2, 2, 2, 2, 2, 2, 2, 2, 2, 2, 2, 2, 2, 2, 2, 2, 2,\n",
       "         2, 2, 2, 2, 2, 2, 2, 2, 2, 2, 2, 2, 2, 2, 2, 2, 2, 2, 2, 2, 2, 2,\n",
       "         2, 2, 2, 2, 2, 2, 2, 2, 2, 2, 2, 2, 2, 2, 2, 2, 2, 2, 2, 2, 2, 2,\n",
       "         2, 2, 2, 2, 2, 2, 2, 2, 2, 2, 2, 2])},\n",
       " (0.9,\n",
       "  1e-05): {'V': array([1.9       , 2.29035354, 2.45136616, 2.50917538, 2.52054306,\n",
       "         2.51101205, 2.49207664, 2.46890923, 2.44383744, 2.41790867,\n",
       "         2.39159425, 2.3651063 , 2.33854026, 2.31193908, 2.28532208,\n",
       "         2.25869797, 2.23207065, 2.20544189, 2.17881249, 2.15218279,\n",
       "         2.12555296, 2.09892308, 2.07229316, 2.04566324, 2.0190333 ,\n",
       "         1.99240337, 1.96577344, 1.9391435 , 1.91251357, 1.88588363,\n",
       "         1.85925369, 1.83262376, 1.80599382, 1.77936389, 1.75273395,\n",
       "         1.72610402, 1.69947408, 1.67284414, 1.64621421, 1.61958427,\n",
       "         1.59295434, 1.5663244 , 1.53969447, 1.51306453, 1.48643459,\n",
       "         1.45980466, 1.43317472, 1.40654479, 1.37991485, 1.35328492,\n",
       "         1.32665498, 1.30002504, 1.27339511, 1.24676517, 1.22013524,\n",
       "         1.1935053 , 1.16687537, 1.14024543, 1.11361549, 1.08698556,\n",
       "         1.06035562, 1.03372569, 1.00709575, 0.98046582, 0.95383588,\n",
       "         0.92720594, 0.90057601, 0.87394607, 0.84731614, 0.8206862 ,\n",
       "         0.79405627, 0.76742633, 0.74079639, 0.71416646, 0.68753652,\n",
       "         0.66090659, 0.63427665, 0.60764672, 0.58101678, 0.55438684,\n",
       "         0.52775691, 0.50112697, 0.47449704, 0.4478671 , 0.42123717,\n",
       "         0.39460723, 0.36797729, 0.34134736, 0.31471742, 0.28808749,\n",
       "         0.26145755, 0.23482761, 0.20819768, 0.18156774, 0.15493781,\n",
       "         0.12830787, 0.10167794, 0.075048  , 0.04841806, 0.02178813]), 'pi': array([2, 2, 2, 2, 2, 2, 2, 2, 2, 2, 2, 2, 2, 2, 2, 2, 2, 2, 2, 2, 2, 2,\n",
       "         2, 2, 2, 2, 2, 2, 2, 2, 2, 2, 2, 2, 2, 2, 2, 2, 2, 2, 2, 2, 2, 2,\n",
       "         2, 2, 2, 2, 2, 2, 2, 2, 2, 2, 2, 2, 2, 2, 2, 2, 2, 2, 2, 2, 2, 2,\n",
       "         2, 2, 2, 2, 2, 2, 2, 2, 2, 2, 2, 2, 2, 2, 2, 2, 2, 2, 2, 2, 2, 2,\n",
       "         2, 2, 2, 2, 2, 2, 2, 2, 2, 2, 2, 2])},\n",
       " (0.99,\n",
       "  0.1): {'V': array([1.99      , 2.46494899, 2.68494773, 2.7787461 , 2.81007528,\n",
       "         2.81048221, 2.79558263, 2.77310633, 2.74687955, 2.71879629,\n",
       "         2.68979406, 2.66033695, 2.63065467, 2.60086093, 2.57101202,\n",
       "         2.5411358 , 2.51124606, 2.48134963, 2.45144988, 2.4215485 ,\n",
       "         2.39164631, 2.36174371, 2.33184091, 2.30193802, 2.27203508,\n",
       "         2.24213211, 2.21222913, 2.18232615, 2.15242316, 2.12252017,\n",
       "         2.09261718, 2.06271419, 2.0328112 , 2.00290821, 1.97300522,\n",
       "         1.94310223, 1.91319924, 1.88329625, 1.85339326, 1.82349027,\n",
       "         1.79358728, 1.76368429, 1.7337813 , 1.70387831, 1.67397532,\n",
       "         1.64407233, 1.61416934, 1.58426635, 1.55436336, 1.52446037,\n",
       "         1.49455738, 1.46465439, 1.4347514 , 1.40484841, 1.37494542,\n",
       "         1.34504243, 1.31513943, 1.28523644, 1.25533345, 1.22543046,\n",
       "         1.19552747, 1.16562448, 1.13572149, 1.1058185 , 1.07591551,\n",
       "         1.04601252, 1.01610953, 0.98620654, 0.95630355, 0.92640056,\n",
       "         0.89649757, 0.86659458, 0.83669159, 0.8067886 , 0.77688561,\n",
       "         0.74698262, 0.71707963, 0.68717664, 0.65727365, 0.62737066,\n",
       "         0.59746767, 0.56756468, 0.53766169, 0.5077587 , 0.47785571,\n",
       "         0.44795272, 0.41804973, 0.38814674, 0.35824375, 0.32834075,\n",
       "         0.29843776, 0.26853477, 0.23863178, 0.20872879, 0.1788258 ,\n",
       "         0.14892281, 0.11901982, 0.08911683, 0.05921384, 0.02931085]), 'pi': array([2, 2, 2, 2, 2, 2, 2, 2, 2, 2, 2, 2, 2, 2, 2, 2, 2, 2, 2, 2, 2, 2,\n",
       "         2, 2, 2, 2, 2, 2, 2, 2, 2, 2, 2, 2, 2, 2, 2, 2, 2, 2, 2, 2, 2, 2,\n",
       "         2, 2, 2, 2, 2, 2, 2, 2, 2, 2, 2, 2, 2, 2, 2, 2, 2, 2, 2, 2, 2, 2,\n",
       "         2, 2, 2, 2, 2, 2, 2, 2, 2, 2, 2, 2, 2, 2, 2, 2, 2, 2, 2, 2, 2, 2,\n",
       "         2, 2, 2, 2, 2, 2, 2, 2, 2, 2, 2, 2])},\n",
       " (0.99,\n",
       "  0.01): {'V': array([1.99      , 2.46494899, 2.68494773, 2.7787461 , 2.81007528,\n",
       "         2.81048221, 2.79558263, 2.77310633, 2.74687955, 2.71879629,\n",
       "         2.68979406, 2.66033695, 2.63065467, 2.60086093, 2.57101202,\n",
       "         2.5411358 , 2.51124606, 2.48134963, 2.45144988, 2.4215485 ,\n",
       "         2.39164631, 2.36174371, 2.33184091, 2.30193802, 2.27203508,\n",
       "         2.24213211, 2.21222913, 2.18232615, 2.15242316, 2.12252017,\n",
       "         2.09261718, 2.06271419, 2.0328112 , 2.00290821, 1.97300522,\n",
       "         1.94310223, 1.91319924, 1.88329625, 1.85339326, 1.82349027,\n",
       "         1.79358728, 1.76368429, 1.7337813 , 1.70387831, 1.67397532,\n",
       "         1.64407233, 1.61416934, 1.58426635, 1.55436336, 1.52446037,\n",
       "         1.49455738, 1.46465439, 1.4347514 , 1.40484841, 1.37494542,\n",
       "         1.34504243, 1.31513943, 1.28523644, 1.25533345, 1.22543046,\n",
       "         1.19552747, 1.16562448, 1.13572149, 1.1058185 , 1.07591551,\n",
       "         1.04601252, 1.01610953, 0.98620654, 0.95630355, 0.92640056,\n",
       "         0.89649757, 0.86659458, 0.83669159, 0.8067886 , 0.77688561,\n",
       "         0.74698262, 0.71707963, 0.68717664, 0.65727365, 0.62737066,\n",
       "         0.59746767, 0.56756468, 0.53766169, 0.5077587 , 0.47785571,\n",
       "         0.44795272, 0.41804973, 0.38814674, 0.35824375, 0.32834075,\n",
       "         0.29843776, 0.26853477, 0.23863178, 0.20872879, 0.1788258 ,\n",
       "         0.14892281, 0.11901982, 0.08911683, 0.05921384, 0.02931085]), 'pi': array([2, 2, 2, 2, 2, 2, 2, 2, 2, 2, 2, 2, 2, 2, 2, 2, 2, 2, 2, 2, 2, 2,\n",
       "         2, 2, 2, 2, 2, 2, 2, 2, 2, 2, 2, 2, 2, 2, 2, 2, 2, 2, 2, 2, 2, 2,\n",
       "         2, 2, 2, 2, 2, 2, 2, 2, 2, 2, 2, 2, 2, 2, 2, 2, 2, 2, 2, 2, 2, 2,\n",
       "         2, 2, 2, 2, 2, 2, 2, 2, 2, 2, 2, 2, 2, 2, 2, 2, 2, 2, 2, 2, 2, 2,\n",
       "         2, 2, 2, 2, 2, 2, 2, 2, 2, 2, 2, 2])},\n",
       " (0.99,\n",
       "  0.001): {'V': array([1.99      , 2.46494899, 2.68494773, 2.7787461 , 2.81007528,\n",
       "         2.81048221, 2.79558263, 2.77310633, 2.74687955, 2.71879629,\n",
       "         2.68979406, 2.66033695, 2.63065467, 2.60086093, 2.57101202,\n",
       "         2.5411358 , 2.51124606, 2.48134963, 2.45144988, 2.4215485 ,\n",
       "         2.39164631, 2.36174371, 2.33184091, 2.30193802, 2.27203508,\n",
       "         2.24213211, 2.21222913, 2.18232615, 2.15242316, 2.12252017,\n",
       "         2.09261718, 2.06271419, 2.0328112 , 2.00290821, 1.97300522,\n",
       "         1.94310223, 1.91319924, 1.88329625, 1.85339326, 1.82349027,\n",
       "         1.79358728, 1.76368429, 1.7337813 , 1.70387831, 1.67397532,\n",
       "         1.64407233, 1.61416934, 1.58426635, 1.55436336, 1.52446037,\n",
       "         1.49455738, 1.46465439, 1.4347514 , 1.40484841, 1.37494542,\n",
       "         1.34504243, 1.31513943, 1.28523644, 1.25533345, 1.22543046,\n",
       "         1.19552747, 1.16562448, 1.13572149, 1.1058185 , 1.07591551,\n",
       "         1.04601252, 1.01610953, 0.98620654, 0.95630355, 0.92640056,\n",
       "         0.89649757, 0.86659458, 0.83669159, 0.8067886 , 0.77688561,\n",
       "         0.74698262, 0.71707963, 0.68717664, 0.65727365, 0.62737066,\n",
       "         0.59746767, 0.56756468, 0.53766169, 0.5077587 , 0.47785571,\n",
       "         0.44795272, 0.41804973, 0.38814674, 0.35824375, 0.32834075,\n",
       "         0.29843776, 0.26853477, 0.23863178, 0.20872879, 0.1788258 ,\n",
       "         0.14892281, 0.11901982, 0.08911683, 0.05921384, 0.02931085]), 'pi': array([2, 2, 2, 2, 2, 2, 2, 2, 2, 2, 2, 2, 2, 2, 2, 2, 2, 2, 2, 2, 2, 2,\n",
       "         2, 2, 2, 2, 2, 2, 2, 2, 2, 2, 2, 2, 2, 2, 2, 2, 2, 2, 2, 2, 2, 2,\n",
       "         2, 2, 2, 2, 2, 2, 2, 2, 2, 2, 2, 2, 2, 2, 2, 2, 2, 2, 2, 2, 2, 2,\n",
       "         2, 2, 2, 2, 2, 2, 2, 2, 2, 2, 2, 2, 2, 2, 2, 2, 2, 2, 2, 2, 2, 2,\n",
       "         2, 2, 2, 2, 2, 2, 2, 2, 2, 2, 2, 2])},\n",
       " (0.99,\n",
       "  1e-05): {'V': array([1.99      , 2.46494899, 2.68494773, 2.7787461 , 2.81007528,\n",
       "         2.81048221, 2.79558263, 2.77310633, 2.74687955, 2.71879629,\n",
       "         2.68979406, 2.66033695, 2.63065467, 2.60086093, 2.57101202,\n",
       "         2.5411358 , 2.51124606, 2.48134963, 2.45144988, 2.4215485 ,\n",
       "         2.39164631, 2.36174371, 2.33184091, 2.30193802, 2.27203508,\n",
       "         2.24213211, 2.21222913, 2.18232615, 2.15242316, 2.12252017,\n",
       "         2.09261718, 2.06271419, 2.0328112 , 2.00290821, 1.97300522,\n",
       "         1.94310223, 1.91319924, 1.88329625, 1.85339326, 1.82349027,\n",
       "         1.79358728, 1.76368429, 1.7337813 , 1.70387831, 1.67397532,\n",
       "         1.64407233, 1.61416934, 1.58426635, 1.55436336, 1.52446037,\n",
       "         1.49455738, 1.46465439, 1.4347514 , 1.40484841, 1.37494542,\n",
       "         1.34504243, 1.31513943, 1.28523644, 1.25533345, 1.22543046,\n",
       "         1.19552747, 1.16562448, 1.13572149, 1.1058185 , 1.07591551,\n",
       "         1.04601252, 1.01610953, 0.98620654, 0.95630355, 0.92640056,\n",
       "         0.89649757, 0.86659458, 0.83669159, 0.8067886 , 0.77688561,\n",
       "         0.74698262, 0.71707963, 0.68717664, 0.65727365, 0.62737066,\n",
       "         0.59746767, 0.56756468, 0.53766169, 0.5077587 , 0.47785571,\n",
       "         0.44795272, 0.41804973, 0.38814674, 0.35824375, 0.32834075,\n",
       "         0.29843776, 0.26853477, 0.23863178, 0.20872879, 0.1788258 ,\n",
       "         0.14892281, 0.11901982, 0.08911683, 0.05921384, 0.02931085]), 'pi': array([2, 2, 2, 2, 2, 2, 2, 2, 2, 2, 2, 2, 2, 2, 2, 2, 2, 2, 2, 2, 2, 2,\n",
       "         2, 2, 2, 2, 2, 2, 2, 2, 2, 2, 2, 2, 2, 2, 2, 2, 2, 2, 2, 2, 2, 2,\n",
       "         2, 2, 2, 2, 2, 2, 2, 2, 2, 2, 2, 2, 2, 2, 2, 2, 2, 2, 2, 2, 2, 2,\n",
       "         2, 2, 2, 2, 2, 2, 2, 2, 2, 2, 2, 2, 2, 2, 2, 2, 2, 2, 2, 2, 2, 2,\n",
       "         2, 2, 2, 2, 2, 2, 2, 2, 2, 2, 2, 2])}}"
      ]
     },
     "execution_count": 35,
     "metadata": {},
     "output_type": "execute_result"
    }
   ],
   "source": [
    "resultados"
   ]
  },
  {
   "cell_type": "markdown",
   "metadata": {},
   "source": [
    "---\n",
    "\n",
    "**Comentarios:**\n",
    "\n",
    "El costo de reemplazo es tan alto que ni siquiera en el estado más deteriorado (estado 1) conviene pagar 100 para tener un estado nuevo. Aunque el sistema se degrade, el modelo prefiere seguir pagando los pequeños costos de funcionamiento antes que hacer un reemplazo tan costoso.\n",
    "\n",
    "---"
   ]
  },
  {
   "cell_type": "markdown",
   "metadata": {},
   "source": [
    "**Respuesta 6:**"
   ]
  },
  {
   "cell_type": "code",
   "execution_count": 36,
   "metadata": {},
   "outputs": [],
   "source": [
    "S = 100"
   ]
  },
  {
   "cell_type": "markdown",
   "metadata": {},
   "source": [
    "**6a) Test para un γ chico (el futuro importa poco), distintos valores de C y θ**"
   ]
  },
  {
   "cell_type": "code",
   "execution_count": 37,
   "metadata": {},
   "outputs": [],
   "source": [
    "pasos = 100\n",
    "estado_inicial = 100\n",
    "semilla = 42"
   ]
  },
  {
   "cell_type": "code",
   "execution_count": 38,
   "metadata": {},
   "outputs": [],
   "source": [
    "# el futuro importa poco\n",
    "gamma = 0.1\n",
    "# el costo de reemplazar es alto\n",
    "C = 2\n",
    "# degradacion rapida\n",
    "theta = 0.9"
   ]
  },
  {
   "cell_type": "markdown",
   "metadata": {},
   "source": [
    "Con C = 2, el costo de reemplazar no es tan alto, así que podría pasar que la política reemplace temprano si eso minimiza el costo inmediato."
   ]
  },
  {
   "cell_type": "code",
   "execution_count": 39,
   "metadata": {},
   "outputs": [],
   "source": [
    "V_ast_a, pi_ast_a = value_iteration(S,theta,C,gamma)"
   ]
  },
  {
   "cell_type": "code",
   "execution_count": 40,
   "metadata": {},
   "outputs": [
    {
     "data": {
      "text/plain": [
       "(array([1.1       , 1.09879798, 1.08848778, 1.07735784, 1.06615412,\n",
       "        1.05494377, 1.04373282, 1.03252181, 1.0213108 , 1.01009979,\n",
       "        0.99888878, 0.98767777, 0.97646676, 0.96525575, 0.95404473,\n",
       "        0.94283372, 0.93162271, 0.9204117 , 0.90920069, 0.89798968,\n",
       "        0.88677867, 0.87556766, 0.86435664, 0.85314563, 0.84193462,\n",
       "        0.83072361, 0.8195126 , 0.80830159, 0.79709058, 0.78587957,\n",
       "        0.77466855, 0.76345754, 0.75224653, 0.74103552, 0.72982451,\n",
       "        0.7186135 , 0.70740249, 0.69619148, 0.68498047, 0.67376945,\n",
       "        0.66255844, 0.65134743, 0.64013642, 0.62892541, 0.6177144 ,\n",
       "        0.60650339, 0.59529238, 0.58408136, 0.57287035, 0.56165934,\n",
       "        0.55044833, 0.53923732, 0.52802631, 0.5168153 , 0.50560429,\n",
       "        0.49439327, 0.48318226, 0.47197125, 0.46076024, 0.44954923,\n",
       "        0.43833822, 0.42712721, 0.4159162 , 0.40470518, 0.39349417,\n",
       "        0.38228316, 0.37107215, 0.35986114, 0.34865013, 0.33743912,\n",
       "        0.32622811, 0.3150171 , 0.30380608, 0.29259507, 0.28138406,\n",
       "        0.27017305, 0.25896204, 0.24775103, 0.23654002, 0.22532901,\n",
       "        0.21411799, 0.20290698, 0.19169597, 0.18048496, 0.16927395,\n",
       "        0.15806294, 0.14685193, 0.13564092, 0.1244299 , 0.11321889,\n",
       "        0.10200788, 0.09079687, 0.07958586, 0.06837485, 0.05716384,\n",
       "        0.04595283, 0.03474181, 0.0235308 , 0.01231979, 0.00110878]),\n",
       " array([2, 2, 2, 2, 2, 2, 2, 2, 2, 2, 2, 2, 2, 2, 2, 2, 2, 2, 2, 2, 2, 2,\n",
       "        2, 2, 2, 2, 2, 2, 2, 2, 2, 2, 2, 2, 2, 2, 2, 2, 2, 2, 2, 2, 2, 2,\n",
       "        2, 2, 2, 2, 2, 2, 2, 2, 2, 2, 2, 2, 2, 2, 2, 2, 2, 2, 2, 2, 2, 2,\n",
       "        2, 2, 2, 2, 2, 2, 2, 2, 2, 2, 2, 2, 2, 2, 2, 2, 2, 2, 2, 2, 2, 2,\n",
       "        2, 2, 2, 2, 2, 2, 2, 2, 2, 2, 2, 2]))"
      ]
     },
     "execution_count": 40,
     "metadata": {},
     "output_type": "execute_result"
    }
   ],
   "source": [
    "V_ast_a, pi_ast_a"
   ]
  },
  {
   "cell_type": "code",
   "execution_count": 41,
   "metadata": {},
   "outputs": [
    {
     "data": {
      "image/png": "[encoded data removed]",
      "text/plain": [
       "<Figure size 1000x600 with 2 Axes>"
      ]
     },
     "metadata": {},
     "output_type": "display_data"
    },
    {
     "name": "stdout",
     "output_type": "stream",
     "text": [
      "El costo acumulado es:  45.43434343434344\n"
     ]
    }
   ],
   "source": [
    "plot_trajectory(pi_ast_a, policy=f\"γ={gamma}, C={C}, θ={theta}\")"
   ]
  },
  {
   "cell_type": "code",
   "execution_count": 42,
   "metadata": {},
   "outputs": [],
   "source": [
    "# el futuro importa poco\n",
    "gamma = 0.1\n",
    "# el costo de reemplazar no es tan alto\n",
    "C = 1\n",
    "# degradacion rapida\n",
    "theta = 0.9"
   ]
  },
  {
   "cell_type": "code",
   "execution_count": 43,
   "metadata": {},
   "outputs": [],
   "source": [
    "V_ast_a, pi_ast_a = value_iteration(S,theta,C,gamma)"
   ]
  },
  {
   "cell_type": "code",
   "execution_count": 44,
   "metadata": {},
   "outputs": [
    {
     "data": {
      "text/plain": [
       "(array([1.        , 1.        , 1.        , 1.        , 1.        ,\n",
       "        1.        , 1.        , 1.        , 1.        , 1.        ,\n",
       "        0.9979798 , 0.98759596, 0.97645939, 0.96525508, 0.95404467,\n",
       "        0.94283372, 0.93162271, 0.9204117 , 0.90920069, 0.89798968,\n",
       "        0.88677867, 0.87556766, 0.86435664, 0.85314563, 0.84193462,\n",
       "        0.83072361, 0.8195126 , 0.80830159, 0.79709058, 0.78587957,\n",
       "        0.77466855, 0.76345754, 0.75224653, 0.74103552, 0.72982451,\n",
       "        0.7186135 , 0.70740249, 0.69619148, 0.68498047, 0.67376945,\n",
       "        0.66255844, 0.65134743, 0.64013642, 0.62892541, 0.6177144 ,\n",
       "        0.60650339, 0.59529238, 0.58408136, 0.57287035, 0.56165934,\n",
       "        0.55044833, 0.53923732, 0.52802631, 0.5168153 , 0.50560429,\n",
       "        0.49439327, 0.48318226, 0.47197125, 0.46076024, 0.44954923,\n",
       "        0.43833822, 0.42712721, 0.4159162 , 0.40470518, 0.39349417,\n",
       "        0.38228316, 0.37107215, 0.35986114, 0.34865013, 0.33743912,\n",
       "        0.32622811, 0.3150171 , 0.30380608, 0.29259507, 0.28138406,\n",
       "        0.27017305, 0.25896204, 0.24775103, 0.23654002, 0.22532901,\n",
       "        0.21411799, 0.20290698, 0.19169597, 0.18048496, 0.16927395,\n",
       "        0.15806294, 0.14685193, 0.13564092, 0.1244299 , 0.11321889,\n",
       "        0.10200788, 0.09079687, 0.07958586, 0.06837485, 0.05716384,\n",
       "        0.04595283, 0.03474181, 0.0235308 , 0.01231979, 0.00110878]),\n",
       " array([1, 1, 1, 1, 1, 1, 1, 1, 1, 1, 2, 2, 2, 2, 2, 2, 2, 2, 2, 2, 2, 2,\n",
       "        2, 2, 2, 2, 2, 2, 2, 2, 2, 2, 2, 2, 2, 2, 2, 2, 2, 2, 2, 2, 2, 2,\n",
       "        2, 2, 2, 2, 2, 2, 2, 2, 2, 2, 2, 2, 2, 2, 2, 2, 2, 2, 2, 2, 2, 2,\n",
       "        2, 2, 2, 2, 2, 2, 2, 2, 2, 2, 2, 2, 2, 2, 2, 2, 2, 2, 2, 2, 2, 2,\n",
       "        2, 2, 2, 2, 2, 2, 2, 2, 2, 2, 2, 2]))"
      ]
     },
     "execution_count": 44,
     "metadata": {},
     "output_type": "execute_result"
    }
   ],
   "source": [
    "V_ast_a, pi_ast_a"
   ]
  },
  {
   "cell_type": "code",
   "execution_count": 45,
   "metadata": {},
   "outputs": [
    {
     "data": {
      "image/png": "[encoded data removed]",
      "text/plain": [
       "<Figure size 1000x600 with 2 Axes>"
      ]
     },
     "metadata": {},
     "output_type": "display_data"
    },
    {
     "name": "stdout",
     "output_type": "stream",
     "text": [
      "El costo acumulado es:  45.51515151515152\n"
     ]
    }
   ],
   "source": [
    "plot_trajectory(pi_ast_a, policy=f\"γ={gamma}, C={C}, θ={theta}\")"
   ]
  },
  {
   "cell_type": "code",
   "execution_count": 46,
   "metadata": {},
   "outputs": [],
   "source": [
    "# el futuro importa poco\n",
    "gamma = 0.1\n",
    "# el costo de reemplazar es bajo\n",
    "C = 0.5\n",
    "# degradacion rapida\n",
    "theta = 0.9"
   ]
  },
  {
   "cell_type": "code",
   "execution_count": 47,
   "metadata": {},
   "outputs": [],
   "source": [
    "V_ast_a, pi_ast_a = value_iteration(S,theta,C,gamma)"
   ]
  },
  {
   "cell_type": "code",
   "execution_count": 48,
   "metadata": {},
   "outputs": [
    {
     "data": {
      "text/plain": [
       "(array([0.5       , 0.5       , 0.5       , 0.5       , 0.5       ,\n",
       "        0.5       , 0.5       , 0.5       , 0.5       , 0.5       ,\n",
       "        0.5       , 0.5       , 0.5       , 0.5       , 0.5       ,\n",
       "        0.5       , 0.5       , 0.5       , 0.5       , 0.5       ,\n",
       "        0.5       , 0.5       , 0.5       , 0.5       , 0.5       ,\n",
       "        0.5       , 0.5       , 0.5       , 0.5       , 0.5       ,\n",
       "        0.5       , 0.5       , 0.5       , 0.5       , 0.5       ,\n",
       "        0.5       , 0.5       , 0.5       , 0.5       , 0.5       ,\n",
       "        0.5       , 0.5       , 0.5       , 0.5       , 0.5       ,\n",
       "        0.5       , 0.5       , 0.5       , 0.5       , 0.5       ,\n",
       "        0.5       , 0.5       , 0.5       , 0.5       , 0.5       ,\n",
       "        0.49388889, 0.48313687, 0.47196717, 0.46075987, 0.4495492 ,\n",
       "        0.43833822, 0.42712721, 0.4159162 , 0.40470518, 0.39349417,\n",
       "        0.38228316, 0.37107215, 0.35986114, 0.34865013, 0.33743912,\n",
       "        0.32622811, 0.3150171 , 0.30380608, 0.29259507, 0.28138406,\n",
       "        0.27017305, 0.25896204, 0.24775103, 0.23654002, 0.22532901,\n",
       "        0.21411799, 0.20290698, 0.19169597, 0.18048496, 0.16927395,\n",
       "        0.15806294, 0.14685193, 0.13564092, 0.1244299 , 0.11321889,\n",
       "        0.10200788, 0.09079687, 0.07958586, 0.06837485, 0.05716384,\n",
       "        0.04595283, 0.03474181, 0.0235308 , 0.01231979, 0.00110878]),\n",
       " array([1, 1, 1, 1, 1, 1, 1, 1, 1, 1, 1, 1, 1, 1, 1, 1, 1, 1, 1, 1, 1, 1,\n",
       "        1, 1, 1, 1, 1, 1, 1, 1, 1, 1, 1, 1, 1, 1, 1, 1, 1, 1, 1, 1, 1, 1,\n",
       "        1, 1, 1, 1, 1, 1, 1, 1, 1, 1, 1, 2, 2, 2, 2, 2, 2, 2, 2, 2, 2, 2,\n",
       "        2, 2, 2, 2, 2, 2, 2, 2, 2, 2, 2, 2, 2, 2, 2, 2, 2, 2, 2, 2, 2, 2,\n",
       "        2, 2, 2, 2, 2, 2, 2, 2, 2, 2, 2, 2]))"
      ]
     },
     "execution_count": 48,
     "metadata": {},
     "output_type": "execute_result"
    }
   ],
   "source": [
    "V_ast_a, pi_ast_a"
   ]
  },
  {
   "cell_type": "code",
   "execution_count": 49,
   "metadata": {},
   "outputs": [
    {
     "data": {
      "image/png": "[encoded data removed]",
      "text/plain": [
       "<Figure size 1000x600 with 2 Axes>"
      ]
     },
     "metadata": {},
     "output_type": "display_data"
    },
    {
     "name": "stdout",
     "output_type": "stream",
     "text": [
      "El costo acumulado es:  22.74242424242425\n"
     ]
    }
   ],
   "source": [
    "plot_trajectory(pi_ast_a, policy=f\"γ={gamma}, C={C}, θ={theta}\")"
   ]
  },
  {
   "cell_type": "code",
   "execution_count": 50,
   "metadata": {},
   "outputs": [],
   "source": [
    "# el futuro importa poco\n",
    "gamma = 0.1\n",
    "# el costo de reemplazar es alto\n",
    "C = 2\n",
    "# degradacion lenta\n",
    "theta = 0.1"
   ]
  },
  {
   "cell_type": "code",
   "execution_count": 51,
   "metadata": {},
   "outputs": [],
   "source": [
    "V_ast_a, pi_ast_a = value_iteration(S,theta,C,gamma)"
   ]
  },
  {
   "cell_type": "code",
   "execution_count": 52,
   "metadata": {},
   "outputs": [
    {
     "data": {
      "text/plain": [
       "(array([1.10000000e+00, 1.08998990e+00, 1.07887970e+00, 1.06775849e+00,\n",
       "        1.05663718e+00, 1.04551587e+00, 1.03439455e+00, 1.02327324e+00,\n",
       "        1.01215192e+00, 1.00103061e+00, 9.89909296e-01, 9.78787982e-01,\n",
       "        9.67666668e-01, 9.56545354e-01, 9.45424039e-01, 9.34302725e-01,\n",
       "        9.23181411e-01, 9.12060097e-01, 9.00938783e-01, 8.89817469e-01,\n",
       "        8.78696154e-01, 8.67574840e-01, 8.56453526e-01, 8.45332212e-01,\n",
       "        8.34210898e-01, 8.23089584e-01, 8.11968270e-01, 8.00846955e-01,\n",
       "        7.89725641e-01, 7.78604327e-01, 7.67483013e-01, 7.56361699e-01,\n",
       "        7.45240385e-01, 7.34119071e-01, 7.22997756e-01, 7.11876442e-01,\n",
       "        7.00755128e-01, 6.89633814e-01, 6.78512500e-01, 6.67391186e-01,\n",
       "        6.56269871e-01, 6.45148557e-01, 6.34027243e-01, 6.22905929e-01,\n",
       "        6.11784615e-01, 6.00663301e-01, 5.89541987e-01, 5.78420672e-01,\n",
       "        5.67299358e-01, 5.56178044e-01, 5.45056730e-01, 5.33935416e-01,\n",
       "        5.22814102e-01, 5.11692787e-01, 5.00571473e-01, 4.89450159e-01,\n",
       "        4.78328845e-01, 4.67207531e-01, 4.56086217e-01, 4.44964903e-01,\n",
       "        4.33843588e-01, 4.22722274e-01, 4.11600960e-01, 4.00479646e-01,\n",
       "        3.89358332e-01, 3.78237018e-01, 3.67115704e-01, 3.55994389e-01,\n",
       "        3.44873075e-01, 3.33751761e-01, 3.22630447e-01, 3.11509133e-01,\n",
       "        3.00387819e-01, 2.89266504e-01, 2.78145190e-01, 2.67023876e-01,\n",
       "        2.55902562e-01, 2.44781248e-01, 2.33659934e-01, 2.22538620e-01,\n",
       "        2.11417305e-01, 2.00295991e-01, 1.89174677e-01, 1.78053363e-01,\n",
       "        1.66932049e-01, 1.55810735e-01, 1.44689420e-01, 1.33568106e-01,\n",
       "        1.22446792e-01, 1.11325478e-01, 1.00204164e-01, 8.90828497e-02,\n",
       "        7.79615356e-02, 6.68402214e-02, 5.57189073e-02, 4.45975931e-02,\n",
       "        3.34762790e-02, 2.23549648e-02, 1.12336507e-02, 1.12336507e-04]),\n",
       " array([2, 2, 2, 2, 2, 2, 2, 2, 2, 2, 2, 2, 2, 2, 2, 2, 2, 2, 2, 2, 2, 2,\n",
       "        2, 2, 2, 2, 2, 2, 2, 2, 2, 2, 2, 2, 2, 2, 2, 2, 2, 2, 2, 2, 2, 2,\n",
       "        2, 2, 2, 2, 2, 2, 2, 2, 2, 2, 2, 2, 2, 2, 2, 2, 2, 2, 2, 2, 2, 2,\n",
       "        2, 2, 2, 2, 2, 2, 2, 2, 2, 2, 2, 2, 2, 2, 2, 2, 2, 2, 2, 2, 2, 2,\n",
       "        2, 2, 2, 2, 2, 2, 2, 2, 2, 2, 2, 2]))"
      ]
     },
     "execution_count": 52,
     "metadata": {},
     "output_type": "execute_result"
    }
   ],
   "source": [
    "V_ast_a, pi_ast_a"
   ]
  },
  {
   "cell_type": "code",
   "execution_count": 53,
   "metadata": {},
   "outputs": [
    {
     "data": {
      "image/png": "[encoded data removed]",
      "text/plain": [
       "<Figure size 1000x600 with 2 Axes>"
      ]
     },
     "metadata": {},
     "output_type": "display_data"
    },
    {
     "name": "stdout",
     "output_type": "stream",
     "text": [
      "El costo acumulado es:  5.575757575757575\n"
     ]
    }
   ],
   "source": [
    "plot_trajectory(pi_ast_a, policy=f\"γ={gamma}, C={C}, θ={theta}\")"
   ]
  },
  {
   "cell_type": "code",
   "execution_count": 54,
   "metadata": {},
   "outputs": [],
   "source": [
    "# el futuro importa poco\n",
    "gamma = 0.1\n",
    "# el costo de reemplazar no es tan alto\n",
    "C = 1\n",
    "# degradacion lenta\n",
    "theta = 0.1"
   ]
  },
  {
   "cell_type": "code",
   "execution_count": 55,
   "metadata": {},
   "outputs": [],
   "source": [
    "V_ast_a, pi_ast_a = value_iteration(S,theta,C,gamma)"
   ]
  },
  {
   "cell_type": "code",
   "execution_count": 56,
   "metadata": {},
   "outputs": [
    {
     "data": {
      "text/plain": [
       "(array([1.00000000e+00, 1.00000000e+00, 1.00000000e+00, 1.00000000e+00,\n",
       "        1.00000000e+00, 1.00000000e+00, 1.00000000e+00, 1.00000000e+00,\n",
       "        1.00000000e+00, 1.00000000e+00, 9.89898990e-01, 9.78787879e-01,\n",
       "        9.67666667e-01, 9.56545354e-01, 9.45424039e-01, 9.34302725e-01,\n",
       "        9.23181411e-01, 9.12060097e-01, 9.00938783e-01, 8.89817469e-01,\n",
       "        8.78696154e-01, 8.67574840e-01, 8.56453526e-01, 8.45332212e-01,\n",
       "        8.34210898e-01, 8.23089584e-01, 8.11968270e-01, 8.00846955e-01,\n",
       "        7.89725641e-01, 7.78604327e-01, 7.67483013e-01, 7.56361699e-01,\n",
       "        7.45240385e-01, 7.34119071e-01, 7.22997756e-01, 7.11876442e-01,\n",
       "        7.00755128e-01, 6.89633814e-01, 6.78512500e-01, 6.67391186e-01,\n",
       "        6.56269871e-01, 6.45148557e-01, 6.34027243e-01, 6.22905929e-01,\n",
       "        6.11784615e-01, 6.00663301e-01, 5.89541987e-01, 5.78420672e-01,\n",
       "        5.67299358e-01, 5.56178044e-01, 5.45056730e-01, 5.33935416e-01,\n",
       "        5.22814102e-01, 5.11692787e-01, 5.00571473e-01, 4.89450159e-01,\n",
       "        4.78328845e-01, 4.67207531e-01, 4.56086217e-01, 4.44964903e-01,\n",
       "        4.33843588e-01, 4.22722274e-01, 4.11600960e-01, 4.00479646e-01,\n",
       "        3.89358332e-01, 3.78237018e-01, 3.67115704e-01, 3.55994389e-01,\n",
       "        3.44873075e-01, 3.33751761e-01, 3.22630447e-01, 3.11509133e-01,\n",
       "        3.00387819e-01, 2.89266504e-01, 2.78145190e-01, 2.67023876e-01,\n",
       "        2.55902562e-01, 2.44781248e-01, 2.33659934e-01, 2.22538620e-01,\n",
       "        2.11417305e-01, 2.00295991e-01, 1.89174677e-01, 1.78053363e-01,\n",
       "        1.66932049e-01, 1.55810735e-01, 1.44689420e-01, 1.33568106e-01,\n",
       "        1.22446792e-01, 1.11325478e-01, 1.00204164e-01, 8.90828497e-02,\n",
       "        7.79615356e-02, 6.68402214e-02, 5.57189073e-02, 4.45975931e-02,\n",
       "        3.34762790e-02, 2.23549648e-02, 1.12336507e-02, 1.12336507e-04]),\n",
       " array([1, 1, 1, 1, 1, 1, 1, 1, 1, 1, 2, 2, 2, 2, 2, 2, 2, 2, 2, 2, 2, 2,\n",
       "        2, 2, 2, 2, 2, 2, 2, 2, 2, 2, 2, 2, 2, 2, 2, 2, 2, 2, 2, 2, 2, 2,\n",
       "        2, 2, 2, 2, 2, 2, 2, 2, 2, 2, 2, 2, 2, 2, 2, 2, 2, 2, 2, 2, 2, 2,\n",
       "        2, 2, 2, 2, 2, 2, 2, 2, 2, 2, 2, 2, 2, 2, 2, 2, 2, 2, 2, 2, 2, 2,\n",
       "        2, 2, 2, 2, 2, 2, 2, 2, 2, 2, 2, 2]))"
      ]
     },
     "execution_count": 56,
     "metadata": {},
     "output_type": "execute_result"
    }
   ],
   "source": [
    "V_ast_a, pi_ast_a"
   ]
  },
  {
   "cell_type": "code",
   "execution_count": 57,
   "metadata": {},
   "outputs": [
    {
     "data": {
      "image/png": "[encoded data removed]",
      "text/plain": [
       "<Figure size 1000x600 with 2 Axes>"
      ]
     },
     "metadata": {},
     "output_type": "display_data"
    },
    {
     "name": "stdout",
     "output_type": "stream",
     "text": [
      "El costo acumulado es:  5.575757575757575\n"
     ]
    }
   ],
   "source": [
    "plot_trajectory(pi_ast_a, policy=f\"γ={gamma}, C={C}, θ={theta}\")"
   ]
  },
  {
   "cell_type": "code",
   "execution_count": 58,
   "metadata": {},
   "outputs": [],
   "source": [
    "# el futuro importa poco\n",
    "gamma = 0.1\n",
    "# el costo de reemplazar es bajo\n",
    "C = 0.5\n",
    "# degradacion lenta\n",
    "theta = 0.1"
   ]
  },
  {
   "cell_type": "code",
   "execution_count": 59,
   "metadata": {},
   "outputs": [],
   "source": [
    "V_ast_a, pi_ast_a = value_iteration(S,theta,C,gamma)"
   ]
  },
  {
   "cell_type": "code",
   "execution_count": 60,
   "metadata": {},
   "outputs": [
    {
     "data": {
      "text/plain": [
       "(array([5.00000000e-01, 5.00000000e-01, 5.00000000e-01, 5.00000000e-01,\n",
       "        5.00000000e-01, 5.00000000e-01, 5.00000000e-01, 5.00000000e-01,\n",
       "        5.00000000e-01, 5.00000000e-01, 5.00000000e-01, 5.00000000e-01,\n",
       "        5.00000000e-01, 5.00000000e-01, 5.00000000e-01, 5.00000000e-01,\n",
       "        5.00000000e-01, 5.00000000e-01, 5.00000000e-01, 5.00000000e-01,\n",
       "        5.00000000e-01, 5.00000000e-01, 5.00000000e-01, 5.00000000e-01,\n",
       "        5.00000000e-01, 5.00000000e-01, 5.00000000e-01, 5.00000000e-01,\n",
       "        5.00000000e-01, 5.00000000e-01, 5.00000000e-01, 5.00000000e-01,\n",
       "        5.00000000e-01, 5.00000000e-01, 5.00000000e-01, 5.00000000e-01,\n",
       "        5.00000000e-01, 5.00000000e-01, 5.00000000e-01, 5.00000000e-01,\n",
       "        5.00000000e-01, 5.00000000e-01, 5.00000000e-01, 5.00000000e-01,\n",
       "        5.00000000e-01, 5.00000000e-01, 5.00000000e-01, 5.00000000e-01,\n",
       "        5.00000000e-01, 5.00000000e-01, 5.00000000e-01, 5.00000000e-01,\n",
       "        5.00000000e-01, 5.00000000e-01, 5.00000000e-01, 4.89444444e-01,\n",
       "        4.78328788e-01, 4.67207530e-01, 4.56086217e-01, 4.44964903e-01,\n",
       "        4.33843588e-01, 4.22722274e-01, 4.11600960e-01, 4.00479646e-01,\n",
       "        3.89358332e-01, 3.78237018e-01, 3.67115704e-01, 3.55994389e-01,\n",
       "        3.44873075e-01, 3.33751761e-01, 3.22630447e-01, 3.11509133e-01,\n",
       "        3.00387819e-01, 2.89266504e-01, 2.78145190e-01, 2.67023876e-01,\n",
       "        2.55902562e-01, 2.44781248e-01, 2.33659934e-01, 2.22538620e-01,\n",
       "        2.11417305e-01, 2.00295991e-01, 1.89174677e-01, 1.78053363e-01,\n",
       "        1.66932049e-01, 1.55810735e-01, 1.44689420e-01, 1.33568106e-01,\n",
       "        1.22446792e-01, 1.11325478e-01, 1.00204164e-01, 8.90828497e-02,\n",
       "        7.79615356e-02, 6.68402214e-02, 5.57189073e-02, 4.45975931e-02,\n",
       "        3.34762790e-02, 2.23549648e-02, 1.12336507e-02, 1.12336507e-04]),\n",
       " array([1, 1, 1, 1, 1, 1, 1, 1, 1, 1, 1, 1, 1, 1, 1, 1, 1, 1, 1, 1, 1, 1,\n",
       "        1, 1, 1, 1, 1, 1, 1, 1, 1, 1, 1, 1, 1, 1, 1, 1, 1, 1, 1, 1, 1, 1,\n",
       "        1, 1, 1, 1, 1, 1, 1, 1, 1, 1, 1, 2, 2, 2, 2, 2, 2, 2, 2, 2, 2, 2,\n",
       "        2, 2, 2, 2, 2, 2, 2, 2, 2, 2, 2, 2, 2, 2, 2, 2, 2, 2, 2, 2, 2, 2,\n",
       "        2, 2, 2, 2, 2, 2, 2, 2, 2, 2, 2, 2]))"
      ]
     },
     "execution_count": 60,
     "metadata": {},
     "output_type": "execute_result"
    }
   ],
   "source": [
    "V_ast_a, pi_ast_a"
   ]
  },
  {
   "cell_type": "code",
   "execution_count": 61,
   "metadata": {},
   "outputs": [
    {
     "data": {
      "image/png": "[encoded data removed]",
      "text/plain": [
       "<Figure size 1000x600 with 2 Axes>"
      ]
     },
     "metadata": {},
     "output_type": "display_data"
    },
    {
     "name": "stdout",
     "output_type": "stream",
     "text": [
      "El costo acumulado es:  5.575757575757575\n"
     ]
    }
   ],
   "source": [
    "plot_trajectory(pi_ast_a, policy=f\"γ={gamma}, C={C}, θ={theta}\")"
   ]
  },
  {
   "cell_type": "markdown",
   "metadata": {},
   "source": [
    "--- \n",
    "\n",
    "**Conclusiones:**\n",
    "\n",
    "\n",
    "La política óptima es no reemplazar nunca para el caso de costo de reemplazo alto (C=2) y degradación rápida (θ=0.9), porque hay mucha probabilidad de degradación (θ cercano a 1) y alto costo de reemplazo.\n",
    "\n",
    "En cambio, cuando el costo de reemplazo baja a 0.5, se puede observar como la política óptima pasa a ser no reemplazar hasta el estado 55 y después sí (con más deterioro). Cuando C es chico, el costo de reemplazar termina siendo más conveniente en cierto punto que mantener la máquina con un estado bajo.\n",
    "\n",
    "Cuando la degradación es lenta (θ=0.1), en los 3 casos de costo vistos dio lo mismo porque el costo acumulado fue igual. Esto tiene sentido porque como es tan baja la probabilidad de degradación, se tiene que se degrada poco y entonces no se llega a tener que reemplazar según la política óptima.\n",
    "\n",
    "Como última observación cabe destacar que como todos estos casos eran con γ chico el futuro no importa mucho y se puede ver que el agente no intenta reemplazar temprano nunca.\n",
    "\n",
    "---"
   ]
  },
  {
   "cell_type": "markdown",
   "metadata": {},
   "source": [
    "**6b) Test para un γ grande menor a 1 (el futuro importa mucho), distintos valores de C y θ**"
   ]
  },
  {
   "cell_type": "code",
   "execution_count": 62,
   "metadata": {},
   "outputs": [],
   "source": [
    "pasos = 100\n",
    "estado_inicial = 100\n",
    "semilla = 42"
   ]
  },
  {
   "cell_type": "code",
   "execution_count": 63,
   "metadata": {},
   "outputs": [],
   "source": [
    "# el futuro importa mucho\n",
    "gamma = 0.99\n",
    "# el costo de reemplazar es alto\n",
    "C = 2\n",
    "# degradacion rapida\n",
    "theta = 0.9"
   ]
  },
  {
   "cell_type": "code",
   "execution_count": 64,
   "metadata": {},
   "outputs": [],
   "source": [
    "V_ast_a, pi_ast_a = value_iteration(S,theta,C,gamma)"
   ]
  },
  {
   "cell_type": "code",
   "execution_count": 65,
   "metadata": {},
   "outputs": [
    {
     "data": {
      "text/plain": [
       "(array([1.99      , 2.        , 2.        , 2.        , 2.        ,\n",
       "        2.        , 2.        , 2.        , 2.        , 2.        ,\n",
       "        2.        , 2.        , 2.        , 2.        , 2.        ,\n",
       "        2.        , 2.        , 2.        , 2.        , 2.        ,\n",
       "        2.        , 2.        , 2.        , 2.        , 2.        ,\n",
       "        2.        , 2.        , 2.        , 2.        , 2.        ,\n",
       "        2.        , 2.        , 2.        , 2.        , 2.        ,\n",
       "        2.        , 2.        , 2.        , 2.        , 2.        ,\n",
       "        2.        , 2.        , 2.        , 2.        , 2.        ,\n",
       "        2.        , 2.        , 2.        , 2.        , 2.        ,\n",
       "        2.        , 2.        , 2.        , 2.        , 2.        ,\n",
       "        2.        , 2.        , 2.        , 2.        , 2.        ,\n",
       "        2.        , 2.        , 2.        , 2.        , 2.        ,\n",
       "        2.        , 2.        , 2.        , 2.        , 2.        ,\n",
       "        2.        , 2.        , 2.        , 2.        , 2.        ,\n",
       "        2.        , 2.        , 2.        , 2.        , 2.        ,\n",
       "        1.99291919, 1.97550918, 1.94889585, 1.91408237, 1.87196254,\n",
       "        1.82333276, 1.76890262, 1.70930436, 1.6451013 , 1.57679536,\n",
       "        1.50483375, 1.42961495, 1.35149399, 1.27078721, 1.18777645,\n",
       "        1.10271286, 1.01582019, 0.92729781, 0.83732336, 0.74605511]),\n",
       " array([1, 1, 1, 1, 1, 1, 1, 1, 1, 1, 1, 1, 1, 1, 1, 1, 1, 1, 1, 1, 1, 1,\n",
       "        1, 1, 2, 2, 2, 2, 2, 2, 2, 2, 2, 2, 2, 2, 2, 2, 2, 2, 2, 2, 2, 2,\n",
       "        2, 2, 2, 2, 2, 2, 2, 2, 2, 2, 2, 2, 2, 2, 2, 2, 2, 2, 2, 2, 2, 2,\n",
       "        2, 2, 2, 2, 2, 2, 2, 2, 2, 2, 2, 2, 2, 2, 2, 2, 2, 2, 2, 2, 2, 2,\n",
       "        2, 2, 2, 2, 2, 2, 2, 2, 2, 2, 2, 2]))"
      ]
     },
     "execution_count": 65,
     "metadata": {},
     "output_type": "execute_result"
    }
   ],
   "source": [
    "V_ast_a, pi_ast_a"
   ]
  },
  {
   "cell_type": "code",
   "execution_count": 66,
   "metadata": {},
   "outputs": [
    {
     "data": {
      "image/png": "[encoded data removed]",
      "text/plain": [
       "<Figure size 1000x600 with 2 Axes>"
      ]
     },
     "metadata": {},
     "output_type": "display_data"
    },
    {
     "name": "stdout",
     "output_type": "stream",
     "text": [
      "El costo acumulado es:  35.76767676767678\n"
     ]
    }
   ],
   "source": [
    "plot_trajectory(pi_ast_a, policy=f\"γ={gamma}, C={C}, θ={theta}\")"
   ]
  },
  {
   "cell_type": "code",
   "execution_count": 67,
   "metadata": {},
   "outputs": [],
   "source": [
    "# el futuro importa mucho\n",
    "gamma = 0.99\n",
    "# el costo de reemplazar no es tan alto\n",
    "C = 1\n",
    "# degradacion rapida\n",
    "theta = 0.9"
   ]
  },
  {
   "cell_type": "code",
   "execution_count": 68,
   "metadata": {},
   "outputs": [],
   "source": [
    "V_ast_a, pi_ast_a = value_iteration(S,theta,C,gamma)"
   ]
  },
  {
   "cell_type": "code",
   "execution_count": 69,
   "metadata": {},
   "outputs": [
    {
     "data": {
      "text/plain": [
       "(array([1.        , 1.        , 1.        , 1.        , 1.        ,\n",
       "        1.        , 1.        , 1.        , 1.        , 1.        ,\n",
       "        1.        , 1.        , 1.        , 1.        , 1.        ,\n",
       "        1.        , 1.        , 1.        , 1.        , 1.        ,\n",
       "        1.        , 1.        , 1.        , 1.        , 1.        ,\n",
       "        1.        , 1.        , 1.        , 1.        , 1.        ,\n",
       "        1.        , 1.        , 1.        , 1.        , 1.        ,\n",
       "        1.        , 1.        , 1.        , 1.        , 1.        ,\n",
       "        1.        , 1.        , 1.        , 1.        , 1.        ,\n",
       "        1.        , 1.        , 1.        , 1.        , 1.        ,\n",
       "        1.        , 1.        , 1.        , 1.        , 1.        ,\n",
       "        1.        , 1.        , 1.        , 1.        , 1.        ,\n",
       "        1.        , 1.        , 1.        , 1.        , 1.        ,\n",
       "        1.        , 1.        , 1.        , 1.        , 1.        ,\n",
       "        1.        , 1.        , 1.        , 1.        , 1.        ,\n",
       "        1.        , 1.        , 1.        , 1.        , 1.        ,\n",
       "        1.        , 1.        , 1.        , 1.        , 1.        ,\n",
       "        1.        , 1.        , 1.        , 1.        , 1.        ,\n",
       "        0.99090909, 0.97170808, 0.94349897, 0.90726364, 0.86387696,\n",
       "        0.81411841, 0.75868253, 0.69818816, 0.63318666, 0.56416931]),\n",
       " array([1, 1, 1, 1, 1, 1, 1, 1, 1, 1, 1, 1, 1, 1, 1, 1, 1, 1, 1, 1, 1, 1,\n",
       "        1, 1, 1, 1, 1, 1, 1, 1, 1, 1, 1, 1, 1, 1, 1, 1, 1, 1, 1, 1, 1, 2,\n",
       "        2, 2, 2, 2, 2, 2, 2, 2, 2, 2, 2, 2, 2, 2, 2, 2, 2, 2, 2, 2, 2, 2,\n",
       "        2, 2, 2, 2, 2, 2, 2, 2, 2, 2, 2, 2, 2, 2, 2, 2, 2, 2, 2, 2, 2, 2,\n",
       "        2, 2, 2, 2, 2, 2, 2, 2, 2, 2, 2, 2]))"
      ]
     },
     "execution_count": 69,
     "metadata": {},
     "output_type": "execute_result"
    }
   ],
   "source": [
    "V_ast_a, pi_ast_a"
   ]
  },
  {
   "cell_type": "code",
   "execution_count": 70,
   "metadata": {},
   "outputs": [
    {
     "data": {
      "image/png": "[encoded data removed]",
      "text/plain": [
       "<Figure size 1000x600 with 2 Axes>"
      ]
     },
     "metadata": {},
     "output_type": "display_data"
    },
    {
     "name": "stdout",
     "output_type": "stream",
     "text": [
      "El costo acumulado es:  25.939393939393945\n"
     ]
    }
   ],
   "source": [
    "plot_trajectory(pi_ast_a, policy=f\"γ={gamma}, C={C}, θ={theta}\")"
   ]
  },
  {
   "cell_type": "code",
   "execution_count": 71,
   "metadata": {},
   "outputs": [],
   "source": [
    "# el futuro importa mucho\n",
    "gamma = 0.99\n",
    "# el costo de reemplazar es bajo\n",
    "C = 0.5\n",
    "# degradacion rapida\n",
    "theta = 0.9"
   ]
  },
  {
   "cell_type": "code",
   "execution_count": 72,
   "metadata": {},
   "outputs": [],
   "source": [
    "V_ast_a, pi_ast_a = value_iteration(S,theta,C,gamma)"
   ]
  },
  {
   "cell_type": "code",
   "execution_count": 73,
   "metadata": {},
   "outputs": [
    {
     "data": {
      "text/plain": [
       "(array([0.5       , 0.5       , 0.5       , 0.5       , 0.5       ,\n",
       "        0.5       , 0.5       , 0.5       , 0.5       , 0.5       ,\n",
       "        0.5       , 0.5       , 0.5       , 0.5       , 0.5       ,\n",
       "        0.5       , 0.5       , 0.5       , 0.5       , 0.5       ,\n",
       "        0.5       , 0.5       , 0.5       , 0.5       , 0.5       ,\n",
       "        0.5       , 0.5       , 0.5       , 0.5       , 0.5       ,\n",
       "        0.5       , 0.5       , 0.5       , 0.5       , 0.5       ,\n",
       "        0.5       , 0.5       , 0.5       , 0.5       , 0.5       ,\n",
       "        0.5       , 0.5       , 0.5       , 0.5       , 0.5       ,\n",
       "        0.5       , 0.5       , 0.5       , 0.5       , 0.5       ,\n",
       "        0.5       , 0.5       , 0.5       , 0.5       , 0.5       ,\n",
       "        0.5       , 0.5       , 0.5       , 0.5       , 0.5       ,\n",
       "        0.5       , 0.5       , 0.5       , 0.5       , 0.5       ,\n",
       "        0.5       , 0.5       , 0.5       , 0.5       , 0.5       ,\n",
       "        0.5       , 0.5       , 0.5       , 0.5       , 0.5       ,\n",
       "        0.5       , 0.5       , 0.5       , 0.5       , 0.5       ,\n",
       "        0.5       , 0.5       , 0.5       , 0.5       , 0.5       ,\n",
       "        0.5       , 0.5       , 0.5       , 0.5       , 0.5       ,\n",
       "        0.5       , 0.5       , 0.5       , 0.5       , 0.5       ,\n",
       "        0.48990404, 0.46980753, 0.44080053, 0.40385428, 0.35983417]),\n",
       " array([1, 1, 1, 1, 1, 1, 1, 1, 1, 1, 1, 1, 1, 1, 1, 1, 1, 1, 1, 1, 1, 1,\n",
       "        1, 1, 1, 1, 1, 1, 1, 1, 1, 1, 1, 1, 1, 1, 1, 1, 1, 1, 1, 1, 1, 1,\n",
       "        1, 1, 1, 1, 1, 1, 1, 1, 1, 1, 1, 1, 1, 1, 1, 1, 1, 1, 1, 1, 2, 2,\n",
       "        2, 2, 2, 2, 2, 2, 2, 2, 2, 2, 2, 2, 2, 2, 2, 2, 2, 2, 2, 2, 2, 2,\n",
       "        2, 2, 2, 2, 2, 2, 2, 2, 2, 2, 2, 2]))"
      ]
     },
     "execution_count": 73,
     "metadata": {},
     "output_type": "execute_result"
    }
   ],
   "source": [
    "V_ast_a, pi_ast_a"
   ]
  },
  {
   "cell_type": "code",
   "execution_count": 74,
   "metadata": {},
   "outputs": [
    {
     "data": {
      "image/png": "[encoded data removed]",
      "text/plain": [
       "<Figure size 1000x600 with 2 Axes>"
      ]
     },
     "metadata": {},
     "output_type": "display_data"
    },
    {
     "name": "stdout",
     "output_type": "stream",
     "text": [
      "El costo acumulado es:  17.333333333333336\n"
     ]
    }
   ],
   "source": [
    "plot_trajectory(pi_ast_a, policy=f\"γ={gamma}, C={C}, θ={theta}\")"
   ]
  },
  {
   "cell_type": "code",
   "execution_count": 75,
   "metadata": {},
   "outputs": [],
   "source": [
    "# el futuro importa mucho\n",
    "gamma = 0.99\n",
    "# el costo de reemplazar es alto\n",
    "C = 2\n",
    "# degradacion lenta\n",
    "theta = 0.1"
   ]
  },
  {
   "cell_type": "code",
   "execution_count": 76,
   "metadata": {},
   "outputs": [],
   "source": [
    "V_ast_a, pi_ast_a = value_iteration(S,theta,C,gamma)"
   ]
  },
  {
   "cell_type": "code",
   "execution_count": 77,
   "metadata": {},
   "outputs": [
    {
     "data": {
      "text/plain": [
       "(array([1.99      , 2.        , 2.        , 2.        , 2.        ,\n",
       "        1.99349495, 1.97374994, 1.95269417, 1.93150864, 1.91031026,\n",
       "        1.88911062, 1.86791084, 1.84671105, 1.82551126, 1.80431147,\n",
       "        1.78311168, 1.7619119 , 1.74071211, 1.71951232, 1.69831253,\n",
       "        1.67711274, 1.65591295, 1.63471316, 1.61351337, 1.59231358,\n",
       "        1.57111379, 1.549914  , 1.52871421, 1.50751442, 1.48631464,\n",
       "        1.46511485, 1.44391506, 1.42271527, 1.40151548, 1.38031569,\n",
       "        1.3591159 , 1.33791611, 1.31671632, 1.29551653, 1.27431674,\n",
       "        1.25311695, 1.23191716, 1.21071738, 1.18951759, 1.1683178 ,\n",
       "        1.14711801, 1.12591822, 1.10471843, 1.08351864, 1.06231885,\n",
       "        1.04111906, 1.01991927, 0.99871948, 0.97751969, 0.9563199 ,\n",
       "        0.93512011, 0.91392033, 0.89272054, 0.87152075, 0.85032096,\n",
       "        0.82912117, 0.80792138, 0.78672159, 0.7655218 , 0.74432201,\n",
       "        0.72312222, 0.70192243, 0.68072264, 0.65952285, 0.63832307,\n",
       "        0.61712328, 0.59592349, 0.5747237 , 0.55352391, 0.53232412,\n",
       "        0.51112433, 0.48992454, 0.46872475, 0.44752496, 0.42632517,\n",
       "        0.40512538, 0.38392559, 0.36272581, 0.34152602, 0.32032623,\n",
       "        0.29912644, 0.27792665, 0.25672686, 0.23552707, 0.21432728,\n",
       "        0.19312749, 0.1719277 , 0.15072791, 0.12952812, 0.10832833,\n",
       "        0.08712855, 0.06592876, 0.04472897, 0.02352918, 0.00232939]),\n",
       " array([1, 1, 1, 1, 1, 1, 1, 1, 1, 1, 1, 1, 1, 1, 1, 1, 1, 1, 1, 1, 1, 1,\n",
       "        1, 1, 1, 1, 1, 1, 1, 1, 1, 1, 1, 1, 1, 2, 2, 2, 2, 2, 2, 2, 2, 2,\n",
       "        2, 2, 2, 2, 2, 2, 2, 2, 2, 2, 2, 2, 2, 2, 2, 2, 2, 2, 2, 2, 2, 2,\n",
       "        2, 2, 2, 2, 2, 2, 2, 2, 2, 2, 2, 2, 2, 2, 2, 2, 2, 2, 2, 2, 2, 2,\n",
       "        2, 2, 2, 2, 2, 2, 2, 2, 2, 2, 2, 2]))"
      ]
     },
     "execution_count": 77,
     "metadata": {},
     "output_type": "execute_result"
    }
   ],
   "source": [
    "V_ast_a, pi_ast_a"
   ]
  },
  {
   "cell_type": "code",
   "execution_count": 78,
   "metadata": {},
   "outputs": [
    {
     "data": {
      "image/png": "[encoded data removed]",
      "text/plain": [
       "<Figure size 1000x600 with 2 Axes>"
      ]
     },
     "metadata": {},
     "output_type": "display_data"
    },
    {
     "name": "stdout",
     "output_type": "stream",
     "text": [
      "El costo acumulado es:  5.575757575757575\n"
     ]
    }
   ],
   "source": [
    "plot_trajectory(pi_ast_a, policy=f\"γ={gamma}, C={C}, θ={theta}\")"
   ]
  },
  {
   "cell_type": "code",
   "execution_count": 79,
   "metadata": {},
   "outputs": [],
   "source": [
    "# el futuro importa mucho\n",
    "gamma = 0.99\n",
    "# el costo de reemplazar no es tan alto\n",
    "C = 1\n",
    "# degradacion lenta\n",
    "theta = 0.1"
   ]
  },
  {
   "cell_type": "code",
   "execution_count": 80,
   "metadata": {},
   "outputs": [],
   "source": [
    "V_ast_a, pi_ast_a = value_iteration(S,theta,C,gamma)"
   ]
  },
  {
   "cell_type": "code",
   "execution_count": 81,
   "metadata": {},
   "outputs": [
    {
     "data": {
      "text/plain": [
       "(array([1.        , 1.        , 1.        , 1.        , 1.        ,\n",
       "        1.        , 1.        , 1.        , 1.        , 1.        ,\n",
       "        1.        , 1.        , 1.        , 1.        , 1.        ,\n",
       "        1.        , 1.        , 1.        , 1.        , 1.        ,\n",
       "        1.        , 1.        , 1.        , 1.        , 1.        ,\n",
       "        1.        , 1.        , 1.        , 1.        , 1.        ,\n",
       "        1.        , 1.        , 1.        , 1.        , 1.        ,\n",
       "        1.        , 1.        , 1.        , 1.        , 1.        ,\n",
       "        1.        , 1.        , 1.        , 1.        , 1.        ,\n",
       "        1.        , 1.        , 1.        , 1.        , 1.        ,\n",
       "        1.        , 1.        , 0.99674747, 0.97732446, 0.95630058,\n",
       "        0.9351182 , 0.91392014, 0.89272052, 0.87152075, 0.85032096,\n",
       "        0.82912117, 0.80792138, 0.78672159, 0.7655218 , 0.74432201,\n",
       "        0.72312222, 0.70192243, 0.68072264, 0.65952285, 0.63832307,\n",
       "        0.61712328, 0.59592349, 0.5747237 , 0.55352391, 0.53232412,\n",
       "        0.51112433, 0.48992454, 0.46872475, 0.44752496, 0.42632517,\n",
       "        0.40512538, 0.38392559, 0.36272581, 0.34152602, 0.32032623,\n",
       "        0.29912644, 0.27792665, 0.25672686, 0.23552707, 0.21432728,\n",
       "        0.19312749, 0.1719277 , 0.15072791, 0.12952812, 0.10832833,\n",
       "        0.08712855, 0.06592876, 0.04472897, 0.02352918, 0.00232939]),\n",
       " array([1, 1, 1, 1, 1, 1, 1, 1, 1, 1, 1, 1, 1, 1, 1, 1, 1, 1, 1, 1, 1, 1,\n",
       "        1, 1, 1, 1, 1, 1, 1, 1, 1, 1, 1, 1, 1, 1, 1, 1, 1, 1, 1, 1, 1, 1,\n",
       "        1, 1, 1, 1, 1, 1, 1, 1, 1, 1, 1, 1, 1, 1, 1, 1, 1, 1, 1, 1, 1, 1,\n",
       "        1, 2, 2, 2, 2, 2, 2, 2, 2, 2, 2, 2, 2, 2, 2, 2, 2, 2, 2, 2, 2, 2,\n",
       "        2, 2, 2, 2, 2, 2, 2, 2, 2, 2, 2, 2]))"
      ]
     },
     "execution_count": 81,
     "metadata": {},
     "output_type": "execute_result"
    }
   ],
   "source": [
    "V_ast_a, pi_ast_a"
   ]
  },
  {
   "cell_type": "code",
   "execution_count": 82,
   "metadata": {},
   "outputs": [
    {
     "data": {
      "image/png": "[encoded data removed]",
      "text/plain": [
       "<Figure size 1000x600 with 2 Axes>"
      ]
     },
     "metadata": {},
     "output_type": "display_data"
    },
    {
     "name": "stdout",
     "output_type": "stream",
     "text": [
      "El costo acumulado es:  5.575757575757575\n"
     ]
    }
   ],
   "source": [
    "plot_trajectory(pi_ast_a, policy=f\"γ={gamma}, C={C}, θ={theta}\")"
   ]
  },
  {
   "cell_type": "code",
   "execution_count": 83,
   "metadata": {},
   "outputs": [],
   "source": [
    "# el futuro importa mucho\n",
    "gamma = 0.99\n",
    "# el costo de reemplazar es bajo\n",
    "C = 0.5\n",
    "# degradacion lenta\n",
    "theta = 0.1"
   ]
  },
  {
   "cell_type": "code",
   "execution_count": 84,
   "metadata": {},
   "outputs": [],
   "source": [
    "V_ast_a, pi_ast_a = value_iteration(S,theta,C,gamma)"
   ]
  },
  {
   "cell_type": "code",
   "execution_count": 85,
   "metadata": {},
   "outputs": [
    {
     "data": {
      "text/plain": [
       "(array([0.5       , 0.5       , 0.5       , 0.5       , 0.5       ,\n",
       "        0.5       , 0.5       , 0.5       , 0.5       , 0.5       ,\n",
       "        0.5       , 0.5       , 0.5       , 0.5       , 0.5       ,\n",
       "        0.5       , 0.5       , 0.5       , 0.5       , 0.5       ,\n",
       "        0.5       , 0.5       , 0.5       , 0.5       , 0.5       ,\n",
       "        0.5       , 0.5       , 0.5       , 0.5       , 0.5       ,\n",
       "        0.5       , 0.5       , 0.5       , 0.5       , 0.5       ,\n",
       "        0.5       , 0.5       , 0.5       , 0.5       , 0.5       ,\n",
       "        0.5       , 0.5       , 0.5       , 0.5       , 0.5       ,\n",
       "        0.5       , 0.5       , 0.5       , 0.5       , 0.5       ,\n",
       "        0.5       , 0.5       , 0.5       , 0.5       , 0.5       ,\n",
       "        0.5       , 0.5       , 0.5       , 0.5       , 0.5       ,\n",
       "        0.5       , 0.5       , 0.5       , 0.5       , 0.5       ,\n",
       "        0.5       , 0.5       , 0.5       , 0.5       , 0.5       ,\n",
       "        0.5       , 0.5       , 0.5       , 0.5       , 0.5       ,\n",
       "        0.5       , 0.48882323, 0.46861572, 0.44751417, 0.4263241 ,\n",
       "        0.40512528, 0.38392558, 0.3627258 , 0.34152602, 0.32032623,\n",
       "        0.29912644, 0.27792665, 0.25672686, 0.23552707, 0.21432728,\n",
       "        0.19312749, 0.1719277 , 0.15072791, 0.12952812, 0.10832833,\n",
       "        0.08712855, 0.06592876, 0.04472897, 0.02352918, 0.00232939]),\n",
       " array([1, 1, 1, 1, 1, 1, 1, 1, 1, 1, 1, 1, 1, 1, 1, 1, 1, 1, 1, 1, 1, 1,\n",
       "        1, 1, 1, 1, 1, 1, 1, 1, 1, 1, 1, 1, 1, 1, 1, 1, 1, 1, 1, 1, 1, 1,\n",
       "        1, 1, 1, 1, 1, 1, 1, 1, 1, 1, 1, 1, 1, 1, 1, 1, 1, 1, 1, 1, 1, 1,\n",
       "        1, 1, 1, 1, 1, 1, 1, 1, 1, 1, 1, 1, 1, 1, 1, 1, 1, 2, 2, 2, 2, 2,\n",
       "        2, 2, 2, 2, 2, 2, 2, 2, 2, 2, 2, 2]))"
      ]
     },
     "execution_count": 85,
     "metadata": {},
     "output_type": "execute_result"
    }
   ],
   "source": [
    "V_ast_a, pi_ast_a"
   ]
  },
  {
   "cell_type": "code",
   "execution_count": 86,
   "metadata": {},
   "outputs": [
    {
     "data": {
      "image/png": "[encoded data removed]",
      "text/plain": [
       "<Figure size 1000x600 with 2 Axes>"
      ]
     },
     "metadata": {},
     "output_type": "display_data"
    },
    {
     "name": "stdout",
     "output_type": "stream",
     "text": [
      "El costo acumulado es:  5.575757575757575\n"
     ]
    }
   ],
   "source": [
    "plot_trajectory(pi_ast_a, policy=f\"γ={gamma}, C={C}, θ={theta}\")"
   ]
  },
  {
   "cell_type": "markdown",
   "metadata": {},
   "source": [
    "---\n",
    "\n",
    "**Conclusiones:**\n",
    "\n",
    "Cuando el futuro importa más (γ=0.99), se puede ver que incluso en el caso de alta probabilidad de desgaste (θ=0.9) y costo alto (C=2), el agente toma la decisión de reemplazar antes de llegar al peor estado. En 6a no pasaba esto, ahí se podía ver como la política óptima era no cambiar nunca.\n",
    "\n",
    "Cuando el costo es bajo (C=0.5) y la degradación sigue siendo rápida (θ=0.9) se tiene un comportamiento similar a 6a en el caso análogo, pero se observa que la política óptima empieza a reemplazar en un estado menos roto que antes, dándole mayor importancia al futuro.\n",
    "\n",
    "Cuando la degradación es lenta (θ=0.1) y sin importar el costo, ocurre que la política óptima es reemplazar en estados menos dañados con respecto a 6a, nuevamente porque el futuro es más importante por tener un γ mayor.\n",
    "\n",
    "Cabe destacar que, darle importancia al futuro parece que hiciera que se obtengan costos acumulados más bajos, ya que el mínimo en 6b (17.3) es menor que en 6a (22.7).\n",
    "\n",
    "---"
   ]
  }
 ],
 "metadata": {
  "colab": {
   "provenance": []
  },
  "kernelspec": {
   "display_name": "Python 3 (ipykernel)",
   "language": "python",
   "name": "python3"
  },
  "language_info": {
   "codemirror_mode": {
    "name": "ipython",
    "version": 3
   },
   "file_extension": ".py",
   "mimetype": "text/x-python",
   "name": "python",
   "nbconvert_exporter": "python",
   "pygments_lexer": "ipython3",
   "version": "3.12.9"
  }
 },
 "nbformat": 4,
 "nbformat_minor": 4
}
