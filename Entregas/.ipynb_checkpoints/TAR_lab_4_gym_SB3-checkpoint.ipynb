{
 "cells": [
  {
   "cell_type": "markdown",
   "id": "0a07caa9",
   "metadata": {},
   "source": [
    "# TAR: Taller de Aprendizaje por Refuerzo 2025\n",
    "## Laboratorio 5: Gymnasium + stable_baselines3\n",
    "\n",
    "### Stable Baselines3 (SB3) es una libreria algoritmos de reinforcement learning implementada en PyTorch. "
   ]
  },
  {
   "cell_type": "markdown",
   "id": "6c6e8ccf",
   "metadata": {},
   "source": [
    "*Ejecutar esta celda solo la primera vez (si estan usando un entorno local - es la misma del lab 4) para descargar e instalar los paquetes necesarios. Si ejecutan el notebook en colab tendran que ejecutarla cada vez que reinicien el kernel*"
   ]
  },
  {
   "cell_type": "code",
   "execution_count": null,
   "id": "0f6ff98b",
   "metadata": {},
   "outputs": [],
   "source": [
    "# !apt install swig cmake\n",
    "# !pip install -r https://raw.githubusercontent.com/huggingface/deep-rl-class/main/notebooks/unit1/requirements-unit1.txt"
   ]
  },
  {
   "cell_type": "code",
   "execution_count": 1,
   "id": "25c02eca-0a57-49ae-ae7f-718bf912d858",
   "metadata": {},
   "outputs": [
    {
     "name": "stdout",
     "output_type": "stream",
     "text": [
      "cmake version 4.0.2\n",
      "\n",
      "CMake suite maintained and supported by Kitware (kitware.com/cmake).\n",
      "\n",
      "\n",
      "SWIG Version 4.3.1\n",
      "\n",
      "Compiled with x86_64-w64-mingw32-g++ [x86_64-w64-mingw32]\n",
      "\n",
      "Configured options: +pcre\n",
      "\n",
      "Please see https://www.swig.org for reporting bugs and further information\n",
      "\n"
     ]
    }
   ],
   "source": [
    "import subprocess\n",
    "\n",
    "print(subprocess.run([\"cmake\", \"--version\"], capture_output=True).stdout.decode())\n",
    "print(subprocess.run([\"swig\", \"-version\"], capture_output=True).stdout.decode())"
   ]
  },
  {
   "cell_type": "code",
   "execution_count": 2,
   "id": "3d8abcaf-fb8e-494a-a548-10b0cea4cd76",
   "metadata": {},
   "outputs": [
    {
     "name": "stdout",
     "output_type": "stream",
     "text": [
      "Requirement already satisfied: Box2D in c:\\users\\e090219\\appdata\\local\\miniconda3\\envs\\tar\\lib\\site-packages (2.3.10)\n"
     ]
    }
   ],
   "source": [
    "!pip install Box2D "
   ]
  },
  {
   "cell_type": "code",
   "execution_count": 3,
   "id": "655f5ecd-2e53-46e0-b373-1c736c381da7",
   "metadata": {},
   "outputs": [
    {
     "name": "stdout",
     "output_type": "stream",
     "text": [
      "2.3.10\n"
     ]
    }
   ],
   "source": [
    "import Box2D\n",
    "print(Box2D.__version__)"
   ]
  },
  {
   "cell_type": "code",
   "execution_count": 4,
   "id": "f4f94db3-69ea-46c7-a120-689a9b19d3ff",
   "metadata": {},
   "outputs": [
    {
     "name": "stdout",
     "output_type": "stream",
     "text": [
      "Requirement already satisfied: torch>=1.11 in c:\\users\\e090219\\appdata\\local\\miniconda3\\envs\\tar\\lib\\site-packages (2.7.1)\n",
      "Requirement already satisfied: gymnasium==0.28.1 in c:\\users\\e090219\\appdata\\local\\miniconda3\\envs\\tar\\lib\\site-packages (0.28.1)\n",
      "Requirement already satisfied: huggingface-hub~=0.8 in c:\\users\\e090219\\appdata\\local\\miniconda3\\envs\\tar\\lib\\site-packages (0.33.0)\n",
      "Requirement already satisfied: wasabi in c:\\users\\e090219\\appdata\\local\\miniconda3\\envs\\tar\\lib\\site-packages (1.1.3)\n",
      "Requirement already satisfied: numpy>=1.21.0 in c:\\users\\e090219\\appdata\\local\\miniconda3\\envs\\tar\\lib\\site-packages (from gymnasium==0.28.1) (2.2.5)\n",
      "Requirement already satisfied: jax-jumpy>=1.0.0 in c:\\users\\e090219\\appdata\\local\\miniconda3\\envs\\tar\\lib\\site-packages (from gymnasium==0.28.1) (1.0.0)\n",
      "Requirement already satisfied: cloudpickle>=1.2.0 in c:\\users\\e090219\\appdata\\local\\miniconda3\\envs\\tar\\lib\\site-packages (from gymnasium==0.28.1) (3.1.1)\n",
      "Requirement already satisfied: typing-extensions>=4.3.0 in c:\\users\\e090219\\appdata\\local\\miniconda3\\envs\\tar\\lib\\site-packages (from gymnasium==0.28.1) (4.12.2)\n",
      "Requirement already satisfied: farama-notifications>=0.0.1 in c:\\users\\e090219\\appdata\\local\\miniconda3\\envs\\tar\\lib\\site-packages (from gymnasium==0.28.1) (0.0.4)\n",
      "Requirement already satisfied: filelock in c:\\users\\e090219\\appdata\\local\\miniconda3\\envs\\tar\\lib\\site-packages (from torch>=1.11) (3.18.0)\n",
      "Requirement already satisfied: sympy>=1.13.3 in c:\\users\\e090219\\appdata\\local\\miniconda3\\envs\\tar\\lib\\site-packages (from torch>=1.11) (1.14.0)\n",
      "Requirement already satisfied: networkx in c:\\users\\e090219\\appdata\\local\\miniconda3\\envs\\tar\\lib\\site-packages (from torch>=1.11) (3.5)\n",
      "Requirement already satisfied: jinja2 in c:\\users\\e090219\\appdata\\local\\miniconda3\\envs\\tar\\lib\\site-packages (from torch>=1.11) (3.1.6)\n",
      "Requirement already satisfied: fsspec in c:\\users\\e090219\\appdata\\local\\miniconda3\\envs\\tar\\lib\\site-packages (from torch>=1.11) (2025.5.1)\n",
      "Requirement already satisfied: packaging>=20.9 in c:\\users\\e090219\\appdata\\local\\miniconda3\\envs\\tar\\lib\\site-packages (from huggingface-hub~=0.8) (24.2)\n",
      "Requirement already satisfied: pyyaml>=5.1 in c:\\users\\e090219\\appdata\\local\\miniconda3\\envs\\tar\\lib\\site-packages (from huggingface-hub~=0.8) (6.0.2)\n",
      "Requirement already satisfied: requests in c:\\users\\e090219\\appdata\\local\\miniconda3\\envs\\tar\\lib\\site-packages (from huggingface-hub~=0.8) (2.32.3)\n",
      "Requirement already satisfied: tqdm>=4.42.1 in c:\\users\\e090219\\appdata\\local\\miniconda3\\envs\\tar\\lib\\site-packages (from huggingface-hub~=0.8) (4.67.1)\n",
      "Requirement already satisfied: colorama>=0.4.6 in c:\\users\\e090219\\appdata\\local\\miniconda3\\envs\\tar\\lib\\site-packages (from wasabi) (0.4.6)\n",
      "Requirement already satisfied: mpmath<1.4,>=1.1.0 in c:\\users\\e090219\\appdata\\local\\miniconda3\\envs\\tar\\lib\\site-packages (from sympy>=1.13.3->torch>=1.11) (1.3.0)\n",
      "Requirement already satisfied: MarkupSafe>=2.0 in c:\\users\\e090219\\appdata\\local\\miniconda3\\envs\\tar\\lib\\site-packages (from jinja2->torch>=1.11) (3.0.2)\n",
      "Requirement already satisfied: charset-normalizer<4,>=2 in c:\\users\\e090219\\appdata\\local\\miniconda3\\envs\\tar\\lib\\site-packages (from requests->huggingface-hub~=0.8) (3.3.2)\n",
      "Requirement already satisfied: idna<4,>=2.5 in c:\\users\\e090219\\appdata\\local\\miniconda3\\envs\\tar\\lib\\site-packages (from requests->huggingface-hub~=0.8) (3.7)\n",
      "Requirement already satisfied: urllib3<3,>=1.21.1 in c:\\users\\e090219\\appdata\\local\\miniconda3\\envs\\tar\\lib\\site-packages (from requests->huggingface-hub~=0.8) (2.3.0)\n",
      "Requirement already satisfied: certifi>=2017.4.17 in c:\\users\\e090219\\appdata\\local\\miniconda3\\envs\\tar\\lib\\site-packages (from requests->huggingface-hub~=0.8) (2025.1.31)\n"
     ]
    }
   ],
   "source": [
    "!pip install \"torch>=1.11\" \"gymnasium==0.28.1\" huggingface-hub~=0.8 wasabi "
   ]
  },
  {
   "cell_type": "code",
   "execution_count": 5,
   "id": "124d5c36-635b-412c-b221-19fbde25868e",
   "metadata": {},
   "outputs": [
    {
     "name": "stdout",
     "output_type": "stream",
     "text": [
      "Requirement already satisfied: gymnasium in c:\\users\\e090219\\appdata\\local\\miniconda3\\envs\\tar\\lib\\site-packages (0.28.1)\n",
      "Requirement already satisfied: numpy>=1.21.0 in c:\\users\\e090219\\appdata\\local\\miniconda3\\envs\\tar\\lib\\site-packages (from gymnasium) (2.2.5)\n",
      "Requirement already satisfied: jax-jumpy>=1.0.0 in c:\\users\\e090219\\appdata\\local\\miniconda3\\envs\\tar\\lib\\site-packages (from gymnasium) (1.0.0)\n",
      "Requirement already satisfied: cloudpickle>=1.2.0 in c:\\users\\e090219\\appdata\\local\\miniconda3\\envs\\tar\\lib\\site-packages (from gymnasium) (3.1.1)\n",
      "Requirement already satisfied: typing-extensions>=4.3.0 in c:\\users\\e090219\\appdata\\local\\miniconda3\\envs\\tar\\lib\\site-packages (from gymnasium) (4.12.2)\n",
      "Requirement already satisfied: farama-notifications>=0.0.1 in c:\\users\\e090219\\appdata\\local\\miniconda3\\envs\\tar\\lib\\site-packages (from gymnasium) (0.0.4)\n"
     ]
    }
   ],
   "source": [
    "!pip install gymnasium "
   ]
  },
  {
   "cell_type": "code",
   "execution_count": 6,
   "id": "c5b9cab3-7c7d-4b00-939b-ed7fde725e47",
   "metadata": {},
   "outputs": [
    {
     "name": "stdout",
     "output_type": "stream",
     "text": [
      "Requirement already satisfied: pygame in c:\\users\\e090219\\appdata\\local\\miniconda3\\envs\\tar\\lib\\site-packages (2.6.1)\n"
     ]
    }
   ],
   "source": [
    "!pip install pygame --only-binary :all: "
   ]
  },
  {
   "cell_type": "code",
   "execution_count": 7,
   "id": "3aa1dbb9-2343-426a-9e0b-7400b4582eef",
   "metadata": {},
   "outputs": [
    {
     "name": "stdout",
     "output_type": "stream",
     "text": [
      "Requirement already satisfied: stable-baselines3==2.0.0a5 in c:\\users\\e090219\\appdata\\local\\miniconda3\\envs\\tar\\lib\\site-packages (2.0.0a5)\n",
      "Requirement already satisfied: huggingface_sb3 in c:\\users\\e090219\\appdata\\local\\miniconda3\\envs\\tar\\lib\\site-packages (3.0)\n",
      "Requirement already satisfied: swig in c:\\users\\e090219\\appdata\\local\\miniconda3\\envs\\tar\\lib\\site-packages (4.3.1)\n",
      "Requirement already satisfied: gymnasium==0.28.1 in c:\\users\\e090219\\appdata\\local\\miniconda3\\envs\\tar\\lib\\site-packages (from stable-baselines3==2.0.0a5) (0.28.1)\n",
      "Requirement already satisfied: numpy in c:\\users\\e090219\\appdata\\local\\miniconda3\\envs\\tar\\lib\\site-packages (from stable-baselines3==2.0.0a5) (2.2.5)\n",
      "Requirement already satisfied: torch>=1.11 in c:\\users\\e090219\\appdata\\local\\miniconda3\\envs\\tar\\lib\\site-packages (from stable-baselines3==2.0.0a5) (2.7.1)\n",
      "Requirement already satisfied: cloudpickle in c:\\users\\e090219\\appdata\\local\\miniconda3\\envs\\tar\\lib\\site-packages (from stable-baselines3==2.0.0a5) (3.1.1)\n",
      "Requirement already satisfied: pandas in c:\\users\\e090219\\appdata\\local\\miniconda3\\envs\\tar\\lib\\site-packages (from stable-baselines3==2.0.0a5) (2.2.3)\n",
      "Requirement already satisfied: matplotlib in c:\\users\\e090219\\appdata\\local\\miniconda3\\envs\\tar\\lib\\site-packages (from stable-baselines3==2.0.0a5) (3.10.1)\n",
      "Requirement already satisfied: jax-jumpy>=1.0.0 in c:\\users\\e090219\\appdata\\local\\miniconda3\\envs\\tar\\lib\\site-packages (from gymnasium==0.28.1->stable-baselines3==2.0.0a5) (1.0.0)\n",
      "Requirement already satisfied: typing-extensions>=4.3.0 in c:\\users\\e090219\\appdata\\local\\miniconda3\\envs\\tar\\lib\\site-packages (from gymnasium==0.28.1->stable-baselines3==2.0.0a5) (4.12.2)\n",
      "Requirement already satisfied: farama-notifications>=0.0.1 in c:\\users\\e090219\\appdata\\local\\miniconda3\\envs\\tar\\lib\\site-packages (from gymnasium==0.28.1->stable-baselines3==2.0.0a5) (0.0.4)\n",
      "Requirement already satisfied: huggingface-hub~=0.8 in c:\\users\\e090219\\appdata\\local\\miniconda3\\envs\\tar\\lib\\site-packages (from huggingface_sb3) (0.33.0)\n",
      "Requirement already satisfied: pyyaml~=6.0 in c:\\users\\e090219\\appdata\\local\\miniconda3\\envs\\tar\\lib\\site-packages (from huggingface_sb3) (6.0.2)\n",
      "Requirement already satisfied: wasabi in c:\\users\\e090219\\appdata\\local\\miniconda3\\envs\\tar\\lib\\site-packages (from huggingface_sb3) (1.1.3)\n",
      "Requirement already satisfied: filelock in c:\\users\\e090219\\appdata\\local\\miniconda3\\envs\\tar\\lib\\site-packages (from huggingface-hub~=0.8->huggingface_sb3) (3.18.0)\n",
      "Requirement already satisfied: fsspec>=2023.5.0 in c:\\users\\e090219\\appdata\\local\\miniconda3\\envs\\tar\\lib\\site-packages (from huggingface-hub~=0.8->huggingface_sb3) (2025.5.1)\n",
      "Requirement already satisfied: packaging>=20.9 in c:\\users\\e090219\\appdata\\local\\miniconda3\\envs\\tar\\lib\\site-packages (from huggingface-hub~=0.8->huggingface_sb3) (24.2)\n",
      "Requirement already satisfied: requests in c:\\users\\e090219\\appdata\\local\\miniconda3\\envs\\tar\\lib\\site-packages (from huggingface-hub~=0.8->huggingface_sb3) (2.32.3)\n",
      "Requirement already satisfied: tqdm>=4.42.1 in c:\\users\\e090219\\appdata\\local\\miniconda3\\envs\\tar\\lib\\site-packages (from huggingface-hub~=0.8->huggingface_sb3) (4.67.1)\n",
      "Requirement already satisfied: sympy>=1.13.3 in c:\\users\\e090219\\appdata\\local\\miniconda3\\envs\\tar\\lib\\site-packages (from torch>=1.11->stable-baselines3==2.0.0a5) (1.14.0)\n",
      "Requirement already satisfied: networkx in c:\\users\\e090219\\appdata\\local\\miniconda3\\envs\\tar\\lib\\site-packages (from torch>=1.11->stable-baselines3==2.0.0a5) (3.5)\n",
      "Requirement already satisfied: jinja2 in c:\\users\\e090219\\appdata\\local\\miniconda3\\envs\\tar\\lib\\site-packages (from torch>=1.11->stable-baselines3==2.0.0a5) (3.1.6)\n",
      "Requirement already satisfied: contourpy>=1.0.1 in c:\\users\\e090219\\appdata\\local\\miniconda3\\envs\\tar\\lib\\site-packages (from matplotlib->stable-baselines3==2.0.0a5) (1.3.2)\n",
      "Requirement already satisfied: cycler>=0.10 in c:\\users\\e090219\\appdata\\local\\miniconda3\\envs\\tar\\lib\\site-packages (from matplotlib->stable-baselines3==2.0.0a5) (0.12.1)\n",
      "Requirement already satisfied: fonttools>=4.22.0 in c:\\users\\e090219\\appdata\\local\\miniconda3\\envs\\tar\\lib\\site-packages (from matplotlib->stable-baselines3==2.0.0a5) (4.57.0)\n",
      "Requirement already satisfied: kiwisolver>=1.3.1 in c:\\users\\e090219\\appdata\\local\\miniconda3\\envs\\tar\\lib\\site-packages (from matplotlib->stable-baselines3==2.0.0a5) (1.4.8)\n",
      "Requirement already satisfied: pillow>=8 in c:\\users\\e090219\\appdata\\local\\miniconda3\\envs\\tar\\lib\\site-packages (from matplotlib->stable-baselines3==2.0.0a5) (11.2.1)\n",
      "Requirement already satisfied: pyparsing>=2.3.1 in c:\\users\\e090219\\appdata\\local\\miniconda3\\envs\\tar\\lib\\site-packages (from matplotlib->stable-baselines3==2.0.0a5) (3.2.3)\n",
      "Requirement already satisfied: python-dateutil>=2.7 in c:\\users\\e090219\\appdata\\local\\miniconda3\\envs\\tar\\lib\\site-packages (from matplotlib->stable-baselines3==2.0.0a5) (2.9.0.post0)\n",
      "Requirement already satisfied: pytz>=2020.1 in c:\\users\\e090219\\appdata\\local\\miniconda3\\envs\\tar\\lib\\site-packages (from pandas->stable-baselines3==2.0.0a5) (2025.2)\n",
      "Requirement already satisfied: tzdata>=2022.7 in c:\\users\\e090219\\appdata\\local\\miniconda3\\envs\\tar\\lib\\site-packages (from pandas->stable-baselines3==2.0.0a5) (2025.2)\n",
      "Requirement already satisfied: colorama>=0.4.6 in c:\\users\\e090219\\appdata\\local\\miniconda3\\envs\\tar\\lib\\site-packages (from wasabi->huggingface_sb3) (0.4.6)\n",
      "Requirement already satisfied: six>=1.5 in c:\\users\\e090219\\appdata\\local\\miniconda3\\envs\\tar\\lib\\site-packages (from python-dateutil>=2.7->matplotlib->stable-baselines3==2.0.0a5) (1.17.0)\n",
      "Requirement already satisfied: mpmath<1.4,>=1.1.0 in c:\\users\\e090219\\appdata\\local\\miniconda3\\envs\\tar\\lib\\site-packages (from sympy>=1.13.3->torch>=1.11->stable-baselines3==2.0.0a5) (1.3.0)\n",
      "Requirement already satisfied: MarkupSafe>=2.0 in c:\\users\\e090219\\appdata\\local\\miniconda3\\envs\\tar\\lib\\site-packages (from jinja2->torch>=1.11->stable-baselines3==2.0.0a5) (3.0.2)\n",
      "Requirement already satisfied: charset-normalizer<4,>=2 in c:\\users\\e090219\\appdata\\local\\miniconda3\\envs\\tar\\lib\\site-packages (from requests->huggingface-hub~=0.8->huggingface_sb3) (3.3.2)\n",
      "Requirement already satisfied: idna<4,>=2.5 in c:\\users\\e090219\\appdata\\local\\miniconda3\\envs\\tar\\lib\\site-packages (from requests->huggingface-hub~=0.8->huggingface_sb3) (3.7)\n",
      "Requirement already satisfied: urllib3<3,>=1.21.1 in c:\\users\\e090219\\appdata\\local\\miniconda3\\envs\\tar\\lib\\site-packages (from requests->huggingface-hub~=0.8->huggingface_sb3) (2.3.0)\n",
      "Requirement already satisfied: certifi>=2017.4.17 in c:\\users\\e090219\\appdata\\local\\miniconda3\\envs\\tar\\lib\\site-packages (from requests->huggingface-hub~=0.8->huggingface_sb3) (2025.1.31)\n"
     ]
    }
   ],
   "source": [
    "!pip install stable-baselines3==2.0.0a5 huggingface_sb3 swig "
   ]
  },
  {
   "cell_type": "code",
   "execution_count": 8,
   "id": "5588bc4c-6629-4c33-83df-b71ff5eab153",
   "metadata": {},
   "outputs": [
    {
     "name": "stdout",
     "output_type": "stream",
     "text": [
      "Requirement already satisfied: ipywidgets in c:\\users\\e090219\\appdata\\local\\miniconda3\\envs\\tar\\lib\\site-packages (8.1.7)\n",
      "Requirement already satisfied: comm>=0.1.3 in c:\\users\\e090219\\appdata\\local\\miniconda3\\envs\\tar\\lib\\site-packages (from ipywidgets) (0.2.1)\n",
      "Requirement already satisfied: ipython>=6.1.0 in c:\\users\\e090219\\appdata\\local\\miniconda3\\envs\\tar\\lib\\site-packages (from ipywidgets) (9.1.0)\n",
      "Requirement already satisfied: traitlets>=4.3.1 in c:\\users\\e090219\\appdata\\local\\miniconda3\\envs\\tar\\lib\\site-packages (from ipywidgets) (5.14.3)\n",
      "Requirement already satisfied: widgetsnbextension~=4.0.14 in c:\\users\\e090219\\appdata\\local\\miniconda3\\envs\\tar\\lib\\site-packages (from ipywidgets) (4.0.14)\n",
      "Requirement already satisfied: jupyterlab_widgets~=3.0.15 in c:\\users\\e090219\\appdata\\local\\miniconda3\\envs\\tar\\lib\\site-packages (from ipywidgets) (3.0.15)\n",
      "Requirement already satisfied: colorama in c:\\users\\e090219\\appdata\\local\\miniconda3\\envs\\tar\\lib\\site-packages (from ipython>=6.1.0->ipywidgets) (0.4.6)\n",
      "Requirement already satisfied: decorator in c:\\users\\e090219\\appdata\\local\\miniconda3\\envs\\tar\\lib\\site-packages (from ipython>=6.1.0->ipywidgets) (5.1.1)\n",
      "Requirement already satisfied: ipython-pygments-lexers in c:\\users\\e090219\\appdata\\local\\miniconda3\\envs\\tar\\lib\\site-packages (from ipython>=6.1.0->ipywidgets) (1.1.1)\n",
      "Requirement already satisfied: jedi>=0.16 in c:\\users\\e090219\\appdata\\local\\miniconda3\\envs\\tar\\lib\\site-packages (from ipython>=6.1.0->ipywidgets) (0.19.2)\n",
      "Requirement already satisfied: matplotlib-inline in c:\\users\\e090219\\appdata\\local\\miniconda3\\envs\\tar\\lib\\site-packages (from ipython>=6.1.0->ipywidgets) (0.1.6)\n",
      "Requirement already satisfied: prompt_toolkit<3.1.0,>=3.0.41 in c:\\users\\e090219\\appdata\\local\\miniconda3\\envs\\tar\\lib\\site-packages (from ipython>=6.1.0->ipywidgets) (3.0.43)\n",
      "Requirement already satisfied: pygments>=2.4.0 in c:\\users\\e090219\\appdata\\local\\miniconda3\\envs\\tar\\lib\\site-packages (from ipython>=6.1.0->ipywidgets) (2.19.1)\n",
      "Requirement already satisfied: stack_data in c:\\users\\e090219\\appdata\\local\\miniconda3\\envs\\tar\\lib\\site-packages (from ipython>=6.1.0->ipywidgets) (0.2.0)\n",
      "Requirement already satisfied: typing_extensions>=4.6 in c:\\users\\e090219\\appdata\\local\\miniconda3\\envs\\tar\\lib\\site-packages (from ipython>=6.1.0->ipywidgets) (4.12.2)\n",
      "Requirement already satisfied: parso<0.9.0,>=0.8.4 in c:\\users\\e090219\\appdata\\local\\miniconda3\\envs\\tar\\lib\\site-packages (from jedi>=0.16->ipython>=6.1.0->ipywidgets) (0.8.4)\n",
      "Requirement already satisfied: wcwidth in c:\\users\\e090219\\appdata\\local\\miniconda3\\envs\\tar\\lib\\site-packages (from prompt_toolkit<3.1.0,>=3.0.41->ipython>=6.1.0->ipywidgets) (0.2.5)\n",
      "Requirement already satisfied: executing in c:\\users\\e090219\\appdata\\local\\miniconda3\\envs\\tar\\lib\\site-packages (from stack_data->ipython>=6.1.0->ipywidgets) (0.8.3)\n",
      "Requirement already satisfied: asttokens in c:\\users\\e090219\\appdata\\local\\miniconda3\\envs\\tar\\lib\\site-packages (from stack_data->ipython>=6.1.0->ipywidgets) (3.0.0)\n",
      "Requirement already satisfied: pure-eval in c:\\users\\e090219\\appdata\\local\\miniconda3\\envs\\tar\\lib\\site-packages (from stack_data->ipython>=6.1.0->ipywidgets) (0.2.2)\n"
     ]
    }
   ],
   "source": [
    "!pip install ipywidgets "
   ]
  },
  {
   "cell_type": "code",
   "execution_count": 9,
   "id": "beae6a53-a591-47f7-a027-0c54051be114",
   "metadata": {},
   "outputs": [
    {
     "name": "stdout",
     "output_type": "stream",
     "text": [
      "🔎 Verificando dependencias:\n",
      "\n",
      "gymnasium            ➜ ✅ Encontrado, versión: 0.28.1\n",
      "Box2D                ➜ ✅ Encontrado, versión: 2.3.10\n",
      "pygame               ➜ ✅ Encontrado, versión: 2.6.1\n",
      "stable_baselines3    ➜ ✅ Encontrado, versión: 2.0.0a5\n",
      "huggingface_sb3      ➜ ✅ Encontrado, versión: ✅ (versión no disponible)\n",
      "swig                 ➜ ✅ Encontrado, versión: 4.3.1\n",
      "\n",
      "✅ Verificación completa.\n"
     ]
    }
   ],
   "source": [
    "import importlib\n",
    "import sys\n",
    "\n",
    "# Paquetes a verificar con sus nombres de importación\n",
    "required_packages = {\n",
    "    \"gymnasium\": \"gymnasium\",\n",
    "    \"Box2D\": \"Box2D\",\n",
    "    \"pygame\": \"pygame\",\n",
    "    \"stable_baselines3\": \"stable_baselines3\",\n",
    "    \"huggingface_sb3\": \"huggingface_sb3\",\n",
    "    \"swig\": \"swig\"\n",
    "}\n",
    "\n",
    "print(\"🔎 Verificando dependencias:\\n\")\n",
    "\n",
    "for name, module in required_packages.items():\n",
    "    try:\n",
    "        mod = importlib.import_module(module)\n",
    "        version = getattr(mod, \"__version__\", \"✅ (versión no disponible)\")\n",
    "        print(f\"{name:20} ➜ ✅ Encontrado, versión: {version}\")\n",
    "    except ModuleNotFoundError:\n",
    "        print(f\"{name:20} ➜ ❌ No encontrado\")\n",
    "    except Exception as e:\n",
    "        print(f\"{name:20} ➜ ⚠️ Error: {e}\")\n",
    "\n",
    "print(\"\\n✅ Verificación completa.\")"
   ]
  },
  {
   "cell_type": "code",
   "execution_count": 10,
   "id": "d9e07e7e-49ca-4f1c-8a3f-6cf10d35f881",
   "metadata": {},
   "outputs": [
    {
     "name": "stdout",
     "output_type": "stream",
     "text": [
      "Ambiente cargado 🎯\n"
     ]
    }
   ],
   "source": [
    "import gymnasium as gym\n",
    "env = gym.make(\"LunarLander-v2\", render_mode=\"rgb_array\")\n",
    "obs, info = env.reset()\n",
    "print(\"Ambiente cargado 🎯\")"
   ]
  },
  {
   "cell_type": "code",
   "execution_count": 15,
   "id": "964791d2-2cb5-4d9c-b7f5-bd990806ac43",
   "metadata": {},
   "outputs": [
    {
     "name": "stdout",
     "output_type": "stream",
     "text": [
      "Python 3.11.11\n"
     ]
    }
   ],
   "source": [
    "!python --version"
   ]
  },
  {
   "cell_type": "markdown",
   "id": "18ea7653",
   "metadata": {},
   "source": [
    "#### IMPORTS"
   ]
  },
  {
   "cell_type": "code",
   "execution_count": 16,
   "id": "1a37e5ab",
   "metadata": {},
   "outputs": [],
   "source": [
    "import gymnasium as gym\n",
    "import numpy as np\n",
    "import matplotlib.pyplot as plt\n",
    "from tqdm import tqdm"
   ]
  },
  {
   "cell_type": "markdown",
   "id": "7a36159a",
   "metadata": {},
   "source": [
    "## Ejercicio 1. Lunar Landing\n",
    "\n",
    "En este ejemplo entrenaremos un agente que aprenda a aterrizar correctamente una nave en la luna.\n",
    "Doc del ambiente: https://gymnasium.farama.org/environments/box2d/lunar_lander/\n"
   ]
  },
  {
   "cell_type": "markdown",
   "id": "a587de73",
   "metadata": {},
   "source": [
    "#### 1.1 Estudiar el ambiente"
   ]
  },
  {
   "cell_type": "code",
   "execution_count": 27,
   "id": "8b81f926",
   "metadata": {},
   "outputs": [
    {
     "name": "stdout",
     "output_type": "stream",
     "text": [
      "Tamaño del espacio de observación:  (8,)\n",
      "Tamaño del espacio de acción:  4\n"
     ]
    }
   ],
   "source": [
    "#TODO Definir el ambiente `LunarLander-v2` e imprimir el tamaño del espacio de observación y del espacio de acciones.\n",
    "\n",
    "env = gym.make(\"LunarLander-v2\", continuous=False, gravity=-1.62,\n",
    "               enable_wind=False, wind_power=15.0, turbulence_power=1.5)\n",
    "env.reset()\n",
    "\n",
    "tamaño_obs = env.observation_space.shape\n",
    "print(\"Tamaño del espacio de observación: \", tamaño_obs)\n",
    "\n",
    "tamaño_acciones = env.action_space.n\n",
    "print(\"Tamaño del espacio de acción: \", tamaño_acciones)"
   ]
  },
  {
   "cell_type": "markdown",
   "id": "b21826ea",
   "metadata": {},
   "source": [
    "El vector de **observación** corresponde a los siguientes parámetros de la nave:\n",
    "- posición en x\n",
    "- posición en y\n",
    "- velocidad lineal en x\n",
    "- velocidad lineal en y\n",
    "- ángulo\n",
    "- velocidad angular\n",
    "- variable binaria que representa si la pata izquierda toca el suelo o no\n",
    "- variable binaria que representa si la pata derecha toca el suelo o no\n",
    "\n",
    "\n",
    "Por otro lado, el espacio de **acciones** es:\n",
    "\n",
    "- Acción 0: no hacer nada\n",
    "- Acción 1: Encender el motor lateral izquierdo (empuja a la derecha)\n",
    "- Acción 2: Encender el motor principal (empuja hacia arriba)\n",
    "- Acción 3: Encender el motor lateral derecho (empuja a la izquierda)\n",
    "\n",
    "\n",
    "Función de **recompensa**:\n",
    "\n",
    "  Después de cada paso, se otorga una recompensa. La recompensa total de un episodio es la suma de las recompensas de todos los pasos dentro de ese episodio.\n",
    "\n",
    "  Para cada paso, la recompensa:\n",
    "\n",
    "- se incrementa/decrementa cuanto más cerca/más lejos esté la nave de la zona de aterrizaje\n",
    "- se incrementa/decrementa cuanto más lento/más rápido se mueva la nave\n",
    "- se decrementa cuanto más se incline la nave hacia los costados\n",
    "- se incrementa por 10 puntos para cada pata que toque el piso\n",
    "- se decrementa por 0.03 puntos por cada frame en que se use motor lateral\n",
    "- se decrementa por 0.3 puntos por cada frame en que se use el motor principal\n",
    "\n",
    "El episodio recibe una recompensa adicional de -100 si choca y +100 si aterriza de manera segura.\n",
    "\n",
    "Un episodio termina si:\n",
    "- la nave choca (el cuerpo principal, no las patas, de la nave entra en contacto con la luna)\n",
    "- la nave se sale del área visible (x sale de su rango)\n",
    "- la nave está en \"modo dormido\" (un cuerpo en \"modo dormido\" es uno que no se mueve y no choca con ningún otro cuerpo)"
   ]
  },
  {
   "cell_type": "markdown",
   "id": "aa3b0e18",
   "metadata": {},
   "source": [
    "##### Multi-procesamiento\n",
    "A continuación se vectoriza el ambiente para poder paralelizar el entrenamiento, (por suerte la libreria nos da las heramientas para lograr esto sin mucho esfuerzo)"
   ]
  },
  {
   "cell_type": "code",
   "execution_count": 29,
   "id": "37b3cbb8",
   "metadata": {},
   "outputs": [],
   "source": [
    "from stable_baselines3.common.env_util import make_vec_env\n",
    "\n",
    "# Create the environment\n",
    "env = make_vec_env('LunarLander-v2', n_envs=16)"
   ]
  },
  {
   "cell_type": "markdown",
   "id": "398af4b5",
   "metadata": {},
   "source": [
    "#### 1.2 Definir el modelo usando el modelo [Proximal Policy Optimization(PPO) de stable_baselines3](https://stable-baselines3.readthedocs.io/en/master/modules/ppo.html)\n",
    "\n",
    "Leer la documentación y variar diferentes hiperparámetros como `batch_size`, `gamma`, entre otros.\n",
    "\n",
    "¿Que tipo de metodo implementa?"
   ]
  },
  {
   "cell_type": "markdown",
   "id": "ff96fb8f",
   "metadata": {},
   "source": [
    "##### RESPUESTA --> \n",
    "PPO es un algoritmo de optimización de políticas:\n",
    "\n",
    "* Es on-policy (aprende de las acciones que realmente toma).\n",
    "* Pertenece a la familia de métodos de policy gradient.\n",
    "* Es una mejora de TRPO (Trust Region Policy Optimization), pero más simple.\n",
    "* Usa técnicas como clipping para limitar cuánto puede cambiar la política en cada actualización y así estabilizar el entrenamiento."
   ]
  },
  {
   "cell_type": "code",
   "execution_count": null,
   "id": "898f061e",
   "metadata": {},
   "outputs": [],
   "source": [
    "from stable_baselines3 import PPO\n",
    "\n",
    "# model = PPO(\"MlpPolicy\", env, verbose=1)\n",
    "\n",
    "model = PPO(\n",
    "    policy=\"MlpPolicy\", # MLP Perceptron\n",
    "    env=env,\n",
    "    verbose=1,\n",
    "    batch_size=64,\n",
    "    gamma=0.99,\n",
    "    n_steps=2048,\n",
    "    ent_coef=0.01,\n",
    "    learning_rate=3e-4\n",
    ")"
   ]
  },
  {
   "cell_type": "code",
   "execution_count": null,
   "id": "14190933-20d6-47ee-814a-37e1db3416c3",
   "metadata": {},
   "outputs": [],
   "source": [
    "!pip install comet-ml"
   ]
  },
  {
   "cell_type": "code",
   "execution_count": null,
   "id": "c384a577-fb24-42e3-a098-8be000fd8b00",
   "metadata": {},
   "outputs": [],
   "source": [
    "from comet_ml import Experiment\n",
    "\n",
    "experiment = Experiment(\n",
    "    api_key=\"TU_API_KEY\",\n",
    "    project_name=\"lunar-lander\",\n",
    "    workspace=\"TU_USUARIO\"\n",
    ")"
   ]
  },
  {
   "cell_type": "code",
   "execution_count": null,
   "id": "c3946ebe-33df-4244-bf90-8178b3de8de5",
   "metadata": {},
   "outputs": [],
   "source": [
    "# Inicialización del experimento (reemplazá con tu clave y proyecto)\n",
    "experiment = Experiment(\n",
    "    api_key=\"olHeoTp6comM3x5X987X7RuMm\",\n",
    "    project_name=\"taller8\",\n",
    "    workspace=\"florencia-roque\"\n",
    ")\n",
    "\n",
    "# Registrar métricas\n",
    "experiment.log_metric(f\"{dataset_name}_naive_MAE\", mae)\n",
    "experiment.log_metric(f\"{dataset_name}_naive_RMSLE\", rmsle)\n",
    "\n",
    "experiment.set_name(\"Naive Forecasting\")\n",
    "experiment.add_tag(\"baseline\")\n",
    "experiment.add_tag(\"naive\")\n",
    "experiment.log_other(\"descripcion\", \"Modelo base naive forecasting usando y[t] ≈ y[t−1]"
   ]
  },
  {
   "cell_type": "code",
   "execution_count": null,
   "id": "d0a7b6a2-7895-426b-9f51-ac66d790c821",
   "metadata": {},
   "outputs": [],
   "source": [
    "from stable_baselines3.common.callbacks import BaseCallback\n",
    "\n",
    "class CometCallback(BaseCallback):\n",
    "    def __init__(self, experiment, verbose=0):\n",
    "        super().__init__(verbose)\n",
    "        self.experiment = experiment\n",
    "\n",
    "    def _on_step(self):\n",
    "        self.experiment.log_metric(\"reward\", self.locals[\"rewards\"][0], step=self.num_timesteps)\n",
    "        return True\n"
   ]
  },
  {
   "cell_type": "code",
   "execution_count": null,
   "id": "6fe6ce31-fab1-4bc4-98b9-8387c3bd4371",
   "metadata": {},
   "outputs": [],
   "source": [
    "model.learn(total_timesteps=100_000, callback=CometCallback(experiment))\n"
   ]
  },
  {
   "cell_type": "code",
   "execution_count": null,
   "id": "b8a9643b",
   "metadata": {},
   "outputs": [],
   "source": [
    "# Entrenar por 1.000.000 timesteps\n",
    "\n",
    "#model.learn(total_timesteps=1000000)\n",
    "\n",
    "model_name = \"ppo-LunarLander-v2\"\n",
    "\n",
    "# Guardar el modelo\n",
    "#model.save(model_name)\n"
   ]
  },
  {
   "cell_type": "markdown",
   "id": "5afcaefb",
   "metadata": {},
   "source": [
    "#### 1.3 Evaluación del modelo:\n",
    "\n",
    "¿Como podemos evaluar si el agente aprendió a aterrizar la nave?"
   ]
  },
  {
   "cell_type": "markdown",
   "id": "b3d8298a",
   "metadata": {},
   "source": [
    "##### RESPUESTA --> "
   ]
  },
  {
   "cell_type": "code",
   "execution_count": null,
   "id": "a5c135b0",
   "metadata": {},
   "outputs": [],
   "source": [
    "from stable_baselines3.common.evaluation import evaluate_policy\n",
    "from stable_baselines3.common.monitor import Monitor\n",
    "\n",
    "eval_env = Monitor(gym.make(\"LunarLander-v2\", render_mode='rgb_array'))\n",
    "#mean_reward, std_reward = \n",
    "#print(f\"mean_reward={mean_reward:.2f} +/- {std_reward}\")"
   ]
  },
  {
   "cell_type": "markdown",
   "id": "1a4ece8b",
   "metadata": {},
   "source": [
    "#### 1.4 Correr el agente entrenado y guardar un video del aterrizaje\n",
    "\n",
    "si esto da error de timeout pueden generar un .py y correrlo desde consola para guardar el video"
   ]
  },
  {
   "cell_type": "code",
   "execution_count": null,
   "id": "78b71ef9",
   "metadata": {},
   "outputs": [],
   "source": [
    "import gymnasium as gym\n",
    "from stable_baselines3 import PPO\n",
    "from stable_baselines3.common.vec_env import DummyVecEnv\n",
    "from gymnasium.wrappers import RecordVideo\n",
    "\n",
    "# Load the trained model\n",
    "model = PPO.load(\"ppo-LunarLander-v2\")\n",
    "\n",
    "# Create the environment with the proper render_mode for video recording\n",
    "env = DummyVecEnv([lambda: RecordVideo(gym.make(\"LunarLander-v2\", render_mode=\"rgb_array\"), \"./videos/PPO\", episode_trigger=lambda x: True)])\n",
    "\n",
    "# Reset the environment to get the initial observation\n",
    "obs = env.reset()\n",
    "done = False\n",
    "\n",
    "# Play one episode to capture the video\n",
    "while not done:\n",
    "    action, _ = model.predict(obs)\n",
    "    obs, reward, done, info = env.step(action)\n",
    "    \n",
    "# Close the environment to save the video file\n",
    "env.close()\n",
    "\n",
    "print(\"Video saved in the './videos' directory.\")\n"
   ]
  },
  {
   "cell_type": "markdown",
   "id": "d0e7255c",
   "metadata": {},
   "source": [
    "## Ejercicio 2. Cart Pole\n",
    "\n",
    "En este ejemplo entrenaremos un agente que aprenda a equilibrar un poste sobre un carrito que se mueve sobre una linea.\n",
    "Doc del ambiente: https://gymnasium.farama.org/environments/classic_control/cart_pole/\n"
   ]
  },
  {
   "cell_type": "markdown",
   "id": "0ae0000b",
   "metadata": {},
   "source": [
    "#### 2.1 Estudiar el ambiente:\n",
    "\n",
    "¿Como son el espacio de acciones y el espacio de estados?"
   ]
  },
  {
   "cell_type": "markdown",
   "id": "b03fa5b8",
   "metadata": {},
   "source": [
    "##### RESPUESTA -->\n"
   ]
  },
  {
   "cell_type": "code",
   "execution_count": null,
   "id": "00ec641f",
   "metadata": {},
   "outputs": [],
   "source": [
    "#TODO Definir el ambiente e imprimir el tamaño del espacio de observación y del espacio de acciones.\n"
   ]
  },
  {
   "cell_type": "markdown",
   "id": "fdb8fae1",
   "metadata": {},
   "source": [
    "#### 2.2 Definir el modelo usando el modelo - A2C de stable_baselines3\n",
    "\n",
    "¿Que tipo de metodo implementa?"
   ]
  },
  {
   "cell_type": "markdown",
   "id": "ef11acb2",
   "metadata": {},
   "source": [
    "##### RESPUESTA --> "
   ]
  },
  {
   "cell_type": "code",
   "execution_count": null,
   "id": "f34d1c9f",
   "metadata": {},
   "outputs": [],
   "source": [
    "#TODO definir el modelo A2C "
   ]
  },
  {
   "cell_type": "markdown",
   "id": "750ffea4",
   "metadata": {},
   "source": [
    "#### 2.3 Vectorizar el ambiente y entrenar el modelo"
   ]
  },
  {
   "cell_type": "code",
   "execution_count": null,
   "id": "bac09e83",
   "metadata": {},
   "outputs": [],
   "source": [
    "#TODO vectorizar el ambiente y entrenar el agente A2C\n",
    "\n",
    "#...\n",
    "\n",
    "model_name = \"A2C-CartPole-v1\"\n",
    "\n",
    "# Guardar el modelo\n",
    "#model.save(model_name)"
   ]
  },
  {
   "cell_type": "markdown",
   "id": "d4383c87",
   "metadata": {},
   "source": [
    "##### ¿Comó se si mi modelo aprendió?\n",
    "\n",
    "##### ¿Comó son las recompensas?\n",
    "\n",
    "### RESPUESTA:"
   ]
  },
  {
   "cell_type": "markdown",
   "id": "56f4f7c9",
   "metadata": {},
   "source": [
    "#### 2.4 Evaluar el agente\n"
   ]
  },
  {
   "cell_type": "code",
   "execution_count": null,
   "id": "a5dcd079",
   "metadata": {},
   "outputs": [],
   "source": [
    "import gymnasium as gym\n",
    "from stable_baselines3 import A2C\n",
    "from stable_baselines3.common.vec_env import DummyVecEnv\n",
    "from gymnasium.wrappers import RecordVideo\n",
    "\n",
    "# Load the trained model\n",
    "model = A2C.load(\"A2C-CartPole-v1\")\n",
    "\n",
    "# Create the environment with the proper render_mode for video recording\n",
    "env = DummyVecEnv([lambda: RecordVideo(gym.make(\"CartPole-v1\", render_mode=\"rgb_array\"), \"./videos/A2C\", episode_trigger=lambda x: True)])\n",
    "\n",
    "# Reset the environment to get the initial observation\n",
    "obs = env.reset()\n",
    "done = False\n",
    "\n",
    "# Play one episode to capture the video\n",
    "while not done:\n",
    "    action, _ = model.predict(obs)\n",
    "    obs, reward, done, info = env.step(action)\n",
    "    \n",
    "# Close the environment to save the video file\n",
    "env.close()\n",
    "\n",
    "print(\"Video saved in the './videos' directory.\")"
   ]
  }
 ],
 "metadata": {
  "kernelspec": {
   "display_name": "Python 3 (ipykernel)",
   "language": "python",
   "name": "python3"
  },
  "language_info": {
   "codemirror_mode": {
    "name": "ipython",
    "version": 3
   },
   "file_extension": ".py",
   "mimetype": "text/x-python",
   "name": "python",
   "nbconvert_exporter": "python",
   "pygments_lexer": "ipython3",
   "version": "3.11.11"
  }
 },
 "nbformat": 4,
 "nbformat_minor": 5
}
